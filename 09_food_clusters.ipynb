{
 "cells": [
  {
   "cell_type": "markdown",
   "metadata": {},
   "source": [
    "This is the basis of the ingredient parser. We take each individual ingredient, remove common stop words and the most frequently used ingredients (ie. butter, salt, water, etc) and then cluster them to create categories of interchangeable ingredients. "
   ]
  },
  {
   "cell_type": "markdown",
   "metadata": {
    "heading_collapsed": true
   },
   "source": [
    "# Imports"
   ]
  },
  {
   "cell_type": "code",
   "execution_count": 3,
   "metadata": {
    "hidden": true
   },
   "outputs": [],
   "source": [
    "from sklearn.cluster import KMeans\n",
    "# Basics\n",
    "import numpy as np\n",
    "import pandas as pd\n",
    "import math\n",
    "import matplotlib.pyplot as plt\n",
    "%matplotlib inline\n",
    "import seaborn as sns\n",
    "import re\n",
    "import string\n",
    "import csv\n",
    "from os import path\n",
    "from PIL import Image\n",
    "from wordcloud import WordCloud, STOPWORDS\n",
    "from collections import Counter\n",
    "import pickle as pkl\n",
    "\n",
    "\n",
    "# natural language processing\n",
    "import nltk\n",
    "from textblob import TextBlob\n",
    "from nltk import word_tokenize, pos_tag, ne_chunk\n",
    "from nltk.corpus import stopwords\n",
    "from ingreedypy import Ingreedy\n",
    "\n",
    "# sklearn\n",
    "from sklearn.feature_extraction import text \n",
    "from sklearn.feature_extraction.text import CountVectorizer\n",
    "from sklearn.feature_extraction.text import TfidfVectorizer\n",
    "\n",
    "from sklearn.preprocessing import Normalizer\n",
    "from sklearn.preprocessing import scale\n",
    "from sklearn.utils import shuffle\n",
    "from sklearn.model_selection import train_test_split\n",
    "from sklearn.cluster import KMeans\n",
    "\n",
    "from sklearn.decomposition import PCA\n",
    "from sklearn.decomposition import TruncatedSVD\n",
    "\n",
    "from sklearn import metrics\n",
    "from sklearn.metrics import pairwise_distances\n",
    "from sklearn.metrics import silhouette_score\n",
    "from sklearn.metrics.pairwise import cosine_similarity\n",
    "\n",
    "# gensim\n",
    "from gensim import corpora, models, similarities, matutils\n",
    "\n",
    "# Other\n",
    "import warnings\n",
    "warnings.filterwarnings('ignore')"
   ]
  },
  {
   "cell_type": "markdown",
   "metadata": {
    "heading_collapsed": true
   },
   "source": [
    "# Data"
   ]
  },
  {
   "cell_type": "code",
   "execution_count": 2,
   "metadata": {
    "collapsed": true,
    "hidden": true
   },
   "outputs": [],
   "source": [
    "df_vec = pd.read_pickle('df_07_2_vecs.pkl')\n",
    "df_cbow = pd.read_pickle('df_07_2.pkl')"
   ]
  },
  {
   "cell_type": "code",
   "execution_count": 3,
   "metadata": {
    "collapsed": true,
    "hidden": true
   },
   "outputs": [],
   "source": [
    "df = pd.DataFrame()"
   ]
  },
  {
   "cell_type": "code",
   "execution_count": 4,
   "metadata": {
    "collapsed": true,
    "hidden": true
   },
   "outputs": [],
   "source": [
    "df['vec'] = df_vec.ingredient_avg\n",
    "df['vec_list'] = df_vec.ingredient_ind\n",
    "df['cbow'] = df_cbow.ingredients\n",
    "df['title'] = df_cbow.title"
   ]
  },
  {
   "cell_type": "code",
   "execution_count": 5,
   "metadata": {
    "collapsed": true,
    "hidden": true
   },
   "outputs": [],
   "source": [
    "df.dropna(inplace=True)"
   ]
  },
  {
   "cell_type": "code",
   "execution_count": 6,
   "metadata": {
    "hidden": true
   },
   "outputs": [
    {
     "data": {
      "text/plain": [
       "False"
      ]
     },
     "execution_count": 6,
     "metadata": {},
     "output_type": "execute_result"
    }
   ],
   "source": [
    "df.vec.isnull().any()"
   ]
  },
  {
   "cell_type": "markdown",
   "metadata": {
    "heading_collapsed": true
   },
   "source": [
    "# Keep only nouns"
   ]
  },
  {
   "cell_type": "code",
   "execution_count": 7,
   "metadata": {
    "collapsed": true,
    "hidden": true
   },
   "outputs": [],
   "source": [
    "nouns = ['NN','NNS']\n",
    "only_nouns = []\n",
    "# only_nouns_vecs = []\n",
    "for i in range(len(df)):\n",
    "    for j, ing in enumerate(df.iloc[i].cbow):\n",
    "        temp_pos = pos_tag(ing)\n",
    "        temp = [x[0] for x in temp_pos if x[1] in nouns]\n",
    "#         print(len(ing), len(df.iloc[i].vec_list))\n",
    "        try:\n",
    "#             only_nouns_vecs.append(df.iloc[i].vec_list[j])\n",
    "            only_nouns.append(temp)\n",
    "        except:\n",
    "            pass"
   ]
  },
  {
   "cell_type": "code",
   "execution_count": null,
   "metadata": {
    "collapsed": true,
    "hidden": true
   },
   "outputs": [],
   "source": []
  },
  {
   "cell_type": "markdown",
   "metadata": {
    "heading_collapsed": true
   },
   "source": [
    "# Filter Essential Ingredients Out"
   ]
  },
  {
   "cell_type": "code",
   "execution_count": 8,
   "metadata": {
    "collapsed": true,
    "hidden": true
   },
   "outputs": [],
   "source": [
    "# ESSENTIAL INGREDIENTS:\n",
    "essentials = ['flour','butter','salt','baking_soda','baking_powder','olive_oil','water','kosher_salt',\n",
    "             'eggs','egg','sugar','brown_sugar','granulated_sugar','garlic','garlic_cloves','garlic_clove',\n",
    "             'ice','equipment','unsalted_butter', 'unsalted_butter', 'cloves_garlic', 'melted_butter', 'oil',\n",
    "             'pepper','egg_yolk','egg_white','egg_yolks','egg_whites']\n"
   ]
  },
  {
   "cell_type": "code",
   "execution_count": 9,
   "metadata": {
    "hidden": true
   },
   "outputs": [
    {
     "data": {
      "text/plain": [
       "178437"
      ]
     },
     "execution_count": 9,
     "metadata": {},
     "output_type": "execute_result"
    }
   ],
   "source": [
    "len(only_nouns)"
   ]
  },
  {
   "cell_type": "code",
   "execution_count": 10,
   "metadata": {
    "collapsed": true,
    "hidden": true
   },
   "outputs": [],
   "source": [
    "# To form clusters of non-essential ingredients:\n",
    "# go through list of ingredient cbows and remove ingredients that have the essentials in them\n",
    "# also remove ingredients that are longer than four words long (usually not necessary)\n",
    "# use kmeans to cluster them into 2-15-ish types of ingredients\n",
    "# use word frequencies to determine which words are ingredients in each cluster and which are extraneous\n",
    "# . --> these words list become the ingredients lists for each food type (instead of the manual dictionaires i made)\n",
    "# pca to 3 topics, plot with tableau"
   ]
  },
  {
   "cell_type": "code",
   "execution_count": 11,
   "metadata": {
    "collapsed": true,
    "hidden": true
   },
   "outputs": [],
   "source": [
    "# IF SUCCESSFUL:\n",
    "# use clusters in ingredient parser to identify ingredients and replace them with similar items"
   ]
  },
  {
   "cell_type": "code",
   "execution_count": 12,
   "metadata": {
    "collapsed": true,
    "hidden": true,
    "scrolled": true
   },
   "outputs": [],
   "source": [
    "non_essentials=[]\n",
    "# non_ess_vecs = []\n",
    "for i in range(len(only_nouns)):\n",
    "    temp = []\n",
    "    for word in only_nouns[i]:\n",
    "        if word not in essentials:\n",
    "            temp.append(word)\n",
    "#     print(temp, only_nouns[i])\n",
    "    if len(temp) == len(only_nouns[i]) and len(temp) != 0:\n",
    "        try:\n",
    "#             non_ess_vecs.append(only_nouns_vecs[i])\n",
    "            non_essentials.append(temp)\n",
    "        except:\n",
    "            pass\n",
    "    "
   ]
  },
  {
   "cell_type": "code",
   "execution_count": 13,
   "metadata": {
    "hidden": true
   },
   "outputs": [
    {
     "data": {
      "text/plain": [
       "119500"
      ]
     },
     "execution_count": 13,
     "metadata": {},
     "output_type": "execute_result"
    }
   ],
   "source": [
    "len(non_essentials)"
   ]
  },
  {
   "cell_type": "markdown",
   "metadata": {},
   "source": [
    "# Word2Vec"
   ]
  },
  {
   "cell_type": "code",
   "execution_count": 88,
   "metadata": {
    "collapsed": true
   },
   "outputs": [],
   "source": [
    "import gensim\n",
    "google_vec_file = '/Users/carliebadder/Downloads/GoogleNews-vectors-negative300.bin'\n",
    "goog = gensim.models.KeyedVectors.load_word2vec_format(google_vec_file, binary=True)"
   ]
  },
  {
   "cell_type": "code",
   "execution_count": 17,
   "metadata": {
    "collapsed": true
   },
   "outputs": [],
   "source": [
    "# import gensim\n",
    "\n",
    "# with open('epicurious_texts.pkl', 'rb') as f:\n",
    "#     epicurious_texts = pkl.load(f)"
   ]
  },
  {
   "cell_type": "code",
   "execution_count": 18,
   "metadata": {
    "collapsed": true
   },
   "outputs": [],
   "source": [
    "# model = gensim.models.Word2Vec(epicurious_texts, size=200, window=5, min_count=1, workers=2, sg=1)"
   ]
  },
  {
   "cell_type": "code",
   "execution_count": 19,
   "metadata": {
    "collapsed": true
   },
   "outputs": [],
   "source": [
    "# word_vectors = model.wv\n",
    "# with open('word_vectors.pkl', 'wb') as f:\n",
    "#     pkl.dump(word_vectors, f)"
   ]
  },
  {
   "cell_type": "code",
   "execution_count": 4,
   "metadata": {
    "collapsed": true
   },
   "outputs": [],
   "source": [
    "with open('word_vectors.pkl', 'rb') as f:\n",
    "    w2v = pkl.load(f)"
   ]
  },
  {
   "cell_type": "code",
   "execution_count": 15,
   "metadata": {
    "collapsed": true
   },
   "outputs": [],
   "source": [
    "def document_vector(word2vec_model, doc):\n",
    "    # remove out-of-vocabulary words\n",
    "    doc = [word for word in doc if word in w2v]\n",
    "#     print(doc)\n",
    "    return np.mean(word2vec_model[doc], axis=0)"
   ]
  },
  {
   "cell_type": "code",
   "execution_count": 16,
   "metadata": {
    "collapsed": true
   },
   "outputs": [],
   "source": [
    "non_essentials = [[w for w in x if w in w2v] for x in non_essentials]"
   ]
  },
  {
   "cell_type": "code",
   "execution_count": 17,
   "metadata": {
    "collapsed": true
   },
   "outputs": [],
   "source": [
    "non_essentials = [w for w in non_essentials if w != []]"
   ]
  },
  {
   "cell_type": "code",
   "execution_count": 18,
   "metadata": {
    "collapsed": true
   },
   "outputs": [],
   "source": [
    "non_ess_vecs = []\n",
    "for ing in non_essentials:\n",
    "    non_ess_vecs.append(document_vector(w2v,ing))"
   ]
  },
  {
   "cell_type": "code",
   "execution_count": 19,
   "metadata": {},
   "outputs": [
    {
     "data": {
      "text/plain": [
       "(119493, 119493)"
      ]
     },
     "execution_count": 19,
     "metadata": {},
     "output_type": "execute_result"
    }
   ],
   "source": [
    "len(non_ess_vecs), len(non_essentials)"
   ]
  },
  {
   "cell_type": "code",
   "execution_count": null,
   "metadata": {
    "collapsed": true
   },
   "outputs": [],
   "source": []
  },
  {
   "cell_type": "markdown",
   "metadata": {},
   "source": [
    "# Kmeans Clustering"
   ]
  },
  {
   "cell_type": "markdown",
   "metadata": {
    "heading_collapsed": true
   },
   "source": [
    "## Ingredients"
   ]
  },
  {
   "cell_type": "code",
   "execution_count": 26,
   "metadata": {
    "collapsed": true,
    "hidden": true
   },
   "outputs": [],
   "source": [
    "vstack = np.vstack(non_ess_vecs)"
   ]
  },
  {
   "cell_type": "code",
   "execution_count": 27,
   "metadata": {
    "collapsed": true,
    "hidden": true
   },
   "outputs": [],
   "source": [
    "km = KMeans(n_clusters=20)"
   ]
  },
  {
   "cell_type": "code",
   "execution_count": 28,
   "metadata": {
    "hidden": true
   },
   "outputs": [
    {
     "data": {
      "text/plain": [
       "KMeans(algorithm='auto', copy_x=True, init='k-means++', max_iter=300,\n",
       "    n_clusters=20, n_init=10, n_jobs=1, precompute_distances='auto',\n",
       "    random_state=None, tol=0.0001, verbose=0)"
      ]
     },
     "execution_count": 28,
     "metadata": {},
     "output_type": "execute_result"
    }
   ],
   "source": [
    "km.fit(vstack)"
   ]
  },
  {
   "cell_type": "code",
   "execution_count": 29,
   "metadata": {
    "hidden": true
   },
   "outputs": [
    {
     "data": {
      "text/plain": [
       "array([[    0,  1583],\n",
       "       [    1, 20573],\n",
       "       [    2,  8537],\n",
       "       [    3,  2041],\n",
       "       [    4,  9870],\n",
       "       [    5,  3861],\n",
       "       [    6,  7118],\n",
       "       [    7,  4593],\n",
       "       [    8,  7006],\n",
       "       [    9, 12994],\n",
       "       [   10,  1526],\n",
       "       [   11,  9077],\n",
       "       [   12,  1806],\n",
       "       [   13,  7068],\n",
       "       [   14,  3156],\n",
       "       [   15,  8968],\n",
       "       [   16,  1151],\n",
       "       [   17,  2078],\n",
       "       [   18,  5987],\n",
       "       [   19,   500]])"
      ]
     },
     "execution_count": 29,
     "metadata": {},
     "output_type": "execute_result"
    }
   ],
   "source": [
    "unique, counts = np.unique(km.labels_, return_counts=True)\n",
    "np.asarray((unique, counts)).T"
   ]
  },
  {
   "cell_type": "code",
   "execution_count": 30,
   "metadata": {
    "collapsed": true,
    "hidden": true
   },
   "outputs": [],
   "source": [
    "df_clusters = pd.DataFrame()\n",
    "df_clusters['ing'] = non_essentials\n",
    "df_clusters['label'] = km.labels_\n",
    "df_clusters['vec'] = non_ess_vecs"
   ]
  },
  {
   "cell_type": "code",
   "execution_count": 31,
   "metadata": {
    "collapsed": true,
    "hidden": true
   },
   "outputs": [],
   "source": [
    "df_clusters.to_pickle('df_clusters.pkl')"
   ]
  },
  {
   "cell_type": "code",
   "execution_count": 25,
   "metadata": {
    "collapsed": true,
    "hidden": true
   },
   "outputs": [],
   "source": [
    "df_clusters2 = pd.read_pickle('df_clusters.pkl')"
   ]
  },
  {
   "cell_type": "code",
   "execution_count": 32,
   "metadata": {
    "collapsed": true,
    "hidden": true
   },
   "outputs": [],
   "source": [
    "# 0: baking addins/alcohol, 1: onions, 2: citrus juice, 3: broth/liquids,\n",
    "# 4: veg, 5: vinegars/condiments, 6: cream/fruit , 7: herbs, 8: herbs, 9: meat/veg, \n",
    "# 10: baking-ing, 11: bell_pepper, 12: spices, 13: scallions, \n",
    "# 14: warm spices, 15: whipping_cream, 16: nuts/add-ins, 17: cheese, 18: milk,\n",
    "# 19: herbs"
   ]
  },
  {
   "cell_type": "code",
   "execution_count": 91,
   "metadata": {
    "hidden": true
   },
   "outputs": [],
   "source": [
    "x = (list(df_clusters[df_clusters['label']==14]['ing']))#[10000:11000]\n",
    "# x"
   ]
  },
  {
   "cell_type": "code",
   "execution_count": 92,
   "metadata": {
    "collapsed": true,
    "hidden": true
   },
   "outputs": [],
   "source": [
    "from collections import defaultdict\n",
    "d = defaultdict(int)\n",
    "for w in x:\n",
    "    ww = ' '.join(w)\n",
    "    d[ww]+=1"
   ]
  },
  {
   "cell_type": "code",
   "execution_count": 93,
   "metadata": {
    "hidden": true
   },
   "outputs": [
    {
     "data": {
      "text/plain": [
       "(45, 3156)"
      ]
     },
     "execution_count": 93,
     "metadata": {},
     "output_type": "execute_result"
    }
   ],
   "source": [
    "len(d), len(x)"
   ]
  },
  {
   "cell_type": "code",
   "execution_count": 94,
   "metadata": {
    "hidden": true,
    "scrolled": true
   },
   "outputs": [
    {
     "data": {
      "text/plain": [
       "[('cinnamon', 1348),\n",
       " ('nutmeg', 573),\n",
       " ('cloves', 469),\n",
       " ('allspice', 345),\n",
       " ('cardamom', 181),\n",
       " ('star_anise', 94),\n",
       " ('cinnamon broken', 53),\n",
       " ('star_anise pods', 20),\n",
       " ('cinnamon inches', 8),\n",
       " ('star_anise pod', 7),\n",
       " ('cinnamon garnish', 5),\n",
       " ('cinnamon cinnamon', 4),\n",
       " ('cinnamon taste', 4),\n",
       " ('canela cinnamon', 4),\n",
       " ('cardamom pod', 3),\n",
       " ('mace nutmeg', 3),\n",
       " ('nutmeg nutmeg', 3),\n",
       " ('star_anise star_anise', 2),\n",
       " ('lemon cloves', 2),\n",
       " ('cloves cloves', 2),\n",
       " ('orange cloves', 2),\n",
       " ('star_anise nutmeg', 1),\n",
       " ('cinnamon ceylon', 1),\n",
       " ('baharat cinnamon', 1),\n",
       " ('canela cinnamon broken', 1),\n",
       " ('level cinnamon', 1),\n",
       " ('cassia_bark cinnamon', 1),\n",
       " ('lemon_juice cinnamon', 1),\n",
       " ('cinnamon ice_cream', 1),\n",
       " ('cm cinnamon', 1),\n",
       " ('cloves cloves ham', 1),\n",
       " ('teasoon cinnamon', 1),\n",
       " ('cinnamon flavor', 1),\n",
       " ('lemon_peel cloves', 1),\n",
       " ('cinnamon graham_crackers', 1),\n",
       " ('cinnamon see', 1),\n",
       " ('cloves pan', 1),\n",
       " ('cinnamon chocolate_sauce', 1),\n",
       " ('cinnamon dusting', 1),\n",
       " ('pinches cloves', 1),\n",
       " ('clove cloves', 1),\n",
       " ('allspice allspice', 1),\n",
       " ('cardamom garnish', 1),\n",
       " ('cloves cheesecloth', 1),\n",
       " ('cloves taste', 1)]"
      ]
     },
     "execution_count": 94,
     "metadata": {},
     "output_type": "execute_result"
    }
   ],
   "source": [
    "Counter(d).most_common()"
   ]
  },
  {
   "cell_type": "markdown",
   "metadata": {
    "heading_collapsed": true
   },
   "source": [
    "## spice pca"
   ]
  },
  {
   "cell_type": "code",
   "execution_count": 54,
   "metadata": {
    "hidden": true
   },
   "outputs": [],
   "source": [
    "spice_list = ['cumin','allspice','black_peppercorns','coriander','fennel_seeds','chili_powder','turmeric']\n",
    "spice_vecs = [model[w] for w in spice_list]\n",
    "spice_vecs_stack = np.vstack(spice_vecs)"
   ]
  },
  {
   "cell_type": "code",
   "execution_count": 152,
   "metadata": {
    "hidden": true
   },
   "outputs": [],
   "source": [
    "from sklearn.preprocessing import Normalizer\n",
    "from sklearn.decomposition import PCA\n",
    "\n",
    "spice_pca = (PCA(n_components=3))\n",
    "spice_pca_res = (spice_pca.fit_transform(spice_vecs_stack))\n"
   ]
  },
  {
   "cell_type": "code",
   "execution_count": 153,
   "metadata": {
    "hidden": true
   },
   "outputs": [
    {
     "data": {
      "image/png": "[encoded data removed]",
      "text/plain": [
       "<matplotlib.figure.Figure at 0x154d73780>"
      ]
     },
     "metadata": {},
     "output_type": "display_data"
    }
   ],
   "source": [
    "plt.subplots(figsize=(10,10))\n",
    "plt.subplots_adjust(bottom = 0.1)\n",
    "plt.scatter(\n",
    "    spice_pca_res[:, 0], spice_pca_res[:, 1], marker='o', c='r', s=200)\n",
    "\n",
    "for label, x, y in zip(spice_list, spice_pca_res[:, 0], spice_pca_res[:, 1]):\n",
    "    plt.annotate(\n",
    "        label,\n",
    "        xy=(x, y), xytext=(-20, 20),\n",
    "        textcoords='offset points', ha='right', va='bottom',fontsize=18,\n",
    "        bbox=dict(boxstyle='round,pad=0.25', fc='white', alpha=0.9),\n",
    "        arrowprops=dict(arrowstyle = '->', connectionstyle='arc3,rad=0'))\n",
    "\n",
    "plt.xlabel('PCA-X', fontsize=18)\n",
    "plt.ylabel('PCA-Y', fontsize=18)\n",
    "plt.title('Food2Vec: Spices in Vector Space',fontsize=28)\n",
    "plt.show()\n"
   ]
  },
  {
   "cell_type": "markdown",
   "metadata": {
    "heading_collapsed": true
   },
   "source": [
    "## Veg pca"
   ]
  },
  {
   "cell_type": "code",
   "execution_count": 129,
   "metadata": {
    "hidden": true
   },
   "outputs": [],
   "source": [
    "veg_list = ['cucumber','avocado','lettuce',\n",
    "           'milk','cream','coconut_milk']\n",
    "veg_colors = ['g','g','g',\n",
    "             'b','b','b']\n",
    "veg_vecs = [model[w] for w in veg_list]\n",
    "veg_vecs_stack = np.vstack(veg_vecs)"
   ]
  },
  {
   "cell_type": "code",
   "execution_count": 130,
   "metadata": {
    "collapsed": true,
    "hidden": true
   },
   "outputs": [],
   "source": [
    "veg_pca = PCA(n_components=3)\n",
    "veg_pca_res = veg_pca.fit_transform(veg_vecs_stack)"
   ]
  },
  {
   "cell_type": "code",
   "execution_count": 137,
   "metadata": {
    "collapsed": true,
    "hidden": true
   },
   "outputs": [],
   "source": [
    "# normalize to create the circle image - maybe use images instead of text labels"
   ]
  },
  {
   "cell_type": "code",
   "execution_count": 136,
   "metadata": {
    "hidden": true
   },
   "outputs": [
    {
     "data": {
      "image/png": "[encoded data removed]",
      "text/plain": [
       "<matplotlib.figure.Figure at 0x154651128>"
      ]
     },
     "metadata": {},
     "output_type": "display_data"
    }
   ],
   "source": [
    "plt.subplots(figsize=(10,10))\n",
    "plt.subplots_adjust(bottom = 0.1)\n",
    "plt.scatter(\n",
    "    veg_pca_res[:, 0], veg_pca_res[:, 1], marker='o', c=veg_colors, s=200)\n",
    "\n",
    "for label, x, y in zip(veg_list, veg_pca_res[:, 0], veg_pca_res[:, 1]):\n",
    "    plt.annotate(\n",
    "        label,\n",
    "        xy=(x, y), xytext=(-20, 20),\n",
    "        textcoords='offset points', ha='right', va='bottom',fontsize=18,\n",
    "        bbox=dict(boxstyle='round,pad=0.25', fc='white', alpha=0.9),\n",
    "        arrowprops=dict(arrowstyle = '->', connectionstyle='arc3,rad=0'))\n",
    "\n",
    "ax = plt.gca()\n",
    "ax.set_facecolor('white')\n",
    "ax.set_frame_on('b')\n",
    "plt.xlabel('PCA-X', fontsize=18)\n",
    "plt.ylabel('PCA-Y', fontsize=18)\n",
    "plt.title('Food2Vec: Vegetables vs. Dairy in Vector Space',fontsize=28, y=1.08)\n",
    "# plt.show()\n",
    "plt.savefig('vegvdairy.png',transparent=True)"
   ]
  },
  {
   "cell_type": "code",
   "execution_count": null,
   "metadata": {
    "collapsed": true,
    "hidden": true
   },
   "outputs": [],
   "source": []
  },
  {
   "cell_type": "markdown",
   "metadata": {},
   "source": [
    "## PCA for Clusters and Centroids"
   ]
  },
  {
   "cell_type": "code",
   "execution_count": null,
   "metadata": {
    "collapsed": true
   },
   "outputs": [],
   "source": [
    "# normalizer = Normalizer().fit(spice_vecs_stack)\n",
    "# spice_pca = (PCA(n_components=3))\n",
    "# spice_pca_res = (spice_pca.fit_transform(spice_vecs_stack))\n",
    "# spice_pca_res = normalizer.transform(spice_pca_res)"
   ]
  },
  {
   "cell_type": "code",
   "execution_count": 161,
   "metadata": {
    "collapsed": true
   },
   "outputs": [],
   "source": [
    "# PCA\n",
    "from sklearn.preprocessing import Normalizer\n",
    "from sklearn.decomposition import PCA\n",
    "\n",
    "pca = PCA(n_components=2)\n",
    "pca_result = pca.fit_transform(vstack)\n",
    "pca_result = normalizer.transform(pca_result)"
   ]
  },
  {
   "cell_type": "code",
   "execution_count": 162,
   "metadata": {
    "collapsed": true
   },
   "outputs": [],
   "source": [
    "df_pca = pd.DataFrame(columns=['pca1','pca2','ing']) #'pca3',\n",
    "df_pca['pca1'] = pca_result[:,0]\n",
    "df_pca['pca2'] = pca_result[:,1]\n",
    "# df_pca['pca3'] = pca_result[:,2]\n",
    "df_pca['ing'] = non_essentials\n",
    "df_pca['clusters'] = df_clusters.label\n"
   ]
  },
  {
   "cell_type": "code",
   "execution_count": 693,
   "metadata": {
    "collapsed": true
   },
   "outputs": [],
   "source": [
    "df_pca.to_csv('df_pca_ing_norm2.csv')"
   ]
  },
  {
   "cell_type": "code",
   "execution_count": null,
   "metadata": {
    "collapsed": true
   },
   "outputs": [],
   "source": [
    "# 0: baking addins/alcohol, 1: onions, 2: citrus juice, 3: broth/liquids,\n",
    "# 4: veg, 5: vinegars/condiments, 6: cream/fruit , 7: herbs, 8: herbs, 9: meat/veg, \n",
    "# 10: baking-ing, 11: bell_pepper, 12: spices, 13: scallions, \n",
    "# 14: warm spices, 15: whipping_cream, 16: nuts/add-ins, 17: cheese, 18: milk,\n",
    "# 19: herbs"
   ]
  },
  {
   "cell_type": "code",
   "execution_count": null,
   "metadata": {},
   "outputs": [],
   "source": [
    "plt.figure(figsize=(10,10));\n",
    "pcax = 0\n",
    "pcay = 1\n",
    "aa = 0.4\n",
    "# cc = ['b','g','y','w','k','c','m','grey','r','violet',\n",
    "#       'plum','olive','chocolate','wheat','lime',\n",
    "#       'teal','aqua','steelblue','salmon','crimson']\n",
    "cc = ['chocolate','lime','r','grey','olive','chocolate','chocolate','m','grey',\n",
    "     'g','b','chocolate','g','g','grey','aqua','chocolate','g','aqua','aqua']\n",
    "sps = [12,14]\n",
    "herbs = [7,8,19]\n",
    "veg = [1,4,11,13]\n",
    "dai = [15,18,6]\n",
    "cond = [3,5]\n",
    "\n",
    "for i in cond: #20):\n",
    "    plt.scatter(pca_result[df_clusters.label==i,pcax], pca_result[df_clusters.label==i,pcay],\n",
    "           c=cc[i],alpha=aa,s=200);\n"
   ]
  },
  {
   "cell_type": "code",
   "execution_count": 397,
   "metadata": {
    "collapsed": true
   },
   "outputs": [],
   "source": [
    "centroids = {}\n",
    "for i in range(20):\n",
    "    temp = df_clusters[df_clusters.label == i].vec\n",
    "    tempv = np.vstack(temp)\n",
    "    centroids[i] = np.mean(tempv, axis=0)"
   ]
  },
  {
   "cell_type": "code",
   "execution_count": 400,
   "metadata": {},
   "outputs": [
    {
     "data": {
      "text/plain": [
       "array([[ 0.96315724]], dtype=float32)"
      ]
     },
     "execution_count": 400,
     "metadata": {},
     "output_type": "execute_result"
    }
   ],
   "source": [
    "cosine_similarity(w2v['onion'],centroids[1])"
   ]
  },
  {
   "cell_type": "code",
   "execution_count": 680,
   "metadata": {
    "collapsed": true
   },
   "outputs": [],
   "source": [
    "ing_types = ['mustards','green_onions','baking_ing','vegetables','herbs','milk',\n",
    "            'ginger','spices','citrus_juice','whipping_cream','citrus_fruits','baking_adds',\n",
    "            'grains','cheese','onion','bell_peppers','vinegars','fruits','meats','wine/sauce']\n"
   ]
  },
  {
   "cell_type": "code",
   "execution_count": null,
   "metadata": {},
   "outputs": [],
   "source": [
    "food_clusters = {}\n",
    "# i = 0\n",
    "for i in range(len(centroids)):\n",
    "#     print(i,ing_types[i])\n",
    "    food_clusters[ing_types[i]] = centroids[i]\n",
    "#     i+=1"
   ]
  },
  {
   "cell_type": "code",
   "execution_count": 744,
   "metadata": {
    "collapsed": true
   },
   "outputs": [],
   "source": [
    "# food_clusters\n",
    "\n",
    "with open('food_clusters.pkl', 'wb') as f:\n",
    "    pkl.dump(centroids, f)"
   ]
  },
  {
   "cell_type": "code",
   "execution_count": 43,
   "metadata": {},
   "outputs": [],
   "source": [
    "fdict = {'veg':['onion','celery'],#'carrot',shallots'potatoes','mushrooms','bell_pepper','zucchini','scallions'],\n",
    "    'herbs': ['thyme','chives'],#'tarragon','dill','basil','parsley','thyme'],\n",
    "    'spices': ['nutmeg','allspice'],#'nutmeg',cinnamon],\n",
    "    'meat': ['bacon','chicken'], #'beef'],\n",
    "    'dairy': ['milk','cream'],#parmesan and pepper jack,\n",
    "    'cond': ['dijon_mustard','wine_vinegar']}#,'dijon_mustard']}\n",
    "fpca = ['veg','herbs','spices','meat','dairy','cond']\n"
   ]
  },
  {
   "cell_type": "code",
   "execution_count": 91,
   "metadata": {
    "collapsed": true
   },
   "outputs": [],
   "source": [
    "# google model\n",
    "gvecs = {}\n",
    "for k,v in fdict.items():\n",
    "    gvecs[k] = ([goog[f] for f in v])"
   ]
  },
  {
   "cell_type": "code",
   "execution_count": 44,
   "metadata": {},
   "outputs": [],
   "source": [
    "fvecs = {}\n",
    "for k,v in fdict.items():\n",
    "    fvecs[k] = ([w2v[f] for f in v])"
   ]
  },
  {
   "cell_type": "code",
   "execution_count": 92,
   "metadata": {},
   "outputs": [],
   "source": [
    "# google model\n",
    "gnames = []\n",
    "ggvecs = []\n",
    "for k,v in gvecs.items():\n",
    "    for i, vv in enumerate(v):\n",
    "        gnames.append(fdict[k][i])\n",
    "        ggvecs.append(vv)"
   ]
  },
  {
   "cell_type": "code",
   "execution_count": 45,
   "metadata": {
    "collapsed": true
   },
   "outputs": [],
   "source": [
    "names = []\n",
    "vecs = []\n",
    "for k,v in fvecs.items():\n",
    "    for i, vv in enumerate(v):\n",
    "        names.append(fdict[k][i])\n",
    "        vecs.append(vv)"
   ]
  },
  {
   "cell_type": "code",
   "execution_count": 93,
   "metadata": {},
   "outputs": [],
   "source": [
    "# google model\n",
    "gstack = np.vstack(ggvecs)\n",
    "pcag = PCA(n_components=2)\n",
    "normalizer = Normalizer().fit(gstack)\n",
    "gpcas = pcag.fit_transform(gstack)"
   ]
  },
  {
   "cell_type": "code",
   "execution_count": 46,
   "metadata": {
    "collapsed": true
   },
   "outputs": [],
   "source": [
    "vecstack = np.vstack(vecs)\n",
    "pcaf = PCA(n_components=2)\n",
    "normalizer = Normalizer().fit(vecstack)\n",
    "fpcas = pcaf.fit_transform(vecstack)\n",
    "# fpcas = normalizer.transform(temp)\n"
   ]
  },
  {
   "cell_type": "code",
   "execution_count": 126,
   "metadata": {
    "scrolled": false
   },
   "outputs": [
    {
     "data": {
      "image/png": "[encoded data removed]",
      "text/plain": [
       "<matplotlib.figure.Figure at 0x23d8ac208>"
      ]
     },
     "metadata": {},
     "output_type": "display_data"
    }
   ],
   "source": [
    "fcolors = ['g','g','violet','violet','chocolate','chocolate','r','r','b','b','y','y']\n",
    "labels = ['cremini','portobello','thyme','chives','nutmeg','allspice','beef','chicken','milk','cream','mustard','ketchup']\n",
    "# parmesan and pepper jack\n",
    "import matplotlib.patches as mpatches\n",
    "import matplotlib.pyplot as plt\n",
    "\n",
    "plt.figure(figsize=(10,10))\n",
    "\n",
    "alpha = 1\n",
    "\n",
    "vp = mpatches.Patch(color='g', label='Vegetables',alpha=alpha)\n",
    "hp = mpatches.Patch(color='violet', label='Herbs',alpha=alpha)\n",
    "sp = mpatches.Patch(color='chocolate', label='Spices',alpha=alpha)\n",
    "mp = mpatches.Patch(color='r', label='Meat',alpha=alpha)\n",
    "dp = mpatches.Patch(color='b', label='Dairy',alpha=alpha)\n",
    "cp = mpatches.Patch(color='y', label='Condiments',alpha=alpha)\n",
    "\n",
    "for i in range(0,len(vecstack)):\n",
    "    plt.scatter(fpcas[i,0], fpcas[i,1],s=300,c=fcolors[i],alpha=1)\n",
    "    \n",
    "# for i in range(0,len(gstack)):\n",
    "#     plt.scatter(gpcas[i,0], gpcas[i,1],s=300,c=fcolors[i],alpha=0.5)\n",
    "    \n",
    "\n",
    "# plt.title('Ingredient Vectors',fontsize=24,y=1.08)\n",
    "# plt.xlabel('PCAx',fontsize=18)\n",
    "# plt.ylabel('PCAy',fontsize=18)\n",
    "plt.xticks(fontsize=18)\n",
    "plt.yticks(fontsize=18)\n",
    "\n",
    "ax = plt.gca()\n",
    "ax.set_facecolor('white')\n",
    "ax.grid(b=False)\n",
    "ax.set_frame_on(b=True)\n",
    "# ax.set_xlim(-1.2,1.2);\n",
    "# ax.set_ylim(-1.2,1.2);\n",
    "\n",
    "for i, txt in enumerate(labels):\n",
    "    ax.annotate(txt, (fpcas[i,0]+.13, fpcas[i,1]-.08), fontsize=29)\n",
    "\n",
    "# for i, txt in enumerate(gnames):\n",
    "#     ax.annotate(txt, (gpcas[i,0], gpcas[i,1]), fontsize=20)\n",
    "\n",
    "# lgd = ax.legend(handles=[vp,hp,sp,mp,dp,cp],fontsize=18,frameon=True,\n",
    "#            edgecolor='k',facecolor='white',bbox_to_anchor=(1.35, 1))\n",
    "\n",
    "plt.savefig('reping.png',transparent=True,bbox_extra_artists=(lgd,), bbox_inches='tight') \n",
    "# fig.savefig('samplefigure', )"
   ]
  },
  {
   "cell_type": "code",
   "execution_count": null,
   "metadata": {},
   "outputs": [],
   "source": []
  },
  {
   "cell_type": "markdown",
   "metadata": {
    "heading_collapsed": true
   },
   "source": [
    "## Images as points"
   ]
  },
  {
   "cell_type": "code",
   "execution_count": 625,
   "metadata": {
    "hidden": true
   },
   "outputs": [
    {
     "data": {
      "image/png": "[encoded data removed]",
      "text/plain": [
       "<matplotlib.figure.Figure at 0x11abe3da0>"
      ]
     },
     "metadata": {},
     "output_type": "display_data"
    }
   ],
   "source": [
    "from matplotlib.image import BboxImage\n",
    "from matplotlib.transforms import Bbox, TransformedBbox\n",
    "\n",
    "# Load images.\n",
    "onion = plt.imread('onion.png')\n",
    "thyme = plt.imread('thyme.png')\n",
    "ginger = plt.imread('ginger.png')\n",
    "bacon = plt.imread('bacon.png')\n",
    "milk = plt.imread('milk.png')\n",
    "mustard = plt.imread('mustard.png')\n",
    "\n",
    "\n",
    "# Data\n",
    "ox = [fpcas[0][0]]\n",
    "oy = [fpcas[0][1]]\n",
    "tx = [fpcas[3][0]]\n",
    "ty= [fpcas[3][1]]\n",
    "gx = [fpcas[6][0]]\n",
    "gy= [fpcas[6][1]]\n",
    "bx = [fpcas[9][0]]\n",
    "by= [fpcas[9][1]]\n",
    "mx = [fpcas[12][0]]\n",
    "my= [fpcas[12][1]]\n",
    "dx = [fpcas[15][0]]\n",
    "dy= [fpcas[15][1]]\n",
    "\n",
    "# Create figure\n",
    "fig = plt.figure(figsize=(10,10))\n",
    "ax = fig.add_subplot(111)\n",
    "\n",
    "# Plots an image at each x and y location. \n",
    "def plotImage(xData, yData, im):\n",
    "    for x, y in zip(xData, yData):\n",
    "        bb = Bbox.from_bounds(x,y,.5,.5)  \n",
    "        bb2 = TransformedBbox(bb,ax.transData)\n",
    "        bbox_image = BboxImage(bb2,\n",
    "                            norm = None,\n",
    "                            origin=None,\n",
    "                            clip_on=False)\n",
    "\n",
    "        bbox_image.set_data(im)\n",
    "        ax.add_artist(bbox_image)\n",
    "\n",
    "\n",
    "plotImage(ox, oy, onion)\n",
    "plotImage(tx, ty, thyme)\n",
    "plotImage(gx, gy, ginger)\n",
    "plotImage(bx, by, bacon)\n",
    "plotImage(mx, my, milk)\n",
    "plotImage(dx, dy, mustard)\n",
    "\n",
    "# Set the x and y limits\n",
    "ax.set_ylim(-1.5,1.5)\n",
    "ax.set_xlim(-1.5,1.5)\n",
    "\n",
    "ax = plt.gca()\n",
    "ax.set_facecolor('white')\n",
    "plt.show()\n"
   ]
  },
  {
   "cell_type": "markdown",
   "metadata": {},
   "source": [
    "## Next"
   ]
  },
  {
   "cell_type": "code",
   "execution_count": null,
   "metadata": {
    "collapsed": true
   },
   "outputs": [],
   "source": []
  }
 ],
 "metadata": {
  "kernelspec": {
   "display_name": "Python 3",
   "language": "python",
   "name": "python3"
  },
  "language_info": {
   "codemirror_mode": {
    "name": "ipython",
    "version": 3
   },
   "file_extension": ".py",
   "mimetype": "text/x-python",
   "name": "python",
   "nbconvert_exporter": "python",
   "pygments_lexer": "ipython3",
   "version": "3.6.1"
  },
  "toc": {
   "nav_menu": {},
   "number_sections": true,
   "sideBar": true,
   "skip_h1_title": false,
   "toc_cell": false,
   "toc_position": {
    "height": "650px",
    "left": "0px",
    "right": "1173.56px",
    "top": "107px",
    "width": "212px"
   },
   "toc_section_display": "block",
   "toc_window_display": true
  }
 },
 "nbformat": 4,
 "nbformat_minor": 2
}
