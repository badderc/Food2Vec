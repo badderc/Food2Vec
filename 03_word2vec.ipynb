{
 "cells": [
  {
   "cell_type": "markdown",
   "metadata": {
    "heading_collapsed": true
   },
   "source": [
    "# Imports"
   ]
  },
  {
   "cell_type": "code",
   "execution_count": 1,
   "metadata": {
    "collapsed": true,
    "hidden": true
   },
   "outputs": [],
   "source": [
    "# Basics\n",
    "import numpy as np\n",
    "import pandas as pd\n",
    "import math\n",
    "import matplotlib.pyplot as plt\n",
    "%matplotlib inline\n",
    "import seaborn as sns\n",
    "import re\n",
    "import string\n",
    "import csv\n",
    "from os import path\n",
    "from PIL import Image\n",
    "from wordcloud import WordCloud, STOPWORDS\n",
    "\n",
    "# MongoDB\n",
    "from pymongo import MongoClient\n",
    "\n",
    "# natural language processing\n",
    "import nltk\n",
    "from textblob import TextBlob\n",
    "from nltk import word_tokenize, pos_tag, ne_chunk\n",
    "from nltk.corpus import stopwords\n",
    "from ingreedypy import Ingreedy\n",
    "\n",
    "# sklearn\n",
    "from sklearn.feature_extraction import text \n",
    "from sklearn.feature_extraction.text import CountVectorizer\n",
    "from sklearn.feature_extraction.text import TfidfVectorizer\n",
    "\n",
    "from sklearn.preprocessing import Normalizer\n",
    "from sklearn.preprocessing import scale\n",
    "from sklearn.utils import shuffle\n",
    "from sklearn.model_selection import train_test_split\n",
    "from sklearn.cluster import KMeans\n",
    "\n",
    "from sklearn.decomposition import PCA\n",
    "from sklearn.decomposition import TruncatedSVD\n",
    "\n",
    "from sklearn import metrics\n",
    "from sklearn.metrics import pairwise_distances\n",
    "from sklearn.metrics import silhouette_score\n",
    "\n",
    "# gensim\n",
    "from gensim import corpora, models, similarities, matutils\n",
    "\n",
    "# Other\n",
    "import warnings\n",
    "warnings.filterwarnings('ignore')\n"
   ]
  },
  {
   "cell_type": "markdown",
   "metadata": {
    "heading_collapsed": true
   },
   "source": [
    "# Data from 02_cbow_process"
   ]
  },
  {
   "cell_type": "code",
   "execution_count": 2,
   "metadata": {
    "collapsed": true,
    "hidden": true
   },
   "outputs": [],
   "source": [
    "df = pd.read_pickle('df_02.pkl')"
   ]
  },
  {
   "cell_type": "code",
   "execution_count": 3,
   "metadata": {
    "hidden": true
   },
   "outputs": [
    {
     "data": {
      "text/html": [
       "<div>\n",
       "<style>\n",
       "    .dataframe thead tr:only-child th {\n",
       "        text-align: right;\n",
       "    }\n",
       "\n",
       "    .dataframe thead th {\n",
       "        text-align: left;\n",
       "    }\n",
       "\n",
       "    .dataframe tbody tr th {\n",
       "        vertical-align: top;\n",
       "    }\n",
       "</style>\n",
       "<table border=\"1\" class=\"dataframe\">\n",
       "  <thead>\n",
       "    <tr style=\"text-align: right;\">\n",
       "      <th></th>\n",
       "      <th>title</th>\n",
       "      <th>ingredients</th>\n",
       "      <th>directions</th>\n",
       "      <th>categories</th>\n",
       "      <th>desc</th>\n",
       "    </tr>\n",
       "  </thead>\n",
       "  <tbody>\n",
       "    <tr>\n",
       "      <th>0</th>\n",
       "      <td>[lentil, apple, turkey, wrap]</td>\n",
       "      <td>[[cups, low, sodium, vegetable, or, chicken, s...</td>\n",
       "      <td>[[place, stock, lentils, celery, carrot, thyme...</td>\n",
       "      <td>[sandwich, bean, fruit, tomato, turkey, vegeta...</td>\n",
       "      <td>[]</td>\n",
       "    </tr>\n",
       "    <tr>\n",
       "      <th>1</th>\n",
       "      <td>[boudin, blanc, terrine, red, onion, confit, b...</td>\n",
       "      <td>[[cups, whipping, cream, whipping_cream], [med...</td>\n",
       "      <td>[[combine, first, ingredients, heavy, medium, ...</td>\n",
       "      <td>[onion, pork, bake, port, winter, chill]</td>\n",
       "      <td>[uses, ingredients, found, boudin, blanc, clas...</td>\n",
       "    </tr>\n",
       "    <tr>\n",
       "      <th>2</th>\n",
       "      <td>[potato, fennel, soup, hodge, fennel_soup]</td>\n",
       "      <td>[[fennel, bulb, sometimes, called, anise, stal...</td>\n",
       "      <td>[[large, heavy, saucepan, cook, diced, fennel,...</td>\n",
       "      <td>[dairy, potato, vegetable, fennel, gourmet]</td>\n",
       "      <td>[]</td>\n",
       "    </tr>\n",
       "    <tr>\n",
       "      <th>3</th>\n",
       "      <td>[mahi, mahi, tomato, olive, sauce, mahi_mahi]</td>\n",
       "      <td>[[tablespoons, extra, virgin, olive, oil, oliv...</td>\n",
       "      <td>[[heat, oil, heavy, large, skillet, medium, hi...</td>\n",
       "      <td>[fish, olive, tomato, sauté, dinner, healthy, ...</td>\n",
       "      <td>[style, tomato, sauce, tons, mediterranean, fl...</td>\n",
       "    </tr>\n",
       "    <tr>\n",
       "      <th>4</th>\n",
       "      <td>[spinach, noodle, casserole, noodle_casserole]</td>\n",
       "      <td>[[ounce, package, frozen, spinach, soufflé, th...</td>\n",
       "      <td>[[preheat, oven, lightly, grease, inch, glass,...</td>\n",
       "      <td>[cheese, dairy, pasta, vegetable, side, bake, ...</td>\n",
       "      <td>[]</td>\n",
       "    </tr>\n",
       "  </tbody>\n",
       "</table>\n",
       "</div>"
      ],
      "text/plain": [
       "                                               title  \\\n",
       "0                      [lentil, apple, turkey, wrap]   \n",
       "1  [boudin, blanc, terrine, red, onion, confit, b...   \n",
       "2         [potato, fennel, soup, hodge, fennel_soup]   \n",
       "3      [mahi, mahi, tomato, olive, sauce, mahi_mahi]   \n",
       "4     [spinach, noodle, casserole, noodle_casserole]   \n",
       "\n",
       "                                         ingredients  \\\n",
       "0  [[cups, low, sodium, vegetable, or, chicken, s...   \n",
       "1  [[cups, whipping, cream, whipping_cream], [med...   \n",
       "2  [[fennel, bulb, sometimes, called, anise, stal...   \n",
       "3  [[tablespoons, extra, virgin, olive, oil, oliv...   \n",
       "4  [[ounce, package, frozen, spinach, soufflé, th...   \n",
       "\n",
       "                                          directions  \\\n",
       "0  [[place, stock, lentils, celery, carrot, thyme...   \n",
       "1  [[combine, first, ingredients, heavy, medium, ...   \n",
       "2  [[large, heavy, saucepan, cook, diced, fennel,...   \n",
       "3  [[heat, oil, heavy, large, skillet, medium, hi...   \n",
       "4  [[preheat, oven, lightly, grease, inch, glass,...   \n",
       "\n",
       "                                          categories  \\\n",
       "0  [sandwich, bean, fruit, tomato, turkey, vegeta...   \n",
       "1           [onion, pork, bake, port, winter, chill]   \n",
       "2        [dairy, potato, vegetable, fennel, gourmet]   \n",
       "3  [fish, olive, tomato, sauté, dinner, healthy, ...   \n",
       "4  [cheese, dairy, pasta, vegetable, side, bake, ...   \n",
       "\n",
       "                                                desc  \n",
       "0                                                 []  \n",
       "1  [uses, ingredients, found, boudin, blanc, clas...  \n",
       "2                                                 []  \n",
       "3  [style, tomato, sauce, tons, mediterranean, fl...  \n",
       "4                                                 []  "
      ]
     },
     "execution_count": 3,
     "metadata": {},
     "output_type": "execute_result"
    }
   ],
   "source": [
    "df.head()"
   ]
  },
  {
   "cell_type": "code",
   "execution_count": null,
   "metadata": {
    "collapsed": true,
    "hidden": true
   },
   "outputs": [],
   "source": []
  },
  {
   "cell_type": "markdown",
   "metadata": {
    "heading_collapsed": true
   },
   "source": [
    "# Word2Vec Google Model"
   ]
  },
  {
   "cell_type": "code",
   "execution_count": 4,
   "metadata": {
    "collapsed": true,
    "hidden": true
   },
   "outputs": [],
   "source": [
    "import gensim\n",
    "google_vec_file = '/Users/carliebadder/Downloads/GoogleNews-vectors-negative300.bin'"
   ]
  },
  {
   "cell_type": "code",
   "execution_count": 5,
   "metadata": {
    "collapsed": true,
    "hidden": true
   },
   "outputs": [],
   "source": [
    "model = gensim.models.KeyedVectors.load_word2vec_format(google_vec_file, binary=True)"
   ]
  },
  {
   "cell_type": "code",
   "execution_count": 6,
   "metadata": {
    "collapsed": true,
    "hidden": true
   },
   "outputs": [],
   "source": [
    "def document_vector(word2vec_model, doc):\n",
    "    # remove out-of-vocabulary words\n",
    "    doc = [word for word in doc if word in model.vocab]\n",
    "#     print(doc)\n",
    "    return np.mean(word2vec_model[doc], axis=0)"
   ]
  },
  {
   "cell_type": "markdown",
   "metadata": {
    "hidden": true
   },
   "source": [
    "## Create Document Vectors"
   ]
  },
  {
   "cell_type": "code",
   "execution_count": 7,
   "metadata": {
    "collapsed": true,
    "hidden": true
   },
   "outputs": [],
   "source": [
    "# get vector for each ingredient in ingredients\n",
    "# then take the mean to get the ingredient list vector\n",
    "ingredient_vectors = []\n",
    "for i in range(len(df)): # each recipe\n",
    "    ing_list = df.ingredients[i] # the list of ingredients\n",
    "    ing_vec_temp = []\n",
    "    for j in range(len(ing_list)): # each item in the list of ingredients\n",
    "        try:\n",
    "            ing_vec_temp.append(document_vector(model, ing_list[j])) # create individual ingredient vector\n",
    "        except:\n",
    "            pass\n",
    "    ingredient_vectors.append(ing_vec_temp) # list of lists of individual ingredient vectors\n",
    "    "
   ]
  },
  {
   "cell_type": "code",
   "execution_count": 8,
   "metadata": {
    "collapsed": true,
    "hidden": true
   },
   "outputs": [],
   "source": [
    "ingredient_list_vectors = []\n",
    "for i in range(len(ingredient_vectors)):\n",
    "    try:\n",
    "        ing_vstack = np.vstack(ingredient_vectors[i])\n",
    "        ing_mean = np.mean(ing_vstack, axis=0)\n",
    "    except:\n",
    "        ing_mean = float('NaN')\n",
    "    ingredient_list_vectors.append(ing_mean)"
   ]
  },
  {
   "cell_type": "code",
   "execution_count": 9,
   "metadata": {
    "collapsed": true,
    "hidden": true
   },
   "outputs": [],
   "source": [
    "# get vector for each direction item in directions\n",
    "# then take the mean to get the direction list vector\n",
    "direction_vectors = []\n",
    "for i in range(len(df)): # each recipe\n",
    "    dir_list = df.directions[i] # the list of directions\n",
    "    dir_vec_temp = []\n",
    "    for j in range(len(dir_list)): # each item in the list of directions\n",
    "        try:\n",
    "            dir_vec_temp.append(document_vector(model, dir_list[j])) # create individual direction item vector\n",
    "        except:\n",
    "            pass\n",
    "    direction_vectors.append(dir_vec_temp) # list of lists of individual direction item vectors"
   ]
  },
  {
   "cell_type": "code",
   "execution_count": 10,
   "metadata": {
    "collapsed": true,
    "hidden": true
   },
   "outputs": [],
   "source": [
    "direction_list_vectors = []\n",
    "for i in range(len(direction_vectors)):\n",
    "    try:\n",
    "        dir_vstack = np.vstack(direction_vectors[i])\n",
    "        dir_mean = np.mean(dir_vstack, axis=0)\n",
    "    except:\n",
    "        dir_mean = float('NaN')\n",
    "    direction_list_vectors.append(dir_mean)"
   ]
  },
  {
   "cell_type": "code",
   "execution_count": 11,
   "metadata": {
    "collapsed": true,
    "hidden": true
   },
   "outputs": [],
   "source": [
    "# get vector for each title\n",
    "title_vectors = []\n",
    "for i in range(len(df)): # each recipe\n",
    "    title_temp = df.title[i] # the title of the recipe\n",
    "    try:\n",
    "        title_vectors.append(document_vector(model, title_temp)) # list of title vectors\n",
    "    except:\n",
    "        title_vectors.append(float('NaN'))\n"
   ]
  },
  {
   "cell_type": "code",
   "execution_count": 12,
   "metadata": {
    "collapsed": true,
    "hidden": true
   },
   "outputs": [],
   "source": [
    "# take the mean of the title, ingredient list, and direction list vectors \n",
    "# to get the recipe vector\n",
    "recipe_vectors = []\n",
    "for i in range(len(df)):\n",
    "    doc_temp = [title_vectors[i], direction_list_vectors[i], ingredient_list_vectors[i]]\n",
    "    doc_temp = [x for x in doc_temp if not np.isnan(x).all()]\n",
    "    doc_temp = np.vstack(doc_temp)\n",
    "    recipe_vectors.append(np.mean(doc_temp, axis=0))\n"
   ]
  },
  {
   "cell_type": "code",
   "execution_count": 13,
   "metadata": {
    "hidden": true
   },
   "outputs": [
    {
     "data": {
      "text/plain": [
       "(300,)"
      ]
     },
     "execution_count": 13,
     "metadata": {},
     "output_type": "execute_result"
    }
   ],
   "source": [
    "(recipe_vectors[0].shape)"
   ]
  },
  {
   "cell_type": "markdown",
   "metadata": {},
   "source": [
    "# df_03"
   ]
  },
  {
   "cell_type": "code",
   "execution_count": 14,
   "metadata": {
    "collapsed": true
   },
   "outputs": [],
   "source": [
    "df_03 = pd.DataFrame(columns=['title','ingredient_ind','ingredient_avg','directions_ind','directions_avg','recipe_vector'])"
   ]
  },
  {
   "cell_type": "code",
   "execution_count": 15,
   "metadata": {
    "collapsed": true
   },
   "outputs": [],
   "source": [
    "df_03['title'] = title_vectors\n",
    "df_03['ingredient_ind'] = ingredient_vectors\n",
    "df_03['ingredient_avg'] = ingredient_list_vectors\n",
    "df_03['directions_ind'] = direction_vectors\n",
    "df_03['directions_avg'] = direction_list_vectors\n",
    "df_03['recipe_vector'] = recipe_vectors"
   ]
  },
  {
   "cell_type": "code",
   "execution_count": 16,
   "metadata": {},
   "outputs": [
    {
     "data": {
      "text/html": [
       "<div>\n",
       "<style>\n",
       "    .dataframe thead tr:only-child th {\n",
       "        text-align: right;\n",
       "    }\n",
       "\n",
       "    .dataframe thead th {\n",
       "        text-align: left;\n",
       "    }\n",
       "\n",
       "    .dataframe tbody tr th {\n",
       "        vertical-align: top;\n",
       "    }\n",
       "</style>\n",
       "<table border=\"1\" class=\"dataframe\">\n",
       "  <thead>\n",
       "    <tr style=\"text-align: right;\">\n",
       "      <th></th>\n",
       "      <th>title</th>\n",
       "      <th>ingredient_ind</th>\n",
       "      <th>ingredient_avg</th>\n",
       "      <th>directions_ind</th>\n",
       "      <th>directions_avg</th>\n",
       "      <th>recipe_vector</th>\n",
       "    </tr>\n",
       "  </thead>\n",
       "  <tbody>\n",
       "    <tr>\n",
       "      <th>0</th>\n",
       "      <td>[-0.0663452, 0.0281372, -0.101227, 0.201782, -...</td>\n",
       "      <td>[[-0.102923, -0.0281982, 0.0750384, 0.196359, ...</td>\n",
       "      <td>[-0.106555, 0.0587182, 0.0666594, 0.13566, -0....</td>\n",
       "      <td>[[-0.0359828, 0.140685, 0.0033493, 0.0847643, ...</td>\n",
       "      <td>[-0.0537251, 0.098973, 0.0104921, 0.0944859, -...</td>\n",
       "      <td>[-0.0755416, 0.0619428, -0.00802511, 0.143976,...</td>\n",
       "    </tr>\n",
       "    <tr>\n",
       "      <th>1</th>\n",
       "      <td>[-0.1325, -0.0630264, 0.0566177, 0.227844, 0.0...</td>\n",
       "      <td>[[-0.161743, 0.211548, 0.183624, -0.0588074, 0...</td>\n",
       "      <td>[-0.0981199, 0.0860157, 0.0853733, 0.08912, 0....</td>\n",
       "      <td>[[0.00524581, 0.15945, 0.000435277, 0.0132478,...</td>\n",
       "      <td>[-0.046243, 0.123296, 0.0316817, 0.0581252, -0...</td>\n",
       "      <td>[-0.0922875, 0.0487617, 0.0578909, 0.12503, 0....</td>\n",
       "    </tr>\n",
       "    <tr>\n",
       "      <th>2</th>\n",
       "      <td>[-0.162451, 0.156934, 0.0261841, 0.230518, 0.0...</td>\n",
       "      <td>[[0.0104607, 0.0896768, 0.0837606, 0.12384, -0...</td>\n",
       "      <td>[-0.155297, 0.11129, 0.0650542, 0.141659, 0.02...</td>\n",
       "      <td>[[-0.0479048, 0.177701, 0.0575639, 0.0630222, ...</td>\n",
       "      <td>[0.00466088, 0.150056, 0.064866, 0.11978, -0.0...</td>\n",
       "      <td>[-0.104362, 0.139427, 0.0520347, 0.163986, 0.0...</td>\n",
       "    </tr>\n",
       "    <tr>\n",
       "      <th>3</th>\n",
       "      <td>[-0.298177, 0.0159505, 0.0141602, 0.207845, 0....</td>\n",
       "      <td>[[0.00515111, 0.0625407, -0.0951742, 0.0750326...</td>\n",
       "      <td>[-0.13089, 0.0155496, 0.0651881, 0.107567, -0....</td>\n",
       "      <td>[[-0.0551779, 0.102122, 0.0181274, 0.046172, -...</td>\n",
       "      <td>[-0.061394, 0.108771, 0.0319948, 0.0565655, -0...</td>\n",
       "      <td>[-0.163487, 0.0467572, 0.0371144, 0.123992, 0....</td>\n",
       "    </tr>\n",
       "    <tr>\n",
       "      <th>4</th>\n",
       "      <td>[-0.16748, 0.1474, 0.167816, 0.279053, -0.0443...</td>\n",
       "      <td>[[-0.133799, 0.0292562, 0.137736, 0.265137, -0...</td>\n",
       "      <td>[-0.131535, 0.0166664, 0.110015, 0.164179, 0.0...</td>\n",
       "      <td>[[-0.128431, 0.0915348, 0.0722405, 0.146545, 0...</td>\n",
       "      <td>[-0.128431, 0.0915348, 0.0722405, 0.146545, 0....</td>\n",
       "      <td>[-0.142482, 0.0852004, 0.116691, 0.196592, 0.0...</td>\n",
       "    </tr>\n",
       "  </tbody>\n",
       "</table>\n",
       "</div>"
      ],
      "text/plain": [
       "                                               title  \\\n",
       "0  [-0.0663452, 0.0281372, -0.101227, 0.201782, -...   \n",
       "1  [-0.1325, -0.0630264, 0.0566177, 0.227844, 0.0...   \n",
       "2  [-0.162451, 0.156934, 0.0261841, 0.230518, 0.0...   \n",
       "3  [-0.298177, 0.0159505, 0.0141602, 0.207845, 0....   \n",
       "4  [-0.16748, 0.1474, 0.167816, 0.279053, -0.0443...   \n",
       "\n",
       "                                      ingredient_ind  \\\n",
       "0  [[-0.102923, -0.0281982, 0.0750384, 0.196359, ...   \n",
       "1  [[-0.161743, 0.211548, 0.183624, -0.0588074, 0...   \n",
       "2  [[0.0104607, 0.0896768, 0.0837606, 0.12384, -0...   \n",
       "3  [[0.00515111, 0.0625407, -0.0951742, 0.0750326...   \n",
       "4  [[-0.133799, 0.0292562, 0.137736, 0.265137, -0...   \n",
       "\n",
       "                                      ingredient_avg  \\\n",
       "0  [-0.106555, 0.0587182, 0.0666594, 0.13566, -0....   \n",
       "1  [-0.0981199, 0.0860157, 0.0853733, 0.08912, 0....   \n",
       "2  [-0.155297, 0.11129, 0.0650542, 0.141659, 0.02...   \n",
       "3  [-0.13089, 0.0155496, 0.0651881, 0.107567, -0....   \n",
       "4  [-0.131535, 0.0166664, 0.110015, 0.164179, 0.0...   \n",
       "\n",
       "                                      directions_ind  \\\n",
       "0  [[-0.0359828, 0.140685, 0.0033493, 0.0847643, ...   \n",
       "1  [[0.00524581, 0.15945, 0.000435277, 0.0132478,...   \n",
       "2  [[-0.0479048, 0.177701, 0.0575639, 0.0630222, ...   \n",
       "3  [[-0.0551779, 0.102122, 0.0181274, 0.046172, -...   \n",
       "4  [[-0.128431, 0.0915348, 0.0722405, 0.146545, 0...   \n",
       "\n",
       "                                      directions_avg  \\\n",
       "0  [-0.0537251, 0.098973, 0.0104921, 0.0944859, -...   \n",
       "1  [-0.046243, 0.123296, 0.0316817, 0.0581252, -0...   \n",
       "2  [0.00466088, 0.150056, 0.064866, 0.11978, -0.0...   \n",
       "3  [-0.061394, 0.108771, 0.0319948, 0.0565655, -0...   \n",
       "4  [-0.128431, 0.0915348, 0.0722405, 0.146545, 0....   \n",
       "\n",
       "                                       recipe_vector  \n",
       "0  [-0.0755416, 0.0619428, -0.00802511, 0.143976,...  \n",
       "1  [-0.0922875, 0.0487617, 0.0578909, 0.12503, 0....  \n",
       "2  [-0.104362, 0.139427, 0.0520347, 0.163986, 0.0...  \n",
       "3  [-0.163487, 0.0467572, 0.0371144, 0.123992, 0....  \n",
       "4  [-0.142482, 0.0852004, 0.116691, 0.196592, 0.0...  "
      ]
     },
     "execution_count": 16,
     "metadata": {},
     "output_type": "execute_result"
    }
   ],
   "source": [
    "df_03.head()"
   ]
  },
  {
   "cell_type": "code",
   "execution_count": 17,
   "metadata": {
    "collapsed": true
   },
   "outputs": [],
   "source": [
    "df_03.to_pickle('df_03.pkl')"
   ]
  },
  {
   "cell_type": "code",
   "execution_count": null,
   "metadata": {
    "collapsed": true
   },
   "outputs": [],
   "source": []
  },
  {
   "cell_type": "code",
   "execution_count": null,
   "metadata": {
    "collapsed": true
   },
   "outputs": [],
   "source": []
  }
 ],
 "metadata": {
  "kernelspec": {
   "display_name": "Python 3",
   "language": "python",
   "name": "python3"
  },
  "language_info": {
   "codemirror_mode": {
    "name": "ipython",
    "version": 3
   },
   "file_extension": ".py",
   "mimetype": "text/x-python",
   "name": "python",
   "nbconvert_exporter": "python",
   "pygments_lexer": "ipython3",
   "version": "3.6.1"
  },
  "toc": {
   "nav_menu": {},
   "number_sections": true,
   "sideBar": true,
   "skip_h1_title": false,
   "toc_cell": false,
   "toc_position": {},
   "toc_section_display": "block",
   "toc_window_display": false
  }
 },
 "nbformat": 4,
 "nbformat_minor": 2
}
