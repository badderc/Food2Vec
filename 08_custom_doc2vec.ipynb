{
 "cells": [
  {
   "cell_type": "markdown",
   "metadata": {
    "heading_collapsed": true
   },
   "source": [
    "# Imports"
   ]
  },
  {
   "cell_type": "code",
   "execution_count": 7,
   "metadata": {
    "collapsed": true,
    "hidden": true
   },
   "outputs": [],
   "source": [
    "# Basics\n",
    "import numpy as np\n",
    "import pandas as pd\n",
    "import math\n",
    "import matplotlib.pyplot as plt\n",
    "%matplotlib inline\n",
    "import seaborn as sns\n",
    "import re\n",
    "import string\n",
    "import csv\n",
    "from os import path\n",
    "from PIL import Image\n",
    "from wordcloud import WordCloud, STOPWORDS\n",
    "import pickle as pkl\n",
    "\n",
    "# MongoDB\n",
    "from pymongo import MongoClient\n",
    "\n",
    "# natural language processing\n",
    "import nltk\n",
    "from textblob import TextBlob\n",
    "from nltk import word_tokenize, pos_tag, ne_chunk\n",
    "from nltk.corpus import stopwords\n",
    "from ingreedypy import Ingreedy\n",
    "\n",
    "# sklearn\n",
    "from sklearn.feature_extraction import text \n",
    "from sklearn.feature_extraction.text import CountVectorizer\n",
    "from sklearn.feature_extraction.text import TfidfVectorizer\n",
    "\n",
    "from sklearn.preprocessing import Normalizer\n",
    "from sklearn.preprocessing import scale\n",
    "from sklearn.utils import shuffle\n",
    "from sklearn.model_selection import train_test_split\n",
    "from sklearn.cluster import KMeans\n",
    "\n",
    "from sklearn.decomposition import PCA\n",
    "from sklearn.decomposition import TruncatedSVD\n",
    "\n",
    "from sklearn import metrics\n",
    "from sklearn.metrics import pairwise_distances\n",
    "from sklearn.metrics import silhouette_score\n",
    "\n",
    "# gensim\n",
    "from gensim import corpora, models, similarities, matutils\n",
    "\n",
    "# Other\n",
    "import warnings\n",
    "warnings.filterwarnings('ignore')\n"
   ]
  },
  {
   "cell_type": "code",
   "execution_count": null,
   "metadata": {
    "collapsed": true,
    "hidden": true
   },
   "outputs": [],
   "source": []
  },
  {
   "cell_type": "markdown",
   "metadata": {},
   "source": [
    "# Data from 02_cbow_process"
   ]
  },
  {
   "cell_type": "code",
   "execution_count": 77,
   "metadata": {
    "collapsed": true
   },
   "outputs": [],
   "source": [
    "df = pd.read_pickle('df_07_2.pkl')"
   ]
  },
  {
   "cell_type": "code",
   "execution_count": 78,
   "metadata": {},
   "outputs": [
    {
     "data": {
      "text/html": [
       "<div>\n",
       "<style>\n",
       "    .dataframe thead tr:only-child th {\n",
       "        text-align: right;\n",
       "    }\n",
       "\n",
       "    .dataframe thead th {\n",
       "        text-align: left;\n",
       "    }\n",
       "\n",
       "    .dataframe tbody tr th {\n",
       "        vertical-align: top;\n",
       "    }\n",
       "</style>\n",
       "<table border=\"1\" class=\"dataframe\">\n",
       "  <thead>\n",
       "    <tr style=\"text-align: right;\">\n",
       "      <th></th>\n",
       "      <th>title</th>\n",
       "      <th>ingredients</th>\n",
       "      <th>directions</th>\n",
       "      <th>desc</th>\n",
       "    </tr>\n",
       "  </thead>\n",
       "  <tbody>\n",
       "    <tr>\n",
       "      <th>0</th>\n",
       "      <td>[lentil, apple, and, turkey, wrap]</td>\n",
       "      <td>[[low, sodium, vegetable, chicken, stock], [dr...</td>\n",
       "      <td>[[place, stock, lentils, celery_carrot, thyme_...</td>\n",
       "      <td>[]</td>\n",
       "    </tr>\n",
       "    <tr>\n",
       "      <th>1</th>\n",
       "      <td>[boudin_blanc, terrine, with, red, onion_confit]</td>\n",
       "      <td>[[whipping_cream], [onions], [salt], [bay], [c...</td>\n",
       "      <td>[[combine, first, ingredients, heavy, medium_s...</td>\n",
       "      <td>[uses, ingredients, found, boudin_blanc, class...</td>\n",
       "    </tr>\n",
       "    <tr>\n",
       "      <th>2</th>\n",
       "      <td>[potato, and, fennel_soup, hodge]</td>\n",
       "      <td>[[fennel_bulb, anise, stalks, bulb, feathery, ...</td>\n",
       "      <td>[[large, heavy, saucepan, cook, diced, fennel,...</td>\n",
       "      <td>[]</td>\n",
       "    </tr>\n",
       "    <tr>\n",
       "      <th>3</th>\n",
       "      <td>[mahi_mahi, in, tomato, olive, sauce]</td>\n",
       "      <td>[[extra, virgin, olive_oil], [onion], [dry, wh...</td>\n",
       "      <td>[[heat, oil, heavy, large, skillet, medium, hi...</td>\n",
       "      <td>[sicilian, style, tomato_sauce, tons, mediterr...</td>\n",
       "    </tr>\n",
       "    <tr>\n",
       "      <th>4</th>\n",
       "      <td>[spinach, noodle_casserole]</td>\n",
       "      <td>[[spinach, soufflé], [extra, wide, egg_noodles...</td>\n",
       "      <td>[[preheat_oven, lightly, grease, inch, glass, ...</td>\n",
       "      <td>[]</td>\n",
       "    </tr>\n",
       "  </tbody>\n",
       "</table>\n",
       "</div>"
      ],
      "text/plain": [
       "                                              title  \\\n",
       "0                [lentil, apple, and, turkey, wrap]   \n",
       "1  [boudin_blanc, terrine, with, red, onion_confit]   \n",
       "2                 [potato, and, fennel_soup, hodge]   \n",
       "3             [mahi_mahi, in, tomato, olive, sauce]   \n",
       "4                       [spinach, noodle_casserole]   \n",
       "\n",
       "                                         ingredients  \\\n",
       "0  [[low, sodium, vegetable, chicken, stock], [dr...   \n",
       "1  [[whipping_cream], [onions], [salt], [bay], [c...   \n",
       "2  [[fennel_bulb, anise, stalks, bulb, feathery, ...   \n",
       "3  [[extra, virgin, olive_oil], [onion], [dry, wh...   \n",
       "4  [[spinach, soufflé], [extra, wide, egg_noodles...   \n",
       "\n",
       "                                          directions  \\\n",
       "0  [[place, stock, lentils, celery_carrot, thyme_...   \n",
       "1  [[combine, first, ingredients, heavy, medium_s...   \n",
       "2  [[large, heavy, saucepan, cook, diced, fennel,...   \n",
       "3  [[heat, oil, heavy, large, skillet, medium, hi...   \n",
       "4  [[preheat_oven, lightly, grease, inch, glass, ...   \n",
       "\n",
       "                                                desc  \n",
       "0                                                 []  \n",
       "1  [uses, ingredients, found, boudin_blanc, class...  \n",
       "2                                                 []  \n",
       "3  [sicilian, style, tomato_sauce, tons, mediterr...  \n",
       "4                                                 []  "
      ]
     },
     "execution_count": 78,
     "metadata": {},
     "output_type": "execute_result"
    }
   ],
   "source": [
    "df.head()"
   ]
  },
  {
   "cell_type": "code",
   "execution_count": 79,
   "metadata": {},
   "outputs": [
    {
     "data": {
      "text/plain": [
       "[['low', 'sodium', 'vegetable', 'chicken', 'stock'],\n",
       " ['dried', 'brown', 'lentils'],\n",
       " ['dried', 'french', 'green', 'lentils'],\n",
       " ['stalks_celery'],\n",
       " ['carrot'],\n",
       " ['thyme'],\n",
       " ['kosher_salt'],\n",
       " ['tomato'],\n",
       " ['fuji', 'apple'],\n",
       " ['squeezed', 'lemon_juice'],\n",
       " ['extra', 'virgin', 'olive_oil'],\n",
       " ['black', 'pepper', 'taste'],\n",
       " ['wheat', 'lavash', 'crosswise', 'flour_tortillas'],\n",
       " ['turkey_breast'],\n",
       " ['bibb_lettuce']]"
      ]
     },
     "execution_count": 79,
     "metadata": {},
     "output_type": "execute_result"
    }
   ],
   "source": [
    "df.ingredients[0]"
   ]
  },
  {
   "cell_type": "markdown",
   "metadata": {},
   "source": [
    "# Word2Vec Custom Model"
   ]
  },
  {
   "cell_type": "code",
   "execution_count": 8,
   "metadata": {},
   "outputs": [],
   "source": [
    "import gensim\n",
    "\n",
    "with open('epicurious_texts.pkl', 'rb') as f:\n",
    "    epicurious_texts = pkl.load(f)"
   ]
  },
  {
   "cell_type": "code",
   "execution_count": 9,
   "metadata": {
    "collapsed": true
   },
   "outputs": [],
   "source": [
    "model = gensim.models.Word2Vec(epicurious_texts, size=200, window=5, min_count=1, workers=2, sg=1)"
   ]
  },
  {
   "cell_type": "code",
   "execution_count": 30,
   "metadata": {
    "collapsed": true
   },
   "outputs": [],
   "source": [
    "def document_vector(word2vec_model, doc):\n",
    "    # remove out-of-vocabulary words\n",
    "    doc = [word for word in doc if word in model.wv]\n",
    "#     print(doc)\n",
    "    return np.mean(word2vec_model[doc], axis=0)"
   ]
  },
  {
   "cell_type": "code",
   "execution_count": 48,
   "metadata": {},
   "outputs": [],
   "source": [
    "measurements = ['cup','cups','C','c','gram','grams','g','kilogram','kilograms','kg','liter','liters','L','l',\n",
    "               'pound','pounds','lb','milliliter','milliliters','ml','mL','ounce','ounces','oz','pint','pints','pt',\n",
    "               'teaspoon','teaspoons','t','tsp','tablespoon','tablespoons','T','TB','Tbl','Tbsp','tbsp','quart','quarts','qt',\n",
    "               'dash','pinch','piece','pieces','slice','slices','sheet','sheets','log','stick','sticks']"
   ]
  },
  {
   "cell_type": "markdown",
   "metadata": {},
   "source": [
    "## Create Document Vectors"
   ]
  },
  {
   "cell_type": "code",
   "execution_count": 71,
   "metadata": {},
   "outputs": [],
   "source": [
    "# get vector for each ingredient in ingredients\n",
    "# then take the mean to get the ingredient list vector\n",
    "ingredient_vectors = []\n",
    "for i in range(len(df)): # each recipe\n",
    "    ing_list = df.ingredients[i] # the list of ingredients\n",
    "#     print(ing_list)\n",
    "    ing_vec_temp = []\n",
    "    for j in range(len(ing_list)): # each item in the list of ingredients\n",
    "        try:\n",
    "            ing_vec_temp.append(document_vector(model, ing_list[j])) # create individual ingredient vector\n",
    "        except:\n",
    "            pass\n",
    "#     print(ing_vec_temp)\n",
    "    ingredient_vectors.append(ing_vec_temp) # list of lists of individual ingredient vectors\n",
    "    "
   ]
  },
  {
   "cell_type": "code",
   "execution_count": 72,
   "metadata": {
    "collapsed": true
   },
   "outputs": [],
   "source": [
    "ingredient_list_vectors = []\n",
    "for i in range(len(ingredient_vectors)):\n",
    "    try:\n",
    "        ing_vstack = np.vstack(ingredient_vectors[i])\n",
    "        ing_mean = np.mean(ing_vstack, axis=0)\n",
    "    except:\n",
    "        ing_mean = float('NaN')\n",
    "    ingredient_list_vectors.append(ing_mean)"
   ]
  },
  {
   "cell_type": "code",
   "execution_count": 38,
   "metadata": {
    "collapsed": true
   },
   "outputs": [],
   "source": [
    "# get vector for each direction item in directions\n",
    "# then take the mean to get the direction list vector\n",
    "direction_vectors = []\n",
    "for i in range(len(df)): # each recipe\n",
    "    dir_list = df.directions[i] # the list of directions\n",
    "    dir_vec_temp = []\n",
    "    for j in range(len(dir_list)): # each item in the list of directions\n",
    "        try:\n",
    "            dir_vec_temp.append(document_vector(model, dir_list[j])) # create individual direction item vector\n",
    "        except:\n",
    "            pass\n",
    "    direction_vectors.append(dir_vec_temp) # list of lists of individual direction item vectors"
   ]
  },
  {
   "cell_type": "code",
   "execution_count": 39,
   "metadata": {
    "collapsed": true
   },
   "outputs": [],
   "source": [
    "direction_list_vectors = []\n",
    "for i in range(len(direction_vectors)):\n",
    "    try:\n",
    "        dir_vstack = np.vstack(direction_vectors[i])\n",
    "        dir_mean = np.mean(dir_vstack, axis=0)\n",
    "    except:\n",
    "        dir_mean = float('NaN')\n",
    "    direction_list_vectors.append(dir_mean)"
   ]
  },
  {
   "cell_type": "code",
   "execution_count": 40,
   "metadata": {
    "collapsed": true
   },
   "outputs": [],
   "source": [
    "# get vector for each title\n",
    "title_vectors = []\n",
    "for i in range(len(df)): # each recipe\n",
    "    title_temp = df.title[i] # the title of the recipe\n",
    "    try:\n",
    "        title_vectors.append(document_vector(model, title_temp)) # list of title vectors\n",
    "    except:\n",
    "        title_vectors.append(float('NaN'))\n"
   ]
  },
  {
   "cell_type": "code",
   "execution_count": 41,
   "metadata": {},
   "outputs": [],
   "source": [
    "# take the mean of the title, ingredient list, and direction list vectors \n",
    "# to get the recipe vector\n",
    "recipe_vectors = []\n",
    "for i in range(len(df)):\n",
    "    doc_temp = [title_vectors[i], direction_list_vectors[i], ingredient_list_vectors[i]]\n",
    "    doc_temp = [x for x in doc_temp if not np.isnan(x).all()]\n",
    "    doc_temp = np.vstack(doc_temp)\n",
    "    recipe_vectors.append(np.mean(doc_temp, axis=0))\n"
   ]
  },
  {
   "cell_type": "code",
   "execution_count": 42,
   "metadata": {},
   "outputs": [
    {
     "data": {
      "text/plain": [
       "(200,)"
      ]
     },
     "execution_count": 42,
     "metadata": {},
     "output_type": "execute_result"
    }
   ],
   "source": [
    "(recipe_vectors[0].shape)"
   ]
  },
  {
   "cell_type": "markdown",
   "metadata": {},
   "source": [
    "# df_03"
   ]
  },
  {
   "cell_type": "code",
   "execution_count": 73,
   "metadata": {
    "collapsed": true
   },
   "outputs": [],
   "source": [
    "df_03 = pd.DataFrame(columns=['title','ingredient_ind','ingredient_avg','directions_ind','directions_avg','recipe_vector'])"
   ]
  },
  {
   "cell_type": "code",
   "execution_count": 74,
   "metadata": {
    "collapsed": true
   },
   "outputs": [],
   "source": [
    "df_03['title'] = title_vectors\n",
    "df_03['ingredient_ind'] = ingredient_vectors\n",
    "df_03['ingredient_avg'] = ingredient_list_vectors\n",
    "df_03['directions_ind'] = direction_vectors\n",
    "df_03['directions_avg'] = direction_list_vectors\n",
    "df_03['recipe_vector'] = recipe_vectors"
   ]
  },
  {
   "cell_type": "code",
   "execution_count": 75,
   "metadata": {},
   "outputs": [
    {
     "data": {
      "text/html": [
       "<div>\n",
       "<style>\n",
       "    .dataframe thead tr:only-child th {\n",
       "        text-align: right;\n",
       "    }\n",
       "\n",
       "    .dataframe thead th {\n",
       "        text-align: left;\n",
       "    }\n",
       "\n",
       "    .dataframe tbody tr th {\n",
       "        vertical-align: top;\n",
       "    }\n",
       "</style>\n",
       "<table border=\"1\" class=\"dataframe\">\n",
       "  <thead>\n",
       "    <tr style=\"text-align: right;\">\n",
       "      <th></th>\n",
       "      <th>title</th>\n",
       "      <th>ingredient_ind</th>\n",
       "      <th>ingredient_avg</th>\n",
       "      <th>directions_ind</th>\n",
       "      <th>directions_avg</th>\n",
       "      <th>recipe_vector</th>\n",
       "    </tr>\n",
       "  </thead>\n",
       "  <tbody>\n",
       "    <tr>\n",
       "      <th>0</th>\n",
       "      <td>[0.215455, -0.0678674, -0.0536728, -0.0384151,...</td>\n",
       "      <td>[[0.091462, 0.141202, 0.103957, 0.00484193, 0....</td>\n",
       "      <td>[0.323847, -0.113021, 0.0213143, -0.135363, 0....</td>\n",
       "      <td>[[0.224048, -0.101772, 0.178376, -0.0839364, -...</td>\n",
       "      <td>[0.257222, -0.0911494, 0.0382795, -0.0387829, ...</td>\n",
       "      <td>[0.296192, -0.0795992, -0.00273143, -0.0739488...</td>\n",
       "    </tr>\n",
       "    <tr>\n",
       "      <th>1</th>\n",
       "      <td>[0.318823, -0.100801, 0.0378541, -0.177314, -0...</td>\n",
       "      <td>[[-0.217296, 0.676479, -0.406482, 0.09348, 0.3...</td>\n",
       "      <td>[0.282012, -0.0117083, 0.0157072, -0.0991843, ...</td>\n",
       "      <td>[[0.287888, -0.112491, 0.0919362, -0.129807, -...</td>\n",
       "      <td>[0.253184, -0.0988187, 0.0498208, -0.0839749, ...</td>\n",
       "      <td>[0.319925, -0.0805943, 0.0112368, -0.122873, -...</td>\n",
       "    </tr>\n",
       "    <tr>\n",
       "      <th>2</th>\n",
       "      <td>[0.179084, 0.0596837, 0.118409, -0.00933529, -...</td>\n",
       "      <td>[[0.344291, -0.155895, -0.122205, -0.326594, 0...</td>\n",
       "      <td>[0.259661, 0.0358039, 0.179575, -0.0221815, 0....</td>\n",
       "      <td>[[0.254357, -0.0437917, 0.143034, -0.0979843, ...</td>\n",
       "      <td>[0.290386, -0.0688211, 0.100292, -0.182143, -0...</td>\n",
       "      <td>[0.265184, 0.00772217, 0.119431, -0.0645404, -...</td>\n",
       "    </tr>\n",
       "    <tr>\n",
       "      <th>3</th>\n",
       "      <td>[0.241015, -0.0255318, 0.0375358, -0.132623, -...</td>\n",
       "      <td>[[0.514625, 0.127052, 0.312318, 0.259462, 0.15...</td>\n",
       "      <td>[0.348406, -0.0545045, -0.00216654, -0.132842,...</td>\n",
       "      <td>[[0.218503, 0.0109341, 0.090625, -0.00890265, ...</td>\n",
       "      <td>[0.21065, -0.0409501, 0.0920256, -0.0774544, 0...</td>\n",
       "      <td>[0.284226, -0.0446817, 0.0150394, -0.0866968, ...</td>\n",
       "    </tr>\n",
       "    <tr>\n",
       "      <th>4</th>\n",
       "      <td>[0.141338, 0.127031, 0.0356138, -0.062714, -0....</td>\n",
       "      <td>[[0.202019, 0.187605, 0.0542731, -0.105495, -0...</td>\n",
       "      <td>[0.249164, 0.0869428, 0.0621178, -0.127689, -0...</td>\n",
       "      <td>[[0.295774, -0.106614, 0.135902, 0.013157, -0....</td>\n",
       "      <td>[0.295774, -0.106614, 0.135902, 0.013157, -0.0...</td>\n",
       "      <td>[0.263629, 0.00999229, 0.0272844, -0.0439009, ...</td>\n",
       "    </tr>\n",
       "  </tbody>\n",
       "</table>\n",
       "</div>"
      ],
      "text/plain": [
       "                                               title  \\\n",
       "0  [0.215455, -0.0678674, -0.0536728, -0.0384151,...   \n",
       "1  [0.318823, -0.100801, 0.0378541, -0.177314, -0...   \n",
       "2  [0.179084, 0.0596837, 0.118409, -0.00933529, -...   \n",
       "3  [0.241015, -0.0255318, 0.0375358, -0.132623, -...   \n",
       "4  [0.141338, 0.127031, 0.0356138, -0.062714, -0....   \n",
       "\n",
       "                                      ingredient_ind  \\\n",
       "0  [[0.091462, 0.141202, 0.103957, 0.00484193, 0....   \n",
       "1  [[-0.217296, 0.676479, -0.406482, 0.09348, 0.3...   \n",
       "2  [[0.344291, -0.155895, -0.122205, -0.326594, 0...   \n",
       "3  [[0.514625, 0.127052, 0.312318, 0.259462, 0.15...   \n",
       "4  [[0.202019, 0.187605, 0.0542731, -0.105495, -0...   \n",
       "\n",
       "                                      ingredient_avg  \\\n",
       "0  [0.323847, -0.113021, 0.0213143, -0.135363, 0....   \n",
       "1  [0.282012, -0.0117083, 0.0157072, -0.0991843, ...   \n",
       "2  [0.259661, 0.0358039, 0.179575, -0.0221815, 0....   \n",
       "3  [0.348406, -0.0545045, -0.00216654, -0.132842,...   \n",
       "4  [0.249164, 0.0869428, 0.0621178, -0.127689, -0...   \n",
       "\n",
       "                                      directions_ind  \\\n",
       "0  [[0.224048, -0.101772, 0.178376, -0.0839364, -...   \n",
       "1  [[0.287888, -0.112491, 0.0919362, -0.129807, -...   \n",
       "2  [[0.254357, -0.0437917, 0.143034, -0.0979843, ...   \n",
       "3  [[0.218503, 0.0109341, 0.090625, -0.00890265, ...   \n",
       "4  [[0.295774, -0.106614, 0.135902, 0.013157, -0....   \n",
       "\n",
       "                                      directions_avg  \\\n",
       "0  [0.257222, -0.0911494, 0.0382795, -0.0387829, ...   \n",
       "1  [0.253184, -0.0988187, 0.0498208, -0.0839749, ...   \n",
       "2  [0.290386, -0.0688211, 0.100292, -0.182143, -0...   \n",
       "3  [0.21065, -0.0409501, 0.0920256, -0.0774544, 0...   \n",
       "4  [0.295774, -0.106614, 0.135902, 0.013157, -0.0...   \n",
       "\n",
       "                                       recipe_vector  \n",
       "0  [0.296192, -0.0795992, -0.00273143, -0.0739488...  \n",
       "1  [0.319925, -0.0805943, 0.0112368, -0.122873, -...  \n",
       "2  [0.265184, 0.00772217, 0.119431, -0.0645404, -...  \n",
       "3  [0.284226, -0.0446817, 0.0150394, -0.0866968, ...  \n",
       "4  [0.263629, 0.00999229, 0.0272844, -0.0439009, ...  "
      ]
     },
     "execution_count": 75,
     "metadata": {},
     "output_type": "execute_result"
    }
   ],
   "source": [
    "df_03.head()"
   ]
  },
  {
   "cell_type": "code",
   "execution_count": 76,
   "metadata": {
    "collapsed": true
   },
   "outputs": [],
   "source": [
    "df_03.to_pickle('df_07_2_vecs.pkl')"
   ]
  },
  {
   "cell_type": "code",
   "execution_count": null,
   "metadata": {
    "collapsed": true
   },
   "outputs": [],
   "source": []
  },
  {
   "cell_type": "code",
   "execution_count": null,
   "metadata": {
    "collapsed": true
   },
   "outputs": [],
   "source": []
  }
 ],
 "metadata": {
  "kernelspec": {
   "display_name": "Python 3",
   "language": "python",
   "name": "python3"
  },
  "language_info": {
   "codemirror_mode": {
    "name": "ipython",
    "version": 3
   },
   "file_extension": ".py",
   "mimetype": "text/x-python",
   "name": "python",
   "nbconvert_exporter": "python",
   "pygments_lexer": "ipython3",
   "version": "3.6.1"
  },
  "toc": {
   "nav_menu": {},
   "number_sections": true,
   "sideBar": true,
   "skip_h1_title": false,
   "toc_cell": false,
   "toc_position": {},
   "toc_section_display": "block",
   "toc_window_display": false
  }
 },
 "nbformat": 4,
 "nbformat_minor": 2
}
