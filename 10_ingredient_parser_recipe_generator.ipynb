{
 "cells": [
  {
   "cell_type": "markdown",
   "metadata": {
    "heading_collapsed": true
   },
   "source": [
    "# Imports"
   ]
  },
  {
   "cell_type": "code",
   "execution_count": 4,
   "metadata": {
    "collapsed": true,
    "hidden": true
   },
   "outputs": [],
   "source": [
    "# Basics\n",
    "import numpy as np\n",
    "import pandas as pd\n",
    "import math\n",
    "import matplotlib.pyplot as plt\n",
    "%matplotlib inline\n",
    "import seaborn as sns\n",
    "import re\n",
    "import string\n",
    "import csv\n",
    "from os import path\n",
    "from PIL import Image\n",
    "from wordcloud import WordCloud, STOPWORDS\n",
    "from collections import Counter, defaultdict\n",
    "import pickle as pkl\n",
    "from scipy.spatial import distance\n",
    "\n",
    "# MongoDB\n",
    "from pymongo import MongoClient\n",
    "\n",
    "# natural language processing\n",
    "import nltk\n",
    "from textblob import TextBlob\n",
    "from nltk import word_tokenize, pos_tag, ne_chunk\n",
    "from nltk.tokenize import MWETokenizer\n",
    "from nltk.corpus import stopwords\n",
    "from ingreedypy import Ingreedy\n",
    "\n",
    "# sklearn\n",
    "from sklearn.feature_extraction import text \n",
    "from sklearn.feature_extraction.text import CountVectorizer\n",
    "from sklearn.feature_extraction.text import TfidfVectorizer\n",
    "\n",
    "from sklearn.preprocessing import Normalizer\n",
    "from sklearn.preprocessing import scale\n",
    "from sklearn.utils import shuffle\n",
    "from sklearn.model_selection import train_test_split\n",
    "from sklearn.cluster import KMeans\n",
    "\n",
    "from sklearn.decomposition import PCA\n",
    "from sklearn.decomposition import TruncatedSVD\n",
    "\n",
    "from sklearn import metrics\n",
    "from sklearn.metrics import pairwise_distances\n",
    "from sklearn.metrics import silhouette_score\n",
    "from sklearn.metrics.pairwise import cosine_similarity\n",
    "\n",
    "# gensim\n",
    "from gensim import corpora, models, similarities, matutils\n",
    "\n",
    "# Other\n",
    "import warnings\n",
    "warnings.filterwarnings('ignore')"
   ]
  },
  {
   "cell_type": "markdown",
   "metadata": {
    "heading_collapsed": true
   },
   "source": [
    "# Google Word2Vec Model"
   ]
  },
  {
   "cell_type": "code",
   "execution_count": 9,
   "metadata": {
    "collapsed": true,
    "hidden": true
   },
   "outputs": [],
   "source": [
    "import gensim\n",
    "google_vec_file = '/Users/carliebadder/Downloads/GoogleNews-vectors-negative300.bin'\n",
    "model = gensim.models.KeyedVectors.load_word2vec_format(google_vec_file, binary=True)"
   ]
  },
  {
   "cell_type": "code",
   "execution_count": 10,
   "metadata": {
    "collapsed": true,
    "hidden": true
   },
   "outputs": [],
   "source": [
    "model_wv = model.wv\n",
    "del model"
   ]
  },
  {
   "cell_type": "markdown",
   "metadata": {
    "heading_collapsed": true
   },
   "source": [
    "# Custom Word2Vec"
   ]
  },
  {
   "cell_type": "code",
   "execution_count": 5,
   "metadata": {
    "hidden": true
   },
   "outputs": [],
   "source": [
    "with open('word_vectors.pkl', 'rb') as f:\n",
    "    w2v = pkl.load(f)"
   ]
  },
  {
   "cell_type": "markdown",
   "metadata": {},
   "source": [
    "# Data"
   ]
  },
  {
   "cell_type": "code",
   "execution_count": 28,
   "metadata": {},
   "outputs": [],
   "source": [
    "with open('food_clusters.pkl', 'rb') as f:\n",
    "    centroids = pkl.load(f)"
   ]
  },
  {
   "cell_type": "code",
   "execution_count": 6,
   "metadata": {
    "collapsed": true
   },
   "outputs": [],
   "source": [
    "# text data\n",
    "df_text = pd.read_pickle('df_01.pkl')"
   ]
  },
  {
   "cell_type": "code",
   "execution_count": 7,
   "metadata": {
    "collapsed": true
   },
   "outputs": [],
   "source": [
    "# word2vec vectors\n",
    "df_vec = pd.read_pickle('df_03.pkl')"
   ]
  },
  {
   "cell_type": "code",
   "execution_count": 8,
   "metadata": {
    "collapsed": true
   },
   "outputs": [],
   "source": [
    "# cbow vectors\n",
    "df_cbow = pd.read_pickle('df_02.pkl')"
   ]
  },
  {
   "cell_type": "code",
   "execution_count": 9,
   "metadata": {
    "collapsed": true
   },
   "outputs": [],
   "source": [
    "# tags\n",
    "df_tags = pd.read_pickle('df_04.pkl')"
   ]
  },
  {
   "cell_type": "code",
   "execution_count": 308,
   "metadata": {
    "scrolled": true
   },
   "outputs": [
    {
     "name": "stdout",
     "output_type": "stream",
     "text": [
      "112 ['kids', 'matzoh', 'pizza']\n",
      "247 ['tossed', 'pizza', 'salad']\n",
      "292 ['oven', 'baked', 'pizza', 'caramelized', 'onions', 'gorgonzola', 'walnuts', 'oven_baked', 'caramelized_onions']\n",
      "479 ['bacon', 'cabbage', 'gruyère', 'pizza']\n",
      "656 ['grilled', 'pizza', 'tomatoes', 'corn', 'cheese']\n",
      "1052 ['pizza', 'dough', 'pizza_dough']\n",
      "1370 ['presto', 'pesto', 'pizza']\n",
      "2107 ['eggplant', 'tomato', 'fontina', 'pizza', 'eggplant_tomato']\n",
      "2144 ['soppressata', 'pizza']\n",
      "2163 ['pizza', 'pan', 'fried', 'hawaiian', 'pizza', 'pan_fried']\n",
      "2371 ['spicy', 'sausage', 'gorgonzola', 'pizza', 'spicy_sausage']\n",
      "2422 ['asparagus', 'fingerling', 'potato', 'goat', 'cheese', 'pizza', 'fingerling_potato', 'goat_cheese']\n",
      "2633 ['ricotta', 'pizza', 'pie']\n",
      "3055 ['onion', 'bacon', 'cream', 'pizza']\n",
      "3171 ['pizza', 'leeks', 'tomato', 'goat', 'cheese', 'goat_cheese']\n",
      "3245 ['apple', 'pizza']\n",
      "3309 ['grilled', 'pizza', 'yellow', 'squash', 'mozzarella', 'lemon', 'thyme', 'lemon_thyme']\n",
      "3495 ['mozzarella', 'prosciutto', 'pizza', 'balsamic', 'onions', 'balsamic_onions']\n",
      "3558 ['pizza', 'crust', 'pizza_crust']\n",
      "3764 ['pizza', 'dough', 'rounds', 'pizza_dough']\n",
      "3785 ['spicy', 'lamb', 'pizza', 'onion', 'salad']\n",
      "3963 ['grilled', 'pizza', 'crust', 'pizza_crust']\n",
      "4471 ['pizza', 'bianca', 'prosciutto', 'arugula', 'parmesan', 'pizza_bianca', 'prosciutto_arugula']\n",
      "5011 ['thanksgiving', 'skillet', 'pizza']\n",
      "5229 ['overnight', 'pizza', 'dough', 'pizza_dough']\n",
      "5261 ['cherry', 'tomato', 'pizza', 'margherita', 'cherry_tomato', 'pizza_margherita']\n",
      "5394 ['pizza', 'sausage', 'tomatoes', 'basil']\n",
      "5411 ['butternut', 'squash', 'bacon', 'rosemary', 'phyllo', 'pizza', 'butternut_squash']\n",
      "5680 ['eggplant', 'tomato', 'pizza']\n",
      "5718 ['grilled', 'pizza', 'pears', 'fresh', 'pecorino', 'walnuts']\n",
      "5734 ['smoked', 'salmon', 'pizza', 'red', 'onion', 'dill', 'smoked_salmon']\n",
      "6186 ['pizza', 'sauteed', 'endive', 'bacon', 'fontina']\n",
      "6522 ['fruit', 'cookie', 'crust', 'pizza', 'cookie_crust', 'crust_pizza']\n",
      "6755 ['white', 'bean', 'tomato', 'goat', 'cheese', 'pizza', 'goat_cheese']\n",
      "6924 ['radicchio', 'fontina', 'goat', 'cheese', 'pizza', 'goat_cheese']\n",
      "6952 ['ham', 'egg', 'pizza', 'squares']\n",
      "6995 ['chicken', 'pizza']\n",
      "7077 ['grilled', 'zucchini', 'eggplant', 'pizza', 'tapenade', 'fontina', 'grilled_zucchini']\n",
      "7362 ['grilled', 'pizza', 'tomato', 'mozzarella', 'basil', 'tomato_mozzarella']\n",
      "7707 ['smoked', 'salmon', 'dill', 'goat', 'cheese', 'pizza', 'smoked_salmon', 'goat_cheese']\n",
      "7714 ['pizza', 'figs', 'prosciutto', 'gorgonzola', 'balsamic', 'arugula']\n",
      "7925 ['wild', 'mushroom', 'pizza', 'caramelized', 'onions', 'fontina', 'rosemary', 'wild_mushroom', 'caramelized_onions']\n",
      "8064 ['prosciutto', 'arugula', 'pizza']\n",
      "8188 ['pizza', 'fontina', 'potatoes', 'tapenade']\n",
      "8311 ['pesto', 'pizza', 'crabmeat', 'artichoke', 'hearts', 'artichoke_hearts']\n",
      "8535 ['grilled', 'sausage', 'fig', 'pizza', 'goat', 'cheese', 'grilled_sausage', 'goat_cheese']\n",
      "8582 ['pizza', 'roasted', 'garlic', 'bell', 'peppers', 'two', 'cheeses', 'roasted_garlic', 'bell_peppers']\n",
      "8601 ['pizza', 'sauce']\n",
      "9026 ['mexican', 'pizza', 'chorizo', 'monterey', 'jack', 'cheese', 'sun', 'dried', 'tomatoes', 'monterey_jack', 'jack_cheese', 'sun_dried', 'dried_tomatoes']\n",
      "9353 ['wild', 'mushroom', 'pizza', 'wild_mushroom']\n",
      "9381 ['feta', 'red', 'bell', 'pepper', 'pizza', 'bell_pepper']\n",
      "9405 ['caramelized', 'onion', 'pizza', 'mushrooms', 'caramelized_onion']\n",
      "9446 ['clam', 'chard', 'bacon', 'pizza']\n",
      "9523 ['pizza', 'fontina', 'prosciutto', 'arugula']\n",
      "10211 ['tuna', 'fresh', 'mozzarella', 'basil', 'pizza', 'fresh_mozzarella']\n",
      "10537 ['double', 'crusted', 'turkey', 'sausage', 'pizza', 'turkey_sausage']\n",
      "10609 ['broccoli', 'rabe', 'black', 'olive', 'smoked', 'mozzarella', 'pizza', 'broccoli_rabe', 'smoked_mozzarella']\n",
      "10641 ['tomato', 'pie', 'pizza']\n",
      "10710 ['clam', 'bacon', 'pizza']\n",
      "10848 ['sweet', 'potato', 'kale', 'pizza', 'sweet_potato']\n",
      "10905 ['parsley', 'pesto', 'feta', 'phyllo', 'pizza', 'parsley_pesto']\n",
      "11190 ['barbecue', 'chicken', 'pizza', 'barbecue_chicken']\n",
      "11462 ['eggplant', 'green', 'olive', 'provolone', 'pizza']\n",
      "11839 ['santa', 'fe', 'tortilla', 'pizza', 'santa_fe']\n",
      "12184 ['wild', 'mushroom', 'pizza', 'garlic', 'confit', 'bacon', 'wild_mushroom', 'garlic_confit']\n",
      "12369 ['duck', 'sausage', 'pizza', 'green', 'onions', 'tomato', 'green_onions']\n",
      "12509 ['sausage', 'red', 'onion', 'wild', 'mushroom', 'pizza', 'wild_mushroom']\n",
      "12510 ['white', 'four', 'cheese', 'pizza', 'basil', 'garlic']\n",
      "12651 ['tomato', 'mozzarella', 'pizza', 'phyllo', 'crust', 'tomato_mozzarella', 'phyllo_crust']\n",
      "12711 ['tarragon', 'pizza', 'bianca', 'pizza_bianca']\n",
      "13004 ['potato', 'pizza']\n",
      "13408 ['rustic', 'green', 'pepper', 'olive', 'pan', 'pizza']\n",
      "13561 ['three', 'cheese', 'pizza', 'pancetta', 'mushrooms']\n",
      "13710 ['butternut', 'squash', 'pizza', 'butternut_squash']\n",
      "14181 ['butternut', 'squash', 'spinach', 'goat', 'cheese', 'pizza', 'butternut_squash', 'goat_cheese']\n",
      "14183 ['three', 'cheese', 'pizza', 'onion', 'sage']\n",
      "14594 ['zucchini', 'pizza', 'crust', 'lemony', 'pea', 'pesto', 'pizza_crust']\n",
      "14802 ['mesquite', 'grilled', 'pizza', 'mesquite_grilled']\n",
      "15165 ['margherita', 'pizza', 'arugula', 'margherita_pizza']\n",
      "15316 ['dick', 'clark', 'seared', 'tuna', 'pizza', 'seared_tuna']\n",
      "15438 ['pizza', 'sausage', 'sauerkraut', 'swiss', 'cheese', 'sausage_sauerkraut', 'swiss_cheese']\n",
      "15706 ['chicken', 'bell', 'pepper', 'pizza', 'barbecue', 'sauce', 'bell_pepper', 'barbecue_sauce']\n",
      "15768 ['gouda', 'red', 'salad', 'pizza']\n",
      "15995 ['ciabatta', 'pizza', 'gorgonzola', 'walnut', 'pesto', 'pears', 'walnut_pesto']\n",
      "16149 ['pan', 'fried', 'hawaiian', 'pizza', 'pan_fried']\n",
      "16644 ['potato', 'sage', 'rosemary', 'pizza']\n",
      "16655 ['artichoke', 'goat', 'cheese', 'chicken', 'pizza', 'goat_cheese']\n",
      "16942 ['grilled', 'pizza', 'fresh', 'corn', 'bell', 'pepper', 'pancetta', 'fontina', 'bell_pepper']\n",
      "16971 ['food', 'processor', 'pizza', 'dough', 'pizza_dough']\n",
      "17069 ['three', 'cheese', 'pizza', 'onion', 'sage', 'arugula']\n",
      "17077 ['goat', 'cheese', 'asparagus', 'pizza', 'goat_cheese']\n",
      "17151 ['bell', 'pepper', 'red', 'onion', 'goat', 'cheese', 'pizza', 'bell_pepper', 'goat_cheese']\n",
      "17162 ['santa', 'fe', 'pizza', 'santa_fe']\n",
      "17307 ['artichoke', 'feta', 'cheese', 'pizza', 'feta_cheese']\n",
      "17388 ['phyllo', 'pizza', 'smoked', 'mozzarella', 'cherry', 'tomatoes', 'smoked_mozzarella', 'cherry_tomatoes']\n"
     ]
    }
   ],
   "source": [
    "for i in range(len(df_cbow)):\n",
    "    if 'pizza' in df_cbow.title[i]:\n",
    "        print(i, df_cbow.title[i])"
   ]
  },
  {
   "cell_type": "code",
   "execution_count": null,
   "metadata": {
    "scrolled": true
   },
   "outputs": [],
   "source": []
  },
  {
   "cell_type": "markdown",
   "metadata": {
    "heading_collapsed": true
   },
   "source": [
    "# MWE Tokenizer"
   ]
  },
  {
   "cell_type": "code",
   "execution_count": 12,
   "metadata": {
    "collapsed": true,
    "hidden": true
   },
   "outputs": [],
   "source": [
    "with open('ngram_list.pkl', 'rb') as f:\n",
    "    ngram_list = pickle.load(f)"
   ]
  },
  {
   "cell_type": "code",
   "execution_count": 13,
   "metadata": {
    "collapsed": true,
    "hidden": true
   },
   "outputs": [],
   "source": [
    "tokenizer = MWETokenizer(ngram_list)"
   ]
  },
  {
   "cell_type": "markdown",
   "metadata": {},
   "source": [
    "# Dictionaries"
   ]
  },
  {
   "cell_type": "code",
   "execution_count": 14,
   "metadata": {
    "collapsed": true
   },
   "outputs": [],
   "source": [
    "# probability of ingredients\n",
    "df_meat_probs = pd.read_pickle('df_meat.pkl')\n",
    "df_seas_probs = pd.read_pickle('df_seasonings.pkl')\n",
    "df_veg_probs = pd.read_pickle('df_veg.pkl')\n",
    "df_fruit_probs = pd.read_pickle('df_fruit.pkl')\n",
    "df_grains_probs = pd.read_pickle('df_grains.pkl')\n",
    "df_dairy_probs = pd.read_pickle('df_dairy.pkl')\n",
    "df_cond_probs = pd.read_pickle('df_condiments.pkl')"
   ]
  },
  {
   "cell_type": "code",
   "execution_count": 17,
   "metadata": {
    "collapsed": true
   },
   "outputs": [],
   "source": [
    "food_dfs = {'fruits': df_fruit_probs, \n",
    "              'vegetables': df_veg_probs, \n",
    "              'grains': df_grains_probs, \n",
    "              'seasonings': df_seas_probs,\n",
    "              'meat': df_meat_probs, \n",
    "              'dairy': df_dairy_probs, \n",
    "              'condiments': df_cond_probs}"
   ]
  },
  {
   "cell_type": "code",
   "execution_count": 18,
   "metadata": {
    "collapsed": true
   },
   "outputs": [],
   "source": [
    "food_types = {'fruits': list(df_fruit_probs.index), \n",
    "              'vegetables': list(df_veg_probs.index), \n",
    "              'grains': list(df_grains_probs.index), \n",
    "              'seasonings': list(df_seas_probs.index),\n",
    "              'meat': list(df_meat_probs.index), \n",
    "              'dairy': list(df_dairy_probs.index), \n",
    "              'condiments': list(df_cond_probs.index), \n",
    "              'bases': bases}\n",
    "food_tags = food_types.keys()\n"
   ]
  },
  {
   "cell_type": "code",
   "execution_count": 366,
   "metadata": {},
   "outputs": [
    {
     "data": {
      "text/html": [
       "<div>\n",
       "<style>\n",
       "    .dataframe thead tr:only-child th {\n",
       "        text-align: right;\n",
       "    }\n",
       "\n",
       "    .dataframe thead th {\n",
       "        text-align: left;\n",
       "    }\n",
       "\n",
       "    .dataframe tbody tr th {\n",
       "        vertical-align: top;\n",
       "    }\n",
       "</style>\n",
       "<table border=\"1\" class=\"dataframe\">\n",
       "  <thead>\n",
       "    <tr style=\"text-align: right;\">\n",
       "      <th></th>\n",
       "      <th>African</th>\n",
       "      <th>American</th>\n",
       "      <th>Asian</th>\n",
       "      <th>Dessert</th>\n",
       "      <th>East European</th>\n",
       "      <th>Jewish</th>\n",
       "      <th>Latin</th>\n",
       "      <th>Middle Eastern</th>\n",
       "      <th>West European</th>\n",
       "    </tr>\n",
       "  </thead>\n",
       "  <tbody>\n",
       "    <tr>\n",
       "      <th>muffuletta</th>\n",
       "      <td>NaN</td>\n",
       "      <td>0.000636</td>\n",
       "      <td>NaN</td>\n",
       "      <td>NaN</td>\n",
       "      <td>NaN</td>\n",
       "      <td>NaN</td>\n",
       "      <td>NaN</td>\n",
       "      <td>NaN</td>\n",
       "      <td>NaN</td>\n",
       "    </tr>\n",
       "    <tr>\n",
       "      <th>crouton</th>\n",
       "      <td>NaN</td>\n",
       "      <td>NaN</td>\n",
       "      <td>NaN</td>\n",
       "      <td>NaN</td>\n",
       "      <td>0.000864</td>\n",
       "      <td>0.000571</td>\n",
       "      <td>NaN</td>\n",
       "      <td>NaN</td>\n",
       "      <td>0.000464</td>\n",
       "    </tr>\n",
       "    <tr>\n",
       "      <th>rice</th>\n",
       "      <td>0.360656</td>\n",
       "      <td>0.050691</td>\n",
       "      <td>0.446711</td>\n",
       "      <td>0.018863</td>\n",
       "      <td>0.047537</td>\n",
       "      <td>0.054286</td>\n",
       "      <td>0.091808</td>\n",
       "      <td>0.068835</td>\n",
       "      <td>0.032464</td>\n",
       "    </tr>\n",
       "    <tr>\n",
       "      <th>matzos</th>\n",
       "      <td>NaN</td>\n",
       "      <td>NaN</td>\n",
       "      <td>NaN</td>\n",
       "      <td>0.000114</td>\n",
       "      <td>NaN</td>\n",
       "      <td>0.010286</td>\n",
       "      <td>NaN</td>\n",
       "      <td>NaN</td>\n",
       "      <td>NaN</td>\n",
       "    </tr>\n",
       "    <tr>\n",
       "      <th>baguettes</th>\n",
       "      <td>NaN</td>\n",
       "      <td>0.000636</td>\n",
       "      <td>NaN</td>\n",
       "      <td>NaN</td>\n",
       "      <td>NaN</td>\n",
       "      <td>0.000571</td>\n",
       "      <td>0.000254</td>\n",
       "      <td>0.000581</td>\n",
       "      <td>0.000928</td>\n",
       "    </tr>\n",
       "    <tr>\n",
       "      <th>crusts</th>\n",
       "      <td>0.001261</td>\n",
       "      <td>0.005721</td>\n",
       "      <td>0.000624</td>\n",
       "      <td>0.008352</td>\n",
       "      <td>0.005186</td>\n",
       "      <td>0.009714</td>\n",
       "      <td>0.000761</td>\n",
       "      <td>0.004938</td>\n",
       "      <td>0.006609</td>\n",
       "    </tr>\n",
       "    <tr>\n",
       "      <th>corn</th>\n",
       "      <td>0.052963</td>\n",
       "      <td>0.105355</td>\n",
       "      <td>0.033097</td>\n",
       "      <td>0.027555</td>\n",
       "      <td>0.060501</td>\n",
       "      <td>0.068000</td>\n",
       "      <td>0.222927</td>\n",
       "      <td>0.028464</td>\n",
       "      <td>0.012754</td>\n",
       "    </tr>\n",
       "    <tr>\n",
       "      <th>muffin</th>\n",
       "      <td>NaN</td>\n",
       "      <td>0.003496</td>\n",
       "      <td>0.000416</td>\n",
       "      <td>0.017499</td>\n",
       "      <td>0.009507</td>\n",
       "      <td>0.005714</td>\n",
       "      <td>0.000761</td>\n",
       "      <td>0.001452</td>\n",
       "      <td>0.005217</td>\n",
       "    </tr>\n",
       "    <tr>\n",
       "      <th>sorghum</th>\n",
       "      <td>0.008827</td>\n",
       "      <td>0.000636</td>\n",
       "      <td>NaN</td>\n",
       "      <td>0.000455</td>\n",
       "      <td>NaN</td>\n",
       "      <td>0.002857</td>\n",
       "      <td>0.000254</td>\n",
       "      <td>NaN</td>\n",
       "      <td>NaN</td>\n",
       "    </tr>\n",
       "    <tr>\n",
       "      <th>rye_bread</th>\n",
       "      <td>NaN</td>\n",
       "      <td>0.002225</td>\n",
       "      <td>0.000624</td>\n",
       "      <td>NaN</td>\n",
       "      <td>0.005186</td>\n",
       "      <td>0.001714</td>\n",
       "      <td>NaN</td>\n",
       "      <td>0.000290</td>\n",
       "      <td>0.001391</td>\n",
       "    </tr>\n",
       "  </tbody>\n",
       "</table>\n",
       "</div>"
      ],
      "text/plain": [
       "             African  American     Asian   Dessert  East European    Jewish  \\\n",
       "muffuletta       NaN  0.000636       NaN       NaN            NaN       NaN   \n",
       "crouton          NaN       NaN       NaN       NaN       0.000864  0.000571   \n",
       "rice        0.360656  0.050691  0.446711  0.018863       0.047537  0.054286   \n",
       "matzos           NaN       NaN       NaN  0.000114            NaN  0.010286   \n",
       "baguettes        NaN  0.000636       NaN       NaN            NaN  0.000571   \n",
       "crusts      0.001261  0.005721  0.000624  0.008352       0.005186  0.009714   \n",
       "corn        0.052963  0.105355  0.033097  0.027555       0.060501  0.068000   \n",
       "muffin           NaN  0.003496  0.000416  0.017499       0.009507  0.005714   \n",
       "sorghum     0.008827  0.000636       NaN  0.000455            NaN  0.002857   \n",
       "rye_bread        NaN  0.002225  0.000624       NaN       0.005186  0.001714   \n",
       "\n",
       "               Latin  Middle Eastern  West European  \n",
       "muffuletta       NaN             NaN            NaN  \n",
       "crouton          NaN             NaN       0.000464  \n",
       "rice        0.091808        0.068835       0.032464  \n",
       "matzos           NaN             NaN            NaN  \n",
       "baguettes   0.000254        0.000581       0.000928  \n",
       "crusts      0.000761        0.004938       0.006609  \n",
       "corn        0.222927        0.028464       0.012754  \n",
       "muffin      0.000761        0.001452       0.005217  \n",
       "sorghum     0.000254             NaN            NaN  \n",
       "rye_bread        NaN        0.000290       0.001391  "
      ]
     },
     "execution_count": 366,
     "metadata": {},
     "output_type": "execute_result"
    }
   ],
   "source": [
    "df_grains_probs.sample(10)"
   ]
  },
  {
   "cell_type": "markdown",
   "metadata": {},
   "source": [
    "# Parser"
   ]
  },
  {
   "cell_type": "markdown",
   "metadata": {
    "heading_collapsed": true
   },
   "source": [
    "## Nouns and Measurements/Stopwords"
   ]
  },
  {
   "cell_type": "code",
   "execution_count": 103,
   "metadata": {
    "collapsed": true,
    "hidden": true
   },
   "outputs": [],
   "source": [
    "nouns = ['NN','NNS','DT']\n",
    "        \n",
    "measurements = ['cup','cups','C','c','gram','grams','g','kilogram','kilograms','kg','liter','liters','L','l',\n",
    "               'pound','pounds','lb','milliliter','milliliters','ml','mL','ounce','ounces','oz','pint','pints','pt',\n",
    "               'teaspoon','teaspoons','t','tsp','tablespoon','tablespoons','T','TB','Tbl','Tbsp','tbsp','quart','quarts','qt',\n",
    "               'dash','pinch','piece','pieces','slice','slices','sheet','sheets','log','stick','sticks','head',\n",
    "               'chopped','diced','sliced','cored','seeded','trimmed','chunk','chunks','minced','divided','cut',\n",
    "               'packed','fresh','large','medium','small','sprig','thin','thinly','thick','inch','well','chilled',\n",
    "               'half','halved','halves','peeled','crumbled','crushed','dice','packaged','purchased','cubes','package',\n",
    "               'separated','fine','finely','coarsely','freshly','generous','diameter','stemmed','packages','thaw',\n",
    "               'thawed','additional','grated','grate', 'pitted','rounds','wedges','skinned','deveined','shredded',\n",
    "               'unpeeled','optional','preferably','long','frozen','room','temperature','quartered','sometimes','called',\n",
    "               'reserve','reserved','plus','lengthwise','parts','discarded','parts','bunch','shelled','available',\n",
    "               'seasonally','markets','bottle','canned','drained','ingredient','ground','whole','round','style',\n",
    "               'cans','leaves','strips','ground','bag','strip','split','supermarket','supermarkets','specialty',\n",
    "               'crosswise','size','ring','rings','square','squares','colors','julienne','minute','minutes','dry',\n",
    "               'chopping','shell','notes','shells','wash','diagonal','accompaniment','string','strings','press',\n",
    "               'dish','firm','dash','dashes']\n",
    "\n",
    "# sprigs, bunches?\n",
    "\n",
    "essentials = ['flour','butter','salt','baking_soda','baking_powder','olive_oil','water','kosher_salt',\n",
    "             'eggs','egg','sugar','brown_sugar','granulated_sugar','garlic','garlic_cloves','garlic_clove',\n",
    "             'ice','equipment','unsalted_butter', 'unsalted_butter', 'cloves_garlic', 'melted_butter', 'oil',\n",
    "             'pepper','egg_yolk','egg_white','egg_yolks','egg_whites']\n"
   ]
  },
  {
   "cell_type": "markdown",
   "metadata": {},
   "source": [
    "## Functions"
   ]
  },
  {
   "cell_type": "code",
   "execution_count": 140,
   "metadata": {
    "collapsed": true
   },
   "outputs": [],
   "source": [
    "# 3.0\n",
    "# Functions\n",
    "# check if the replacement word is essentially the same ingredient\n",
    "def similar(a, b):\n",
    "    c = 0\n",
    "    if a in b or b in a:\n",
    "        c+=1\n",
    "    if a == b.lower():\n",
    "        c+=1\n",
    "    return c>0\n",
    "\n",
    "from numpy.random import choice\n",
    "\n",
    "def normalize(lst):\n",
    "    s = sum(lst)\n",
    "    return map(lambda x: (float(x)/s), lst)"
   ]
  },
  {
   "cell_type": "code",
   "execution_count": 141,
   "metadata": {
    "collapsed": true
   },
   "outputs": [],
   "source": [
    "def preprocess_cbow(text):\n",
    "    text = text.lower()\n",
    "    doc = text.split()\n",
    "    \n",
    "    doc2 = []\n",
    "    for word in doc:\n",
    "        if '-' in word:\n",
    "            two_words = word.split('-')\n",
    "            doc2.extend(two_words)\n",
    "        elif '/' in word:\n",
    "            two_words = word.split('/')\n",
    "            doc2.extend(two_words)\n",
    "        else:\n",
    "            doc2.append(word)\n",
    "\n",
    "    doc2 = [re.sub('[%s]' % re.escape(string.punctuation), '', word) for word in doc2]\n",
    "    doc2 = [word for word in doc2 if word.isalpha()]\n",
    "    doc2 = [word for word in doc2 if word not in measurements]\n",
    "    doc2 = tokenizer.tokenize(doc2)\n",
    "    doc2 = pos_tag(doc2)\n",
    "    doc2 = [x[0] for x in doc2 if x[1] in nouns]\n",
    "    doc2 = [w for w in doc2 if w in w2v]\n",
    "    \n",
    "    return doc2"
   ]
  },
  {
   "cell_type": "code",
   "execution_count": 142,
   "metadata": {
    "collapsed": true
   },
   "outputs": [],
   "source": [
    "def document_vector(word2vec_model, doc):\n",
    "    doc = [word for word in doc if word in w2v]\n",
    "    return np.mean(word2vec_model[doc], axis=0)"
   ]
  },
  {
   "cell_type": "code",
   "execution_count": 143,
   "metadata": {
    "collapsed": true
   },
   "outputs": [],
   "source": [
    "ing_types = ['mustards','green_onions','baking_ing','vegetables','herbs','milk',\n",
    "            'ginger','spices','citrus_juice','whipping_cream','citrus_fruits','baking_adds',\n",
    "            'grains','cheese','onion','bell_peppers','vinegars','fruits','meats','wine/sauce']\n",
    "\n",
    "def ingredient_label(ing_vec):\n",
    "    compare = []\n",
    "    for i in range(20):\n",
    "        clust_cent = centroids[i]\n",
    "        compare.append([cosine_similarity(clust_cent, ing_vec), ing_types[i]])\n",
    "    return max(compare)[1]"
   ]
  },
  {
   "cell_type": "code",
   "execution_count": 315,
   "metadata": {
    "scrolled": false
   },
   "outputs": [],
   "source": [
    "def ingredient_parser(ingredient):\n",
    "    # ingredient text\n",
    "    ing = ingredient\n",
    "    \n",
    "    # ingredient cleaned, continuous bag of words\n",
    "    ing_cbow = preprocess_cbow(ing) \n",
    "    \n",
    "    # food2vec\n",
    "    try:\n",
    "        ing_vec = document_vector(w2v, ing_cbow) \n",
    "    except:\n",
    "        return ('No replacement recommended for : ' + ing)\n",
    "    \n",
    "    # make sure the ingredient isn't a non-replaceable one\n",
    "    test_ess = [w for w in ing_cbow if w in essentials] \n",
    "    \n",
    "    if len(test_ess) == len(ing_cbow):\n",
    "#         temp_type = 'essential'\n",
    "        return ('No replacement recommended for : ' + ing)\n",
    "\n",
    "    # if the ingredient might be replaceable...\n",
    "    else:\n",
    "        # use the ingredient_label function to figure out the type of ingredient\n",
    "        ing_label = ingredient_label(ing_vec)\n",
    "\n",
    "        # find possible matches depending on the label, the food_tag, w2v similarity, and food_types dictionaries\n",
    "        if ing_label=='fruits' or ing_label=='citrus_fruits':\n",
    "            # search food_tags = 'fruits'\n",
    "            temp_type = 'fruits'\n",
    "            \n",
    "        elif ing_label=='vegetables' or ing_label=='bell_peppers' or ing_label=='onion':\n",
    "            # search food_tags = 'vegetables'\n",
    "            temp_type = 'vegetables'\n",
    "\n",
    "        elif ing_label=='grains':\n",
    "            # search food_tags = 'grains'\n",
    "            temp_type = 'grains'\n",
    "\n",
    "        elif ing_label=='mustards' or ing_label=='vinegars' or ing_label=='wine/sauce' or ing_label=='citrus_juice':\n",
    "            # search food_tags = 'condiments'\n",
    "            temp_type = 'condiments'\n",
    "\n",
    "        elif ing_label=='cheese' or ing_label=='milk' or ing_label=='whipping_cream':\n",
    "            # search food_tags = 'dairy'\n",
    "            temp_type = 'dairy'\n",
    "\n",
    "        elif ing_label=='meats':\n",
    "            # search food_tags = 'meat'\n",
    "            temp_type = 'meat'\n",
    "\n",
    "        elif ing_label=='green_onions' or ing_label=='herbs' or ing_label=='ginger' or ing_label=='spices':\n",
    "            # search food_tags = 'seasonings'\n",
    "            temp_type = 'seasonings'\n",
    "        \n",
    "        else: # if we can't be confident about a food label\n",
    "            return ('No replacement recommended for : ' + (ing))\n",
    "\n",
    "    poss_matches = [x for x in w2v.most_similar(ing_cbow,topn=15) if x[0] in food_types[temp_type]]\n",
    "    poss_matches = [x for x in poss_matches if not similar(x[0], ' '.join(ing_cbow))]\n",
    "    \n",
    "    temp_matches = []\n",
    "    if len(poss_matches) > 0:\n",
    "        for x in poss_matches:\n",
    "            temp_prob = food_dfs[temp_type].loc[x[0]][cuisine_filter]\n",
    "            if not np.isnan(temp_prob):\n",
    "                temp_matches.append((x[0], temp_prob))\n",
    "    else:\n",
    "        return ('No replacement recommended for : ' + ing)\n",
    "\n",
    "    if temp_matches != []:\n",
    "        rep_list = [x[0] for x in temp_matches]\n",
    "        prob_list = [x[1] for x in temp_matches]\n",
    "        norm_prob_list = list(normalize(prob_list))\n",
    "\n",
    "        replacement_ingredient = choice(rep_list, 1, p=norm_prob_list)\n",
    "        return ('Replace ' + ing + ' with :' + replacement_ingredient[0])\n",
    "    else:\n",
    "        return ('No replacement recommended for : ' + ing)\n",
    "    "
   ]
  },
  {
   "cell_type": "markdown",
   "metadata": {},
   "source": [
    "## Test Recipes"
   ]
  },
  {
   "cell_type": "code",
   "execution_count": 221,
   "metadata": {},
   "outputs": [],
   "source": [
    "# 2013 to African\n",
    "# 144 to african\n",
    "# 1785 to west european\n",
    "# 8582 to latin (pizza)\n",
    "# 13561 to latin pizza\n",
    "filters = list(df_tags.kmeans_rec.unique())"
   ]
  },
  {
   "cell_type": "code",
   "execution_count": 338,
   "metadata": {
    "collapsed": true
   },
   "outputs": [],
   "source": [
    "recipe_num = 13561\n",
    "cuisine_filter = 'Latin'\n",
    "recipe_title = df_text.iloc[recipe_num].title\n",
    "ingredient_list = df_text.iloc[recipe_num].ingredients\n",
    "original_cuisine = df_tags.loc[df_text.iloc[recipe_num].title].kmeans_rec\n",
    "ingredient_cbow = df_cbow.iloc[recipe_num].ingredients"
   ]
  },
  {
   "cell_type": "code",
   "execution_count": 339,
   "metadata": {},
   "outputs": [
    {
     "name": "stdout",
     "output_type": "stream",
     "text": [
      "Recipe:  Three-Cheese Pizza with Pancetta and Mushrooms \n",
      "Original Cuisine:  West European\n",
      "Cuisine Filter:  Latin \n",
      "\n",
      "0 : Pizza dough\n",
      "1 : 1/2 cup purchased marinara sauce\n",
      "2 : 1 cup coarsely grated Fontina cheese\n",
      "3 : 1/2 cup finely grated Parmesan cheese\n",
      "4 : 1/3 cup coarsely grated mozzarella cheese\n",
      "5 : 2 ounces crimini (baby bella) mushrooms, thinly sliced\n",
      "6 : 2 ounces thinly sliced pancetta (Italian bacon), coarsely chopped\n"
     ]
    }
   ],
   "source": [
    "print('Recipe: ', recipe_title)\n",
    "print('Original Cuisine: ', original_cuisine)\n",
    "print('Cuisine Filter: ', cuisine_filter, '\\n')\n",
    "\n",
    "for i in range(len(ingredient_list)):\n",
    "    print(i, ':', ingredient_list[i])"
   ]
  },
  {
   "cell_type": "code",
   "execution_count": 342,
   "metadata": {},
   "outputs": [
    {
     "name": "stdout",
     "output_type": "stream",
     "text": [
      "1/2 cup finely grated Parmesan cheese\n"
     ]
    },
    {
     "data": {
      "text/plain": [
       "'No replacement recommended for : 1/2 cup finely grated Parmesan cheese'"
      ]
     },
     "execution_count": 342,
     "metadata": {},
     "output_type": "execute_result"
    }
   ],
   "source": [
    "# test on individual ingredient\n",
    "num = 3\n",
    "ing_item = ingredient_cbow[num]\n",
    "ing_text = ingredient_list[num]\n",
    "print((ing_text))\n",
    "\n",
    "ingredient_parser(ing_text)"
   ]
  },
  {
   "cell_type": "code",
   "execution_count": 344,
   "metadata": {},
   "outputs": [
    {
     "name": "stdout",
     "output_type": "stream",
     "text": [
      "Replace Pizza dough with :puff_pastry\n",
      "No replacement recommended for : 1/2 cup purchased marinara sauce\n",
      "No replacement recommended for : 1 cup coarsely grated Fontina cheese\n",
      "No replacement recommended for : 1/2 cup finely grated Parmesan cheese\n",
      "Replace 1/3 cup coarsely grated mozzarella cheese with :pepper_jack\n",
      "Replace 2 ounces crimini (baby bella) mushrooms, thinly sliced with :chanterelle\n",
      "Replace 2 ounces thinly sliced pancetta (Italian bacon), coarsely chopped with :chorizo\n"
     ]
    }
   ],
   "source": [
    "# test on ingredient list\n",
    "for ing_item in ingredient_list:\n",
    "    print(ingredient_parser(ing_item))"
   ]
  },
  {
   "cell_type": "code",
   "execution_count": null,
   "metadata": {},
   "outputs": [],
   "source": []
  },
  {
   "cell_type": "code",
   "execution_count": null,
   "metadata": {
    "collapsed": true
   },
   "outputs": [],
   "source": []
  },
  {
   "cell_type": "markdown",
   "metadata": {
    "collapsed": true,
    "heading_collapsed": true
   },
   "source": [
    "# Widget"
   ]
  },
  {
   "cell_type": "code",
   "execution_count": 193,
   "metadata": {
    "collapsed": true,
    "hidden": true
   },
   "outputs": [],
   "source": [
    "from ipywidgets import widgets\n",
    "from IPython.display import display\n",
    "from ipywidgets import interactive\n",
    "from ipywidgets import Layout\n",
    "import traitlets\n",
    "from ipywidgets import interact, interactive, fixed, interact_manual"
   ]
  },
  {
   "cell_type": "code",
   "execution_count": 231,
   "metadata": {
    "collapsed": true,
    "hidden": true
   },
   "outputs": [],
   "source": [
    "def on_submit(Submit):\n",
    "    if Submit:\n",
    "        n = recipe_id.value\n",
    "        cuisine_filter = c_filter.value\n",
    "        recipe_title = df_text.iloc[recipe_num].title\n",
    "        ingredient_list = df_text.iloc[recipe_num].ingredients\n",
    "        original_cuisine = df_tags.loc[df_text.iloc[recipe_num].title].kmeans_rec\n",
    "        ingredient_cbow = df_cbow.iloc[recipe_num].ingredients\n",
    "        \n",
    "        print('Recipe: ', recipe_title)\n",
    "        print('Original Cuisine: ', original_cuisine)\n",
    "        print('Cuisine Filter: ', cuisine_filter, '\\n')\n",
    "\n",
    "        for i in range(len(ingredient_list)):\n",
    "            print(i, ':', ingredient_list[i])\n",
    "\n",
    "#         w = wine_type.value\n",
    "#         fruit = fruit_flavors.value\n",
    "#         other = more_flavors.value\n",
    "#         descriptions = descriptor.value\n",
    "        return n\n",
    "\n",
    "def recipe_title(x):\n",
    "    num = int(x)\n",
    "    return df_text.iloc[num].title"
   ]
  },
  {
   "cell_type": "code",
   "execution_count": null,
   "metadata": {
    "hidden": true
   },
   "outputs": [],
   "source": []
  },
  {
   "cell_type": "code",
   "execution_count": 252,
   "metadata": {
    "hidden": true
   },
   "outputs": [],
   "source": [
    "recipe_id = widgets.IntText(\n",
    "    value=7,\n",
    "    description='ID Number:',\n",
    "    disabled=False,\n",
    "    \n",
    ")\n",
    "\n",
    "cuisine_list = widgets.ToggleButtons(\n",
    "    options=filters,\n",
    "    description='Cuisine Options:',\n",
    "    disabled=False,\n",
    "    button_style='' # 'success', 'info', 'warning', 'danger' or ''\n",
    "#     tooltips=['Red', 'White', 'Surprise Me'],\n",
    ")\n",
    "\n",
    "cuisine_list.observe(names=)\n",
    "\n",
    "c_filter = widgets.ToggleButtons(\n",
    "    options=filters,\n",
    "    description='Cuisine Options:',\n",
    "    disabled=False,\n",
    "    button_style='' # 'success', 'info', 'warning', 'danger' or ''\n",
    "#     tooltips=['Red', 'White', 'Surprise Me'],\n",
    ")\n"
   ]
  },
  {
   "cell_type": "code",
   "execution_count": 253,
   "metadata": {
    "hidden": true
   },
   "outputs": [],
   "source": [
    "accordion = widgets.Accordion(children=[cuisine_list,c_filter]) #, fruit_flavors, more_flavors, descriptor])\n",
    "accordion.set_title(0, 'Choose a Cuisine:')\n",
    "accordion.set_title(1, 'Choose a Cuisine Filter:')"
   ]
  },
  {
   "cell_type": "code",
   "execution_count": 254,
   "metadata": {
    "hidden": true
   },
   "outputs": [
    {
     "data": {
      "application/vnd.jupyter.widget-view+json": {
       "model_id": "75337284dd2d4471bc2756543d85e75e"
      }
     },
     "metadata": {},
     "output_type": "display_data"
    },
    {
     "data": {
      "application/vnd.jupyter.widget-view+json": {
       "model_id": "6ea68562e5cd469187d28dc0d92272c5"
      }
     },
     "metadata": {},
     "output_type": "display_data"
    }
   ],
   "source": [
    "display(accordion)\n",
    "interact(on_submit, Submit=False);\n",
    "# interact_manual(on_submit, Submit=False);"
   ]
  },
  {
   "cell_type": "code",
   "execution_count": null,
   "metadata": {
    "collapsed": true,
    "hidden": true
   },
   "outputs": [],
   "source": []
  }
 ],
 "metadata": {
  "kernelspec": {
   "display_name": "Python 3",
   "language": "python",
   "name": "python3"
  },
  "language_info": {
   "codemirror_mode": {
    "name": "ipython",
    "version": 3
   },
   "file_extension": ".py",
   "mimetype": "text/x-python",
   "name": "python",
   "nbconvert_exporter": "python",
   "pygments_lexer": "ipython3",
   "version": "3.6.1"
  },
  "toc": {
   "nav_menu": {},
   "number_sections": true,
   "sideBar": true,
   "skip_h1_title": false,
   "toc_cell": false,
   "toc_position": {
    "height": "618px",
    "left": "0px",
    "right": "1035px",
    "top": "107px",
    "width": "212px"
   },
   "toc_section_display": "block",
   "toc_window_display": true
  }
 },
 "nbformat": 4,
 "nbformat_minor": 2
}
