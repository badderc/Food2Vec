{
 "cells": [
  {
   "cell_type": "markdown",
   "metadata": {},
   "source": [
    "This notebook creates the custom word2vec model and the conitnuous bag of words dataframe for the recipes. First we take the original recipe dataframe with strings, preprocess the text into monograms and bigrams and check them against the Google W2V model's vocabulary to create a dictionary of words and two-word phrases for the custom W2V's corpus. That dictionary is used to train the MWETokenizer with acceptable bigrams that should always be bigrams. Next, we tokenize the recipes again, into sentences and words, and then train the custom word2vec model. Lastly, we process the recipes one more time to create continuous bags of words for the title, ingredients, directions, and recipes as a whole. That final dataframe is saved to be used in the next notebook to create document vectors."
   ]
  },
  {
   "cell_type": "markdown",
   "metadata": {},
   "source": [
    "# Imports"
   ]
  },
  {
   "cell_type": "code",
   "execution_count": 179,
   "metadata": {
    "collapsed": true
   },
   "outputs": [],
   "source": [
    "# Basics\n",
    "import numpy as np\n",
    "import pandas as pd\n",
    "import math\n",
    "import matplotlib.pyplot as plt\n",
    "%matplotlib inline\n",
    "import seaborn as sns\n",
    "import re\n",
    "import string\n",
    "import csv\n",
    "from os import path\n",
    "from PIL import Image\n",
    "from wordcloud import WordCloud, STOPWORDS\n",
    "\n",
    "# MongoDB\n",
    "from pymongo import MongoClient\n",
    "\n",
    "# natural language processing\n",
    "import nltk\n",
    "from nltk.util import ngrams\n",
    "from textblob import TextBlob\n",
    "from nltk import word_tokenize, pos_tag, ne_chunk\n",
    "from nltk.corpus import stopwords\n",
    "from ingreedypy import Ingreedy\n",
    "stop_words = stopwords.words('english')\n",
    "\n",
    "# sklearn\n",
    "from sklearn.feature_extraction import text \n",
    "from sklearn.feature_extraction.text import CountVectorizer\n",
    "from sklearn.feature_extraction.text import TfidfVectorizer\n",
    "\n",
    "from sklearn.preprocessing import Normalizer\n",
    "from sklearn.preprocessing import scale\n",
    "from sklearn.utils import shuffle\n",
    "from sklearn.model_selection import train_test_split\n",
    "from sklearn.cluster import KMeans\n",
    "\n",
    "from sklearn.decomposition import PCA\n",
    "from sklearn.decomposition import TruncatedSVD\n",
    "\n",
    "from sklearn import metrics\n",
    "from sklearn.metrics import pairwise_distances\n",
    "from sklearn.metrics import silhouette_score\n",
    "\n",
    "# gensim\n",
    "from gensim import corpora, models, similarities, matutils\n",
    "import gensim\n",
    "\n",
    "# Other\n",
    "import warnings\n",
    "warnings.filterwarnings('ignore')\n"
   ]
  },
  {
   "cell_type": "markdown",
   "metadata": {
    "heading_collapsed": true
   },
   "source": [
    "# Google WV"
   ]
  },
  {
   "cell_type": "code",
   "execution_count": 2,
   "metadata": {
    "collapsed": true,
    "hidden": true
   },
   "outputs": [],
   "source": [
    "import gensim\n",
    "google_vec_file = '/Users/carliebadder/Downloads/GoogleNews-vectors-negative300.bin'\n",
    "g_model = gensim.models.KeyedVectors.load_word2vec_format(google_vec_file, binary=True)"
   ]
  },
  {
   "cell_type": "markdown",
   "metadata": {},
   "source": [
    "# MWETokenizer with bi- and tri-grams"
   ]
  },
  {
   "cell_type": "code",
   "execution_count": 180,
   "metadata": {
    "collapsed": true
   },
   "outputs": [],
   "source": [
    "# text data\n",
    "df_text = pd.read_pickle('df_01.pkl')"
   ]
  },
  {
   "cell_type": "code",
   "execution_count": 336,
   "metadata": {
    "scrolled": true
   },
   "outputs": [
    {
     "data": {
      "text/plain": [
       "0                                                       Lentil, Apple, and Turkey Wrap \n",
       "1                                           Boudin Blanc Terrine with Red Onion Confit \n",
       "2                                                         Potato and Fennel Soup Hodge \n",
       "3                                                      Mahi-Mahi in Tomato Olive Sauce \n",
       "4                                                             Spinach Noodle Casserole \n",
       "5                                                                        The Best Blts \n",
       "6                              Ham and Spring Vegetable Salad with Shallot Vinaigrette \n",
       "7                                                                 Spicy-Sweet Kumquats \n",
       "8                                                                Korean Marinated Beef \n",
       "9                             Ham Persillade with Mustard Potato Salad and Mashed Peas \n",
       "10                                        Yams Braised with Cream, Rosemary and Nutmeg \n",
       "11                                                                   Spicy Noodle Soup \n",
       "12                              Banana-Chocolate Chip Cake With Peanut Butter Frosting \n",
       "13                                              Beef Tenderloin with Garlic and Brandy \n",
       "14                                                                       Peach Mustard \n",
       "15                                                           Raw Cream of Spinach Soup \n",
       "16                                                       Sweet Buttermilk Spoon Breads \n",
       "17                                                         Crisp Braised Pork Shoulder \n",
       "18                                  Mozzarella-Topped Peppers with Tomatoes and Garlic \n",
       "19       Tuna, Asparagus, and New Potato Salad with Chive Vinaigrette and Fried Capers \n",
       "20                                Asian Pear and Watercress Salad with Sesame Dressing \n",
       "21                                                                     \"Fried\" Chicken \n",
       "22                                 Fish Fillets in Parchment with Asparagus and Orange \n",
       "23                                          Pancetta and Taleggio Lasagna with Treviso \n",
       "24                                                             Sea Salt-Roasted Pecans \n",
       "25                                                              Garlic Baguette Crumbs \n",
       "26                                                            Cucumber-Basil Egg Salad \n",
       "27                                                                   Dried Pear Crisps \n",
       "28             Green Bean, Red Onion, and Roast Potato Salad with Rosemary Vinaigrette \n",
       "29                                                           Apricot-Cherry Shortcakes \n",
       "                                              ...                                      \n",
       "17406                                                        Pepperoni Spaghetti Cakes \n",
       "17407                                                   Chicken with Raisins and Lemon \n",
       "17408                                     Mixed Green Salad with Roquefort Vinaigrette \n",
       "17409                                                                 Autumn Pear Chip \n",
       "17410                                                              Eggs Benedict Salad \n",
       "17411                                  Stuffed Onions with Spiced Lamb and Pomegranate \n",
       "17412                                                   Spinach and Sorrel Spanakopita \n",
       "17413                                          Wilted Red Cabbage and Bell Pepper Slaw \n",
       "17414         Dill-Crusted Pork Tenderloin With Farro, Pea, and Blistered Tomato Salad \n",
       "17415                                                           Mussels in Cream Sauce \n",
       "17416          Roasted and Raw Carrot Salad with Avocado and Toasted Cumin Vinaigrette \n",
       "17417                                               Cabbage Soup with Apples and Thyme \n",
       "17418                                          Goat Cheese-Onion Naan with Mango Salsa \n",
       "17419                                            Spinach with Chickpeas and Fried Eggs \n",
       "17420                                                        Roasted Red Pepper Butter \n",
       "17421                                                      White Miso Peach/Pear/Apple \n",
       "17422                                                 Lemon and Rosemary T-Bone Steaks \n",
       "17423                                                3-Ingredient Caramel-Pear Galette \n",
       "17424                                 Potato Galettes with Crab, Shrimp, and Asparagus \n",
       "17425                              Herbed Goat Cheese and Roasted-Vegetable Sandwiches \n",
       "17426                                                                          Russian \n",
       "17427                                               Shellfish Chowder with Fresh Thyme \n",
       "17428                                                    Bacon-Wrapped Maple Pork Loin \n",
       "17429              Crispy Salt and Pepper Chicken with Caramelized Fennel and Shallots \n",
       "17430                                                                      Orange-Tini \n",
       "17431                                                      Chinese Barbecued Spareribs \n",
       "17432                                                   Artichoke and Parmesan Risotto \n",
       "17433                                                            Turkey Cream Puff Pie \n",
       "17434                                          Snapper on Angel Hair with Citrus Cream \n",
       "17435                                       Baked Ham with Marmalade-Horseradish Glaze \n",
       "Name: title, Length: 17436, dtype: object"
      ]
     },
     "execution_count": 336,
     "metadata": {},
     "output_type": "execute_result"
    }
   ],
   "source": [
    "df_text.title"
   ]
  },
  {
   "cell_type": "code",
   "execution_count": 83,
   "metadata": {},
   "outputs": [],
   "source": [
    "def preprocess_ngrams(text):\n",
    "    text = text.lower()\n",
    "    doc = word_tokenize(text)\n",
    "#     print('token',doc)\n",
    "    doc2 = []\n",
    "    for word in doc:\n",
    "        if '-' in word:\n",
    "            two_words = word.split('-')\n",
    "            doc2.extend(two_words)\n",
    "        elif '/' in word:\n",
    "            two_words = word.split('/')\n",
    "            doc2.extend(two_words)\n",
    "        else:\n",
    "            doc2.append(word)\n",
    "#     print('\\-',doc2)\n",
    "\n",
    "    doc2 = [re.sub('[%s]' % re.escape(string.punctuation), '', word) for word in doc2]\n",
    "    doc2 = [word for word in doc2 if word.isalpha()]\n",
    "    monograms = doc2 #[word for word in doc2 if word not in stop_words]\n",
    "#     bigrams = []\n",
    "#     for i in range(len(monograms)-1):\n",
    "#         bigrams.append(monograms[:i] + [monograms[i]+'_'+monograms[i+1]] + monograms[i+2:])\n",
    "    bigrams = list(ngrams(monograms,2))\n",
    "    bigrams = [w for w in bigrams if '_'.join(w) in g_model]\n",
    "#     trigrams = list(ngrams(monograms,3))\n",
    "#     trigrams = [w for w in trigrams if '_'.join(w) in model]\n",
    "    \n",
    "#     print('mono',monograms)\n",
    "#     print('bi',(bigrams))\n",
    "#     print('tri',(trigrams))\n",
    "    \n",
    "    return bigrams #+trigrams"
   ]
  },
  {
   "cell_type": "code",
   "execution_count": 84,
   "metadata": {},
   "outputs": [
    {
     "data": {
      "text/plain": [
       "('Roasted Butternut Squash with Lime Juice ',\n",
       " [('roasted', 'butternut'), ('butternut', 'squash'), ('lime', 'juice')])"
      ]
     },
     "execution_count": 84,
     "metadata": {},
     "output_type": "execute_result"
    }
   ],
   "source": [
    "df_text.title[7293], preprocess_ngrams(df_text.title[7293])"
   ]
  },
  {
   "cell_type": "code",
   "execution_count": 85,
   "metadata": {},
   "outputs": [],
   "source": [
    "title_ngrams = []\n",
    "# Titles\n",
    "for i in range(len(df_text)):\n",
    "    temp_word_list = preprocess_ngrams(df_text.title[i])\n",
    "    title_ngrams.extend(temp_word_list)"
   ]
  },
  {
   "cell_type": "code",
   "execution_count": 86,
   "metadata": {
    "collapsed": true
   },
   "outputs": [],
   "source": [
    "ing_ngrams = []\n",
    "# Ingredients\n",
    "for i in range(len(df_text)):\n",
    "    try:\n",
    "        temp_ing_list = df_text.ingredients[i]\n",
    "        for ing in temp_ing_list:\n",
    "            temp_word_list = preprocess_ngrams(ing)\n",
    "            ing_ngrams.extend(temp_word_list)\n",
    "    except:\n",
    "        continue"
   ]
  },
  {
   "cell_type": "code",
   "execution_count": 87,
   "metadata": {
    "collapsed": true
   },
   "outputs": [],
   "source": [
    "dir_ngrams = []\n",
    "# Directions\n",
    "for i in range(len(df_text)):\n",
    "    try:\n",
    "        temp_dir_list = df_text.directions[i]\n",
    "        for dir_ in temp_dir_list:\n",
    "            temp_word_list = preprocess_ngrams(dir_)\n",
    "            dir_ngrams.extend(temp_word_list)\n",
    "    except:\n",
    "        continue"
   ]
  },
  {
   "cell_type": "code",
   "execution_count": 88,
   "metadata": {
    "collapsed": true
   },
   "outputs": [],
   "source": [
    "desc_ngrams = []\n",
    "# Descriptions\n",
    "for i in range(len(df_text)):\n",
    "    try:\n",
    "        temp_desc_list = df_text.desc[i]\n",
    "        for desc in temp_desc_list:\n",
    "            temp_word_list = preprocess_ngrams(desc)\n",
    "            desc_ngrams.extend(temp_word_list)\n",
    "    except:\n",
    "        continue"
   ]
  },
  {
   "cell_type": "code",
   "execution_count": 89,
   "metadata": {
    "collapsed": true
   },
   "outputs": [],
   "source": [
    "ngram_list = title_ngrams + ing_ngrams + dir_ngrams + desc_ngrams"
   ]
  },
  {
   "cell_type": "code",
   "execution_count": 95,
   "metadata": {},
   "outputs": [
    {
     "data": {
      "text/plain": [
       "('cabbage', 'slaw')"
      ]
     },
     "execution_count": 95,
     "metadata": {},
     "output_type": "execute_result"
    }
   ],
   "source": [
    "(ngram_list[590])"
   ]
  },
  {
   "cell_type": "code",
   "execution_count": 91,
   "metadata": {},
   "outputs": [
    {
     "data": {
      "text/plain": [
       "True"
      ]
     },
     "execution_count": 91,
     "metadata": {},
     "output_type": "execute_result"
    }
   ],
   "source": [
    "('lemon','zest') in ngram_list"
   ]
  },
  {
   "cell_type": "code",
   "execution_count": 96,
   "metadata": {},
   "outputs": [
    {
     "data": {
      "text/plain": [
       "['This', 'is', 'a', 'test', 'lemon_peel']"
      ]
     },
     "execution_count": 96,
     "metadata": {},
     "output_type": "execute_result"
    }
   ],
   "source": [
    "from nltk.tokenize import MWETokenizer\n",
    "\n",
    "tokenizer = MWETokenizer(ngram_list)\n",
    "tokenizer.tokenize('This is a test lemon peel'.split())\n",
    "    "
   ]
  },
  {
   "cell_type": "code",
   "execution_count": null,
   "metadata": {
    "collapsed": true
   },
   "outputs": [],
   "source": []
  },
  {
   "cell_type": "code",
   "execution_count": 97,
   "metadata": {
    "collapsed": true
   },
   "outputs": [],
   "source": [
    "import pickle\n",
    "with open('ngram_list.pkl', 'wb') as f:\n",
    "    pickle.dump(ngram_list, f)"
   ]
  },
  {
   "cell_type": "code",
   "execution_count": null,
   "metadata": {},
   "outputs": [],
   "source": []
  },
  {
   "cell_type": "markdown",
   "metadata": {
    "heading_collapsed": true
   },
   "source": [
    "# Epicurious Corpus for Word2Vec Model"
   ]
  },
  {
   "cell_type": "code",
   "execution_count": 47,
   "metadata": {
    "collapsed": true,
    "hidden": true
   },
   "outputs": [
    {
     "data": {
      "text/html": [
       "<div>\n",
       "<style>\n",
       "    .dataframe thead tr:only-child th {\n",
       "        text-align: right;\n",
       "    }\n",
       "\n",
       "    .dataframe thead th {\n",
       "        text-align: left;\n",
       "    }\n",
       "\n",
       "    .dataframe tbody tr th {\n",
       "        vertical-align: top;\n",
       "    }\n",
       "</style>\n",
       "<table border=\"1\" class=\"dataframe\">\n",
       "  <thead>\n",
       "    <tr style=\"text-align: right;\">\n",
       "      <th></th>\n",
       "      <th>title</th>\n",
       "      <th>ingredients</th>\n",
       "      <th>directions</th>\n",
       "      <th>categories</th>\n",
       "      <th>desc</th>\n",
       "    </tr>\n",
       "  </thead>\n",
       "  <tbody>\n",
       "    <tr>\n",
       "      <th>0</th>\n",
       "      <td>Lentil, Apple, and Turkey Wrap</td>\n",
       "      <td>[4 cups low-sodium vegetable or chicken stock, 1 cup dried brown lentils, 1/2 cup dried French green lentils, 2 stalks celery, chopped, 1 large carrot, peeled and chopped, 1 sprig fresh thyme, 1 teaspoon kosher salt, 1 medium tomato, cored, seeded, and diced, 1 small Fuji apple, cored and diced, 1 tablespoon freshly squeezed lemon juice, 2 teaspoons extra-virgin olive oil, Freshly ground black pepper to taste, 3 sheets whole-wheat lavash, cut in half crosswise, or 6 (12-inch) flour tortillas...</td>\n",
       "      <td>[1. Place the stock, lentils, celery, carrot, thyme, and salt in a medium saucepan and bring to a boil. Reduce heat to low and simmer until the lentils are tender, about 30 minutes, depending on the lentils. (If they begin to dry out, add water as needed.) Remove and discard the thyme. Drain and transfer the mixture to a bowl; let cool., 2. Fold in the tomato, apple, lemon juice, and olive oil. Season with the pepper., 3. To assemble a wrap, place 1 lavash sheet on a clean work surface. Spre...</td>\n",
       "      <td>[Sandwich, Bean, Fruit, Tomato, turkey, Vegetable, Kid-Friendly, Apple, Lentil, Lettuce, Cookie]</td>\n",
       "      <td>None</td>\n",
       "    </tr>\n",
       "    <tr>\n",
       "      <th>1</th>\n",
       "      <td>Boudin Blanc Terrine with Red Onion Confit</td>\n",
       "      <td>[1 1/2 cups whipping cream, 2 medium onions, chopped, 5 teaspoons salt, 3 bay leaves, 3 whole cloves, 1 large garlic clove, crushed, 1 teaspoon pepper, 1/8 teaspoon ground nutmeg, Pinch of dried thyme, crumbled, 8 large shallots, minced, 1 tablespoon butter, 1 pound trimmed boneless center pork loin, sinew removed cut into 1-inch chunks, well chilled, 3 eggs, 6 tablespoon all purpose flour, 1/4 cup tawny Port, 3 tablespoons dried currants, minced, Lettuce leaves, Cracked peppercorns, Minced ...</td>\n",
       "      <td>[Combine first 9 ingredients in heavy medium saucepan. Add 3 shallots. Bring to simmer. Remove from heat, cover and let stand 30 minutes. Chill overnight., Preheat oven to 325°F. Line 7-cup pâté or bread pan with plastic wrap. Melt butter in heavy small skillet over low heat. Add remaining 5 shallots. Cover and cook until very soft, stirring occasionally, about 15 minutes. Transfer to processor. Add pork, eggs, flour and Port and puree. Strain cream mixture, pressing on solids to extract as ...</td>\n",
       "      <td>[Food Processor, Onion, Pork, Bake, Bastille Day, New Year's Eve, Dried Fruit, Port, Winter, Chill, Bon Appétit]</td>\n",
       "      <td>This uses the same ingredients found in boudin blanc, the classic French white sausage. Start two days before serving.</td>\n",
       "    </tr>\n",
       "    <tr>\n",
       "      <th>2</th>\n",
       "      <td>Potato and Fennel Soup Hodge</td>\n",
       "      <td>[1 fennel bulb (sometimes called anise), stalks discarded, bulb cut into 1/2-inch dice, and feathery leaves reserved for garnish, 1 onion, diced, 2 tablespoons unsalted butter, 2 medium russet (baking) potatoes, 2 cups chicken broth, 1 1/2 cups milk]</td>\n",
       "      <td>[In a large heavy saucepan cook diced fennel and onion in butter over moderate heat, stirring, until softened, about 10 minutes. Peel and cube potatoes. Add potatoes and broth to fennel mixture and simmer, covered, until potatoes are very tender, about 20 minutes. In a blender or food processor purée mixture in batches until smooth and return to saucepan. Stir in milk and salt and pepper to taste and simmer soup, stirring occasionally, 10 minutes, or until heated through., Garnish soup with ...</td>\n",
       "      <td>[Soup/Stew, Dairy, Potato, Vegetable, Fennel, Gourmet, New York]</td>\n",
       "      <td>None</td>\n",
       "    </tr>\n",
       "    <tr>\n",
       "      <th>3</th>\n",
       "      <td>Mahi-Mahi in Tomato Olive Sauce</td>\n",
       "      <td>[2 tablespoons extra-virgin olive oil, 1 cup chopped onion, 1 cup dry white wine, 1 teaspoon anchovy paste, 2 14 1/2-ounce cans diced tomatoes with garlic, basil, and oregano in juice, 4 6-ounce mahi-mahi fillets, 1/2 cup large green olives, quartered, pitted, 3 teaspoons chopped fresh oregano, divided, 1 teaspoon (packed) finely grated orange peel, Country-style white bread cut into 1/2-inch-thick slices, toasted]</td>\n",
       "      <td>[Heat oil in heavy large skillet over medium-high heat. Add onion; sauté until translucent and beginning to brown, about 4 minutes. Add wine and anchovy paste. Boil until reduced to 3/4 cup, about 3 minutes. Add tomatoes with juice; bring to boil., Sprinkle fish with salt and pepper. Add fish to skillet atop tomato mixture. Reduce heat to low, cover, and simmer until fish is cooked through, about 9 minutes. Using slotted metal spatula, transfer fish to plate and tent with foil to keep warm. ...</td>\n",
       "      <td>[Fish, Olive, Tomato, Sauté, Low Fat, Low Cal, High Fiber, Dinner, Healthy, Simmer, Bon Appétit, Pescatarian, Dairy Free, Peanut Free, Tree Nut Free, Soy Free, Kosher]</td>\n",
       "      <td>The Sicilian-style tomato sauce has tons of Mediterranean flavor, thanks to the orange peel, olives, and oregano.</td>\n",
       "    </tr>\n",
       "    <tr>\n",
       "      <th>4</th>\n",
       "      <td>Spinach Noodle Casserole</td>\n",
       "      <td>[1 12-ounce package frozen spinach soufflé, thawed, 1/2 pound extra-wide egg noodles, freshly cooked, 1 cup sour cream, 2 tablespoons purchased pesto sauce, 1/4 teaspoon ground nutmeg, 1 cup grated sharp cheddar cheese]</td>\n",
       "      <td>[Preheat oven to 350°F. Lightly grease 8x8x2-inch glass baking dish. Blend spinach, noodles, sour cream, pesto sauce and nutmeg in large bowl. Spoon mixture into prepared dish. Sprinkle cheese over. Bake until set, about 45 minutes. Let stand 10 minutes.]</td>\n",
       "      <td>[Cheese, Dairy, Pasta, Vegetable, Side, Bake, Vegetarian, Quick &amp; Easy, Fall, Bon Appétit, California]</td>\n",
       "      <td>None</td>\n",
       "    </tr>\n",
       "  </tbody>\n",
       "</table>\n",
       "</div>"
      ],
      "text/plain": [
       "                                         title  \\\n",
       "0              Lentil, Apple, and Turkey Wrap    \n",
       "1  Boudin Blanc Terrine with Red Onion Confit    \n",
       "2                Potato and Fennel Soup Hodge    \n",
       "3             Mahi-Mahi in Tomato Olive Sauce    \n",
       "4                    Spinach Noodle Casserole    \n",
       "\n",
       "                                                                                                                                                                                                                                                                                                                                                                                                                                                                                                           ingredients  \\\n",
       "0  [4 cups low-sodium vegetable or chicken stock, 1 cup dried brown lentils, 1/2 cup dried French green lentils, 2 stalks celery, chopped, 1 large carrot, peeled and chopped, 1 sprig fresh thyme, 1 teaspoon kosher salt, 1 medium tomato, cored, seeded, and diced, 1 small Fuji apple, cored and diced, 1 tablespoon freshly squeezed lemon juice, 2 teaspoons extra-virgin olive oil, Freshly ground black pepper to taste, 3 sheets whole-wheat lavash, cut in half crosswise, or 6 (12-inch) flour tortillas...   \n",
       "1  [1 1/2 cups whipping cream, 2 medium onions, chopped, 5 teaspoons salt, 3 bay leaves, 3 whole cloves, 1 large garlic clove, crushed, 1 teaspoon pepper, 1/8 teaspoon ground nutmeg, Pinch of dried thyme, crumbled, 8 large shallots, minced, 1 tablespoon butter, 1 pound trimmed boneless center pork loin, sinew removed cut into 1-inch chunks, well chilled, 3 eggs, 6 tablespoon all purpose flour, 1/4 cup tawny Port, 3 tablespoons dried currants, minced, Lettuce leaves, Cracked peppercorns, Minced ...   \n",
       "2                                                                                                                                                                                                                                                           [1 fennel bulb (sometimes called anise), stalks discarded, bulb cut into 1/2-inch dice, and feathery leaves reserved for garnish, 1 onion, diced, 2 tablespoons unsalted butter, 2 medium russet (baking) potatoes, 2 cups chicken broth, 1 1/2 cups milk]   \n",
       "3                                                                                   [2 tablespoons extra-virgin olive oil, 1 cup chopped onion, 1 cup dry white wine, 1 teaspoon anchovy paste, 2 14 1/2-ounce cans diced tomatoes with garlic, basil, and oregano in juice, 4 6-ounce mahi-mahi fillets, 1/2 cup large green olives, quartered, pitted, 3 teaspoons chopped fresh oregano, divided, 1 teaspoon (packed) finely grated orange peel, Country-style white bread cut into 1/2-inch-thick slices, toasted]   \n",
       "4                                                                                                                                                                                                                                                                                          [1 12-ounce package frozen spinach soufflé, thawed, 1/2 pound extra-wide egg noodles, freshly cooked, 1 cup sour cream, 2 tablespoons purchased pesto sauce, 1/4 teaspoon ground nutmeg, 1 cup grated sharp cheddar cheese]   \n",
       "\n",
       "                                                                                                                                                                                                                                                                                                                                                                                                                                                                                                            directions  \\\n",
       "0  [1. Place the stock, lentils, celery, carrot, thyme, and salt in a medium saucepan and bring to a boil. Reduce heat to low and simmer until the lentils are tender, about 30 minutes, depending on the lentils. (If they begin to dry out, add water as needed.) Remove and discard the thyme. Drain and transfer the mixture to a bowl; let cool., 2. Fold in the tomato, apple, lemon juice, and olive oil. Season with the pepper., 3. To assemble a wrap, place 1 lavash sheet on a clean work surface. Spre...   \n",
       "1  [Combine first 9 ingredients in heavy medium saucepan. Add 3 shallots. Bring to simmer. Remove from heat, cover and let stand 30 minutes. Chill overnight., Preheat oven to 325°F. Line 7-cup pâté or bread pan with plastic wrap. Melt butter in heavy small skillet over low heat. Add remaining 5 shallots. Cover and cook until very soft, stirring occasionally, about 15 minutes. Transfer to processor. Add pork, eggs, flour and Port and puree. Strain cream mixture, pressing on solids to extract as ...   \n",
       "2  [In a large heavy saucepan cook diced fennel and onion in butter over moderate heat, stirring, until softened, about 10 minutes. Peel and cube potatoes. Add potatoes and broth to fennel mixture and simmer, covered, until potatoes are very tender, about 20 minutes. In a blender or food processor purée mixture in batches until smooth and return to saucepan. Stir in milk and salt and pepper to taste and simmer soup, stirring occasionally, 10 minutes, or until heated through., Garnish soup with ...   \n",
       "3  [Heat oil in heavy large skillet over medium-high heat. Add onion; sauté until translucent and beginning to brown, about 4 minutes. Add wine and anchovy paste. Boil until reduced to 3/4 cup, about 3 minutes. Add tomatoes with juice; bring to boil., Sprinkle fish with salt and pepper. Add fish to skillet atop tomato mixture. Reduce heat to low, cover, and simmer until fish is cooked through, about 9 minutes. Using slotted metal spatula, transfer fish to plate and tent with foil to keep warm. ...   \n",
       "4                                                                                                                                                                                                                                                      [Preheat oven to 350°F. Lightly grease 8x8x2-inch glass baking dish. Blend spinach, noodles, sour cream, pesto sauce and nutmeg in large bowl. Spoon mixture into prepared dish. Sprinkle cheese over. Bake until set, about 45 minutes. Let stand 10 minutes.]   \n",
       "\n",
       "                                                                                                                                                                categories  \\\n",
       "0                                                                         [Sandwich, Bean, Fruit, Tomato, turkey, Vegetable, Kid-Friendly, Apple, Lentil, Lettuce, Cookie]   \n",
       "1                                                         [Food Processor, Onion, Pork, Bake, Bastille Day, New Year's Eve, Dried Fruit, Port, Winter, Chill, Bon Appétit]   \n",
       "2                                                                                                         [Soup/Stew, Dairy, Potato, Vegetable, Fennel, Gourmet, New York]   \n",
       "3  [Fish, Olive, Tomato, Sauté, Low Fat, Low Cal, High Fiber, Dinner, Healthy, Simmer, Bon Appétit, Pescatarian, Dairy Free, Peanut Free, Tree Nut Free, Soy Free, Kosher]   \n",
       "4                                                                   [Cheese, Dairy, Pasta, Vegetable, Side, Bake, Vegetarian, Quick & Easy, Fall, Bon Appétit, California]   \n",
       "\n",
       "                                                                                                                     desc  \n",
       "0                                                                                                                    None  \n",
       "1  This uses the same ingredients found in boudin blanc, the classic French white sausage. Start two days before serving.  \n",
       "2                                                                                                                    None  \n",
       "3       The Sicilian-style tomato sauce has tons of Mediterranean flavor, thanks to the orange peel, olives, and oregano.  \n",
       "4                                                                                                                    None  "
      ]
     },
     "execution_count": 47,
     "metadata": {},
     "output_type": "execute_result"
    }
   ],
   "source": [
    "pd.options.display.max_colwidth = 500\n",
    "df_text.head()"
   ]
  },
  {
   "cell_type": "code",
   "execution_count": 98,
   "metadata": {
    "hidden": true
   },
   "outputs": [],
   "source": [
    "def preprocess(text):\n",
    "    text = text.lower()\n",
    "    doc = text.split()\n",
    "#     print('token',doc)\n",
    "    doc2 = []\n",
    "    for word in doc:\n",
    "        if '-' in word:\n",
    "            two_words = word.split('-')\n",
    "            doc2.extend(two_words)\n",
    "        elif '/' in word:\n",
    "            two_words = word.split('/')\n",
    "            doc2.extend(two_words)\n",
    "        else:\n",
    "            doc2.append(word)\n",
    "\n",
    "    doc2 = [re.sub('[%s]' % re.escape(string.punctuation), '', word) for word in doc2]\n",
    "    doc2 = [word for word in doc2 if word.isalpha()]\n",
    "#     print(doc2)\n",
    "    monograms = tokenizer.tokenize(doc2)\n",
    "    \n",
    "    return monograms"
   ]
  },
  {
   "cell_type": "code",
   "execution_count": 99,
   "metadata": {
    "hidden": true
   },
   "outputs": [
    {
     "data": {
      "text/plain": [
       "['dried_fruit', 'compote', 'with', 'ginger_syrup']"
      ]
     },
     "execution_count": 99,
     "metadata": {},
     "output_type": "execute_result"
    }
   ],
   "source": [
    "preprocess(df_text.title[7913]) # df_text.title[7913], "
   ]
  },
  {
   "cell_type": "code",
   "execution_count": 100,
   "metadata": {
    "hidden": true
   },
   "outputs": [
    {
     "data": {
      "text/plain": [
       "('2/3 cup whipping cream', ['cup', 'whipping_cream'])"
      ]
     },
     "execution_count": 100,
     "metadata": {},
     "output_type": "execute_result"
    }
   ],
   "source": [
    "df_text.ingredients[333][0], preprocess(df_text.ingredients[333][0])"
   ]
  },
  {
   "cell_type": "code",
   "execution_count": 101,
   "metadata": {
    "collapsed": true,
    "hidden": true
   },
   "outputs": [],
   "source": [
    "# Titles\n",
    "title_sent = []\n",
    "\n",
    "for i in range(len(df_text)):\n",
    "    temp_word_list = preprocess(df_text.title[i])\n",
    "    title_sent.append(temp_word_list)"
   ]
  },
  {
   "cell_type": "code",
   "execution_count": 103,
   "metadata": {
    "hidden": true
   },
   "outputs": [],
   "source": [
    "# Ingredients\n",
    "ing_sent = []\n",
    "\n",
    "for i in range(len(df_text)):\n",
    "    try:\n",
    "        temp_ing_list = df_text.ingredients[i]\n",
    "        for ing in temp_ing_list:\n",
    "            temp_word_list = preprocess(ing)\n",
    "            ing_sent.append(temp_word_list)\n",
    "    except:\n",
    "        continue"
   ]
  },
  {
   "cell_type": "code",
   "execution_count": 105,
   "metadata": {
    "collapsed": true,
    "hidden": true
   },
   "outputs": [],
   "source": [
    "# Directions\n",
    "dir_sent = []\n",
    "\n",
    "for i in range(len(df_text)):\n",
    "    try:\n",
    "        temp_dir_list = df_text.directions[i]\n",
    "        for dir_ in temp_dir_list:\n",
    "            temp_word_list = preprocess(dir_)\n",
    "            dir_sent.append(temp_word_list)\n",
    "    except:\n",
    "        continue"
   ]
  },
  {
   "cell_type": "code",
   "execution_count": 106,
   "metadata": {
    "collapsed": true,
    "hidden": true
   },
   "outputs": [],
   "source": [
    "# Descriptions\n",
    "desc_sent = []\n",
    "\n",
    "for i in range(len(df_text)):\n",
    "    try:\n",
    "        temp_desc_list = df_text.desc[i]\n",
    "        for desc in temp_desc_list:\n",
    "            temp_word_list = preprocess(desc)\n",
    "            desc_sent.append(temp_word_list)\n",
    "    except:\n",
    "        continue"
   ]
  },
  {
   "cell_type": "code",
   "execution_count": 109,
   "metadata": {
    "hidden": true
   },
   "outputs": [],
   "source": [
    "epicurious_texts = title_sent + ing_sent + dir_sent + desc_sent"
   ]
  },
  {
   "cell_type": "code",
   "execution_count": 110,
   "metadata": {
    "collapsed": true,
    "hidden": true
   },
   "outputs": [],
   "source": [
    "with open('epicurious_texts.pkl', 'wb') as f:\n",
    "    pickle.dump(epicurious_texts, f)"
   ]
  },
  {
   "cell_type": "markdown",
   "metadata": {
    "heading_collapsed": true
   },
   "source": [
    "# Word2Vec"
   ]
  },
  {
   "cell_type": "code",
   "execution_count": 111,
   "metadata": {
    "hidden": true
   },
   "outputs": [],
   "source": [
    "model = gensim.models.Word2Vec(epicurious_texts, size=200, window=5, min_count=1, workers=2, sg=1)"
   ]
  },
  {
   "cell_type": "code",
   "execution_count": 132,
   "metadata": {
    "hidden": true
   },
   "outputs": [
    {
     "data": {
      "text/plain": [
       "0.68392276556823139"
      ]
     },
     "execution_count": 132,
     "metadata": {},
     "output_type": "execute_result"
    }
   ],
   "source": [
    "model.similarity('lemon_zest','lemon_peel')"
   ]
  },
  {
   "cell_type": "markdown",
   "metadata": {
    "collapsed": true
   },
   "source": [
    "# CBOW"
   ]
  },
  {
   "cell_type": "code",
   "execution_count": 315,
   "metadata": {
    "collapsed": true
   },
   "outputs": [],
   "source": [
    "def preprocess_cbow(text):\n",
    "    text = text.lower()\n",
    "    doc = text.split()\n",
    "#     print('token',doc)\n",
    "    doc2 = []\n",
    "    for word in doc:\n",
    "        if '-' in word:\n",
    "            two_words = word.split('-')\n",
    "            doc2.extend(two_words)\n",
    "        elif '/' in word:\n",
    "            two_words = word.split('/')\n",
    "            doc2.extend(two_words)\n",
    "        else:\n",
    "            doc2.append(word)\n",
    "\n",
    "    doc2 = [re.sub('[%s]' % re.escape(string.punctuation), '', word) for word in doc2]\n",
    "    doc2 = [word for word in doc2 if word.isalpha()]\n",
    "    doc2 = [word for word in doc2 if word not in stop_words]\n",
    "    doc2 = [word for word in doc2 if word not in measurements] # only use for ingredients\n",
    "#     print(doc2)\n",
    "    monograms = tokenizer.tokenize(doc2)\n",
    "    \n",
    "    return monograms"
   ]
  },
  {
   "cell_type": "code",
   "execution_count": 133,
   "metadata": {
    "collapsed": true
   },
   "outputs": [],
   "source": [
    "# Titles\n",
    "title_cbow = title_sent"
   ]
  },
  {
   "cell_type": "code",
   "execution_count": 330,
   "metadata": {
    "collapsed": true
   },
   "outputs": [],
   "source": [
    "measurements = ['cup','cups','C','c','gram','grams','g','kilogram','kilograms','kg','liter','liters','L','l',\n",
    "               'pound','pounds','lb','milliliter','milliliters','ml','mL','ounce','ounces','oz','pint','pints','pt',\n",
    "               'teaspoon','teaspoons','t','tsp','tablespoon','tablespoons','T','TB','Tbl','Tbsp','tbsp','quart','quarts','qt',\n",
    "               'dash','pinch','piece','pieces','slice','slices','sheet','sheets','log','stick','sticks','head',\n",
    "               'chopped','diced','sliced','cored','seeded','trimmed','chunk','chunks','minced','divided','cut',\n",
    "               'packed','fresh','large','medium','small','sprig','thin','thinly','thick','inch','well','chilled',\n",
    "               'half','halved','halves','peeled','crumbled','crushed','dice','packaged','purchased','cubes','package',\n",
    "               'separated','fine','finely','coarsely','freshly','generous','diameter','stemmed','packages','thaw',\n",
    "               'thawed','additional','grated','grate', 'pitted','rounds','wedges','skinned','deveined','shredded',\n",
    "               'unpeeled','optional','preferably','long','frozen','room','temperature','quartered','sometimes','called',\n",
    "               'reserve','reserved','plus','lengthwise','parts','discarded','parts','bunch','shelled','available',\n",
    "               'seasonally','markets','bottle','canned','drained','ingredient','ground','whole','round','style',\n",
    "               'cans','leaves','strips','ground','bag','strip','split','supermarket','supermarkets','specialty',\n",
    "               'crosswise','size','ring','rings','square','squares','colors','julienne','minute','minutes','dry',\n",
    "               'chopping','shell','notes','shells','wash','diagonal','accompaniment','string','strings','press',\n",
    "               'dish','firm','dash','dashes']\n",
    "\n",
    "# split? supermarket(s), specialty, vanilla_extract?, crosswise, matchstick, size, rings, squares, colors, julienne,\n",
    "# minute(s), shells, shell, notes, diagonal, wash, dry, chopping, accompaniment, string(s), dish, press, firm,\n",
    "# dash, dashes"
   ]
  },
  {
   "cell_type": "code",
   "execution_count": 331,
   "metadata": {},
   "outputs": [],
   "source": [
    "# Ingredients\n",
    "ing_cbow = []\n",
    "for i in range(len(df_text)):\n",
    "    try:\n",
    "        temp_ing_list = df_text.ingredients[i]\n",
    "        temp_word_list = []\n",
    "        for ing in temp_ing_list:\n",
    "#             print([w for w in (ing.split()) if w not in measurements])\n",
    "#             temp_ing = [w for w in (ing.split()) if w not in measurements]\n",
    "#             temp_ing = ' '.join(temp_ing)\n",
    "#             print(temp_ing)\n",
    "            temp_word_list.append(preprocess_cbow(ing))\n",
    "        ing_cbow.append(temp_word_list)\n",
    "    except:\n",
    "        continue"
   ]
  },
  {
   "cell_type": "code",
   "execution_count": 332,
   "metadata": {},
   "outputs": [
    {
     "data": {
      "text/plain": [
       "[[['low', 'sodium', 'vegetable', 'chicken', 'stock'],\n",
       "  ['dried', 'brown', 'lentils'],\n",
       "  ['dried', 'french', 'green', 'lentils'],\n",
       "  ['stalks_celery'],\n",
       "  ['carrot'],\n",
       "  ['thyme'],\n",
       "  ['kosher_salt'],\n",
       "  ['tomato'],\n",
       "  ['fuji', 'apple'],\n",
       "  ['squeezed', 'lemon_juice'],\n",
       "  ['extra', 'virgin', 'olive_oil'],\n",
       "  ['black', 'pepper', 'taste'],\n",
       "  ['wheat', 'lavash', 'flour_tortillas'],\n",
       "  ['turkey_breast'],\n",
       "  ['bibb_lettuce']],\n",
       " [['whipping_cream'],\n",
       "  ['onions'],\n",
       "  ['salt'],\n",
       "  ['bay'],\n",
       "  ['cloves'],\n",
       "  ['garlic_clove'],\n",
       "  ['pepper'],\n",
       "  ['nutmeg'],\n",
       "  ['dried_thyme'],\n",
       "  ['shallots'],\n",
       "  ['butter'],\n",
       "  ['boneless', 'center', 'pork_loin', 'sinew', 'removed'],\n",
       "  ['eggs'],\n",
       "  ['purpose', 'flour'],\n",
       "  ['tawny_port'],\n",
       "  ['dried_currants'],\n",
       "  ['lettuce'],\n",
       "  ['cracked_peppercorns'],\n",
       "  ['parsley'],\n",
       "  ['bay'],\n",
       "  ['french_bread', 'baguette'],\n",
       "  ['olive_oil'],\n",
       "  ['red', 'onions'],\n",
       "  ['dried_currants'],\n",
       "  ['red', 'wine_vinegar'],\n",
       "  ['chicken_broth'],\n",
       "  ['thyme', 'dried'],\n",
       "  ['sugar']],\n",
       " [['fennel_bulb', 'anise', 'stalks', 'bulb', 'feathery', 'garnish'],\n",
       "  ['onion'],\n",
       "  ['unsalted_butter'],\n",
       "  ['russet', 'baking', 'potatoes'],\n",
       "  ['chicken_broth'],\n",
       "  ['milk']],\n",
       " [['extra', 'virgin', 'olive_oil'],\n",
       "  ['onion'],\n",
       "  ['white', 'wine'],\n",
       "  ['anchovy_paste'],\n",
       "  ['tomatoes_garlic', 'basil_oregano', 'juice'],\n",
       "  ['mahi_mahi', 'fillets'],\n",
       "  ['green', 'olives'],\n",
       "  ['oregano'],\n",
       "  ['orange_peel'],\n",
       "  ['country', 'white', 'bread', 'toasted']]]"
      ]
     },
     "execution_count": 332,
     "metadata": {},
     "output_type": "execute_result"
    }
   ],
   "source": [
    "ing_cbow[:4]"
   ]
  },
  {
   "cell_type": "code",
   "execution_count": 145,
   "metadata": {
    "collapsed": true
   },
   "outputs": [],
   "source": [
    "# Directions\n",
    "dir_cbow = []\n",
    "\n",
    "for i in range(len(df_text)):\n",
    "    try:\n",
    "        temp_dir_list = df_text.directions[i]\n",
    "        temp_word_list = []\n",
    "        for dir_ in temp_dir_list:\n",
    "            temp_word_list.append(preprocess_cbow(dir_))\n",
    "        dir_cbow.append(temp_word_list)\n",
    "    except:\n",
    "        continue"
   ]
  },
  {
   "cell_type": "code",
   "execution_count": 170,
   "metadata": {},
   "outputs": [],
   "source": [
    "# Descriptions\n",
    "desc_cbow = []\n",
    "\n",
    "for i in range(len(df_text)):\n",
    "    try:\n",
    "        temp_desc_list = df_text.desc[i]\n",
    "#         temp_word_list = []\n",
    "#         for desc in temp_desc_list:\n",
    "#             print(desc)\n",
    "        desc_cbow.append(preprocess_cbow(temp_desc_list))\n",
    "#         desc_cbow.append(temp_word_list)\n",
    "    except:\n",
    "        desc_cbow.append([])"
   ]
  },
  {
   "cell_type": "code",
   "execution_count": 171,
   "metadata": {},
   "outputs": [
    {
     "data": {
      "text/plain": [
       "(17436, 17436)"
      ]
     },
     "execution_count": 171,
     "metadata": {},
     "output_type": "execute_result"
    }
   ],
   "source": [
    "len(desc_cbow), len(dir_cbow)"
   ]
  },
  {
   "cell_type": "code",
   "execution_count": 333,
   "metadata": {},
   "outputs": [],
   "source": [
    "df_cbow = pd.DataFrame(columns=['title','ingredients','directions','desc'])"
   ]
  },
  {
   "cell_type": "code",
   "execution_count": 334,
   "metadata": {},
   "outputs": [],
   "source": [
    "df_cbow['title'] = title_cbow\n",
    "df_cbow['ingredients'] = ing_cbow\n",
    "df_cbow['directions'] = dir_cbow\n",
    "df_cbow['desc'] = desc_cbow"
   ]
  },
  {
   "cell_type": "code",
   "execution_count": 335,
   "metadata": {},
   "outputs": [],
   "source": [
    "df_cbow.to_pickle('df_07_2.pkl')"
   ]
  },
  {
   "cell_type": "code",
   "execution_count": null,
   "metadata": {
    "collapsed": true
   },
   "outputs": [],
   "source": []
  },
  {
   "cell_type": "code",
   "execution_count": null,
   "metadata": {
    "collapsed": true
   },
   "outputs": [],
   "source": []
  },
  {
   "cell_type": "code",
   "execution_count": null,
   "metadata": {
    "collapsed": true
   },
   "outputs": [],
   "source": []
  }
 ],
 "metadata": {
  "kernelspec": {
   "display_name": "Python 3",
   "language": "python",
   "name": "python3"
  },
  "language_info": {
   "codemirror_mode": {
    "name": "ipython",
    "version": 3
   },
   "file_extension": ".py",
   "mimetype": "text/x-python",
   "name": "python",
   "nbconvert_exporter": "python",
   "pygments_lexer": "ipython3",
   "version": "3.6.1"
  },
  "toc": {
   "nav_menu": {},
   "number_sections": true,
   "sideBar": true,
   "skip_h1_title": false,
   "toc_cell": false,
   "toc_position": {},
   "toc_section_display": "block",
   "toc_window_display": false
  }
 },
 "nbformat": 4,
 "nbformat_minor": 2
}
