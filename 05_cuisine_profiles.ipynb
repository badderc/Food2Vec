{
 "cells": [
  {
   "cell_type": "markdown",
   "metadata": {
    "heading_collapsed": true
   },
   "source": [
    "# Imports"
   ]
  },
  {
   "cell_type": "code",
   "execution_count": 1,
   "metadata": {
    "collapsed": true,
    "hidden": true
   },
   "outputs": [],
   "source": [
    "# Basics\n",
    "import numpy as np\n",
    "import pandas as pd\n",
    "import math\n",
    "import matplotlib.pyplot as plt\n",
    "%matplotlib inline\n",
    "import seaborn as sns\n",
    "import re\n",
    "import string\n",
    "import csv\n",
    "from os import path\n",
    "from PIL import Image\n",
    "from wordcloud import WordCloud, STOPWORDS\n",
    "from collections import Counter, defaultdict\n",
    "from functools import reduce\n",
    "\n",
    "# MongoDB\n",
    "from pymongo import MongoClient\n",
    "\n",
    "# natural language processing\n",
    "import nltk\n",
    "from textblob import TextBlob\n",
    "from nltk import word_tokenize, pos_tag, ne_chunk\n",
    "from nltk.corpus import stopwords\n",
    "from ingreedypy import Ingreedy\n",
    "\n",
    "# sklearn\n",
    "from sklearn.feature_extraction import text \n",
    "from sklearn.feature_extraction.text import CountVectorizer\n",
    "from sklearn.feature_extraction.text import TfidfVectorizer\n",
    "\n",
    "from sklearn.preprocessing import Normalizer\n",
    "from sklearn.preprocessing import scale\n",
    "from sklearn.utils import shuffle\n",
    "from sklearn.model_selection import train_test_split\n",
    "from sklearn.cluster import KMeans\n",
    "\n",
    "from sklearn.decomposition import PCA\n",
    "from sklearn.decomposition import TruncatedSVD\n",
    "\n",
    "from sklearn import metrics\n",
    "from sklearn.metrics import pairwise_distances\n",
    "from sklearn.metrics import silhouette_score\n",
    "from sklearn.metrics.pairwise import cosine_similarity\n",
    "\n",
    "# gensim\n",
    "from gensim import corpora, models, similarities, matutils\n",
    "\n",
    "# Other\n",
    "import warnings\n",
    "warnings.filterwarnings('ignore')"
   ]
  },
  {
   "cell_type": "markdown",
   "metadata": {
    "heading_collapsed": true
   },
   "source": [
    "# Data"
   ]
  },
  {
   "cell_type": "code",
   "execution_count": 2,
   "metadata": {
    "collapsed": true,
    "hidden": true
   },
   "outputs": [],
   "source": [
    "# text data\n",
    "df_text = pd.read_pickle('df_01.pkl')"
   ]
  },
  {
   "cell_type": "code",
   "execution_count": 3,
   "metadata": {
    "collapsed": true,
    "hidden": true
   },
   "outputs": [],
   "source": [
    "# cbow data\n",
    "df_cbow = pd.read_pickle('df_02.pkl')"
   ]
  },
  {
   "cell_type": "code",
   "execution_count": 4,
   "metadata": {
    "collapsed": true,
    "hidden": true
   },
   "outputs": [],
   "source": [
    "# word2vec vectors\n",
    "df_vec = pd.read_pickle('df_03.pkl')"
   ]
  },
  {
   "cell_type": "code",
   "execution_count": 5,
   "metadata": {
    "collapsed": true,
    "hidden": true
   },
   "outputs": [],
   "source": [
    "# tags\n",
    "df_tags = pd.read_pickle('df_04.pkl')"
   ]
  },
  {
   "cell_type": "code",
   "execution_count": 6,
   "metadata": {
    "collapsed": true,
    "hidden": true
   },
   "outputs": [],
   "source": [
    "recipe_titles = df_tags.index"
   ]
  },
  {
   "cell_type": "code",
   "execution_count": 7,
   "metadata": {
    "collapsed": true,
    "hidden": true
   },
   "outputs": [],
   "source": [
    "df_tags['recipe_name'] = recipe_titles"
   ]
  },
  {
   "cell_type": "code",
   "execution_count": 8,
   "metadata": {
    "collapsed": true,
    "hidden": true
   },
   "outputs": [],
   "source": [
    "df_tags.reset_index(drop=True, inplace=True)"
   ]
  },
  {
   "cell_type": "code",
   "execution_count": null,
   "metadata": {
    "collapsed": true,
    "hidden": true
   },
   "outputs": [],
   "source": []
  },
  {
   "cell_type": "code",
   "execution_count": 9,
   "metadata": {
    "collapsed": true,
    "hidden": true
   },
   "outputs": [],
   "source": [
    "df_cbow['tags_kmeans'] = df_tags.kmeans_rec"
   ]
  },
  {
   "cell_type": "code",
   "execution_count": 12,
   "metadata": {
    "hidden": true
   },
   "outputs": [
    {
     "data": {
      "text/plain": [
       "[['large', 'ripe', 'tomatoes', 'about', 'pounds', 'ripe_tomatoes'],\n",
       " ['large', 'cucumber', 'peeled', 'seeded', 'diced', 'about', 'cups'],\n",
       " ['green', 'bell', 'pepper', 'chopped', 'bell_pepper'],\n",
       " ['red', 'onion', 'chopped', 'onion_chopped'],\n",
       " ['cup', 'tomato', 'juice', 'tomato_juice'],\n",
       " ['cup', 'bottled', 'clam', 'juice', 'clam_juice'],\n",
       " ['tablespoons', 'red', 'wine', 'vinegar', 'wine_vinegar'],\n",
       " ['tablespoons', 'olive', 'oil', 'olive_oil'],\n",
       " ['tablespoons', 'fresh', 'lemon', 'juice', 'lemon_juice'],\n",
       " ['tablespoons',\n",
       "  'chopped',\n",
       "  'fresh',\n",
       "  'basil',\n",
       "  'tablespoons_chopped',\n",
       "  'fresh_basil'],\n",
       " ['tablespoons', 'chopped', 'fresh', 'parsley', 'tablespoons_chopped'],\n",
       " ['teaspoons', 'old', 'bay', 'seasoning'],\n",
       " ['ounces', 'cooked', 'shrimp', 'cut', 'into', 'inch', 'pieces']]"
      ]
     },
     "execution_count": 12,
     "metadata": {},
     "output_type": "execute_result"
    }
   ],
   "source": [
    "df_cbow.iloc[99].ingredients"
   ]
  },
  {
   "cell_type": "code",
   "execution_count": 13,
   "metadata": {
    "collapsed": true,
    "hidden": true
   },
   "outputs": [],
   "source": [
    "cbow = []\n",
    "for i in range(len(df_cbow)):\n",
    "    cbow_temp = []\n",
    "    row = df_cbow.iloc[i]\n",
    "    cbow_temp.extend(row.title)\n",
    "    for ing in row.ingredients:\n",
    "        cbow_temp.extend(ing)\n",
    "    for dir_ in row.directions:\n",
    "        cbow_temp.extend(dir_)\n",
    "    cbow.append(cbow_temp)"
   ]
  },
  {
   "cell_type": "code",
   "execution_count": 14,
   "metadata": {
    "collapsed": true,
    "hidden": true
   },
   "outputs": [],
   "source": [
    "df_cbow['cbow'] = cbow"
   ]
  },
  {
   "cell_type": "code",
   "execution_count": 15,
   "metadata": {
    "hidden": true
   },
   "outputs": [
    {
     "data": {
      "text/html": [
       "<div>\n",
       "<style>\n",
       "    .dataframe thead tr:only-child th {\n",
       "        text-align: right;\n",
       "    }\n",
       "\n",
       "    .dataframe thead th {\n",
       "        text-align: left;\n",
       "    }\n",
       "\n",
       "    .dataframe tbody tr th {\n",
       "        vertical-align: top;\n",
       "    }\n",
       "</style>\n",
       "<table border=\"1\" class=\"dataframe\">\n",
       "  <thead>\n",
       "    <tr style=\"text-align: right;\">\n",
       "      <th></th>\n",
       "      <th>title</th>\n",
       "      <th>ingredients</th>\n",
       "      <th>directions</th>\n",
       "      <th>categories</th>\n",
       "      <th>desc</th>\n",
       "      <th>tags_kmeans</th>\n",
       "      <th>cbow</th>\n",
       "    </tr>\n",
       "  </thead>\n",
       "  <tbody>\n",
       "    <tr>\n",
       "      <th>0</th>\n",
       "      <td>[lentil, apple, turkey, wrap]</td>\n",
       "      <td>[[cups, low, sodium, vegetable, or, chicken, s...</td>\n",
       "      <td>[[place, stock, lentils, celery, carrot, thyme...</td>\n",
       "      <td>[sandwich, bean, fruit, tomato, turkey, vegeta...</td>\n",
       "      <td>[]</td>\n",
       "      <td>Jewish</td>\n",
       "      <td>[lentil, apple, turkey, wrap, cups, low, sodiu...</td>\n",
       "    </tr>\n",
       "    <tr>\n",
       "      <th>1</th>\n",
       "      <td>[boudin, blanc, terrine, red, onion, confit, b...</td>\n",
       "      <td>[[cups, whipping, cream, whipping_cream], [med...</td>\n",
       "      <td>[[combine, first, ingredients, heavy, medium, ...</td>\n",
       "      <td>[onion, pork, bake, port, winter, chill]</td>\n",
       "      <td>[uses, ingredients, found, boudin, blanc, clas...</td>\n",
       "      <td>West European</td>\n",
       "      <td>[boudin, blanc, terrine, red, onion, confit, b...</td>\n",
       "    </tr>\n",
       "    <tr>\n",
       "      <th>2</th>\n",
       "      <td>[potato, fennel, soup, hodge, fennel_soup]</td>\n",
       "      <td>[[fennel, bulb, sometimes, called, anise, stal...</td>\n",
       "      <td>[[large, heavy, saucepan, cook, diced, fennel,...</td>\n",
       "      <td>[dairy, potato, vegetable, fennel, gourmet]</td>\n",
       "      <td>[]</td>\n",
       "      <td>West European</td>\n",
       "      <td>[potato, fennel, soup, hodge, fennel_soup, fen...</td>\n",
       "    </tr>\n",
       "    <tr>\n",
       "      <th>3</th>\n",
       "      <td>[mahi, mahi, tomato, olive, sauce, mahi_mahi]</td>\n",
       "      <td>[[tablespoons, extra, virgin, olive, oil, oliv...</td>\n",
       "      <td>[[heat, oil, heavy, large, skillet, medium, hi...</td>\n",
       "      <td>[fish, olive, tomato, sauté, dinner, healthy, ...</td>\n",
       "      <td>[style, tomato, sauce, tons, mediterranean, fl...</td>\n",
       "      <td>Middle Eastern</td>\n",
       "      <td>[mahi, mahi, tomato, olive, sauce, mahi_mahi, ...</td>\n",
       "    </tr>\n",
       "    <tr>\n",
       "      <th>4</th>\n",
       "      <td>[spinach, noodle, casserole, noodle_casserole]</td>\n",
       "      <td>[[ounce, package, frozen, spinach, soufflé, th...</td>\n",
       "      <td>[[preheat, oven, lightly, grease, inch, glass,...</td>\n",
       "      <td>[cheese, dairy, pasta, vegetable, side, bake, ...</td>\n",
       "      <td>[]</td>\n",
       "      <td>American</td>\n",
       "      <td>[spinach, noodle, casserole, noodle_casserole,...</td>\n",
       "    </tr>\n",
       "  </tbody>\n",
       "</table>\n",
       "</div>"
      ],
      "text/plain": [
       "                                               title  \\\n",
       "0                      [lentil, apple, turkey, wrap]   \n",
       "1  [boudin, blanc, terrine, red, onion, confit, b...   \n",
       "2         [potato, fennel, soup, hodge, fennel_soup]   \n",
       "3      [mahi, mahi, tomato, olive, sauce, mahi_mahi]   \n",
       "4     [spinach, noodle, casserole, noodle_casserole]   \n",
       "\n",
       "                                         ingredients  \\\n",
       "0  [[cups, low, sodium, vegetable, or, chicken, s...   \n",
       "1  [[cups, whipping, cream, whipping_cream], [med...   \n",
       "2  [[fennel, bulb, sometimes, called, anise, stal...   \n",
       "3  [[tablespoons, extra, virgin, olive, oil, oliv...   \n",
       "4  [[ounce, package, frozen, spinach, soufflé, th...   \n",
       "\n",
       "                                          directions  \\\n",
       "0  [[place, stock, lentils, celery, carrot, thyme...   \n",
       "1  [[combine, first, ingredients, heavy, medium, ...   \n",
       "2  [[large, heavy, saucepan, cook, diced, fennel,...   \n",
       "3  [[heat, oil, heavy, large, skillet, medium, hi...   \n",
       "4  [[preheat, oven, lightly, grease, inch, glass,...   \n",
       "\n",
       "                                          categories  \\\n",
       "0  [sandwich, bean, fruit, tomato, turkey, vegeta...   \n",
       "1           [onion, pork, bake, port, winter, chill]   \n",
       "2        [dairy, potato, vegetable, fennel, gourmet]   \n",
       "3  [fish, olive, tomato, sauté, dinner, healthy, ...   \n",
       "4  [cheese, dairy, pasta, vegetable, side, bake, ...   \n",
       "\n",
       "                                                desc     tags_kmeans  \\\n",
       "0                                                 []          Jewish   \n",
       "1  [uses, ingredients, found, boudin, blanc, clas...   West European   \n",
       "2                                                 []   West European   \n",
       "3  [style, tomato, sauce, tons, mediterranean, fl...  Middle Eastern   \n",
       "4                                                 []        American   \n",
       "\n",
       "                                                cbow  \n",
       "0  [lentil, apple, turkey, wrap, cups, low, sodiu...  \n",
       "1  [boudin, blanc, terrine, red, onion, confit, b...  \n",
       "2  [potato, fennel, soup, hodge, fennel_soup, fen...  \n",
       "3  [mahi, mahi, tomato, olive, sauce, mahi_mahi, ...  \n",
       "4  [spinach, noodle, casserole, noodle_casserole,...  "
      ]
     },
     "execution_count": 15,
     "metadata": {},
     "output_type": "execute_result"
    }
   ],
   "source": [
    "df_cbow.head()"
   ]
  },
  {
   "cell_type": "markdown",
   "metadata": {
    "heading_collapsed": true
   },
   "source": [
    "# Word Lists"
   ]
  },
  {
   "cell_type": "code",
   "execution_count": 83,
   "metadata": {
    "collapsed": true,
    "hidden": true
   },
   "outputs": [],
   "source": [
    "measurements = ['cup','cups','C','c','gram','grams','g','kilogram','kilograms','kg','liter','liters','L','l',\n",
    "               'pound','pounds','lb','milliliter','milliliters','ml','mL','ounce','ounces','oz','pint','pints','pt',\n",
    "               'teaspoon','teaspoons','t','tsp','tablespoon','tablespoons','T','TB','Tbl','Tbsp','tbsp','quart','quarts','qt',\n",
    "               'dash','pinch','piece','pieces','slice','slices','sheet','sheets','log','stick','sticks']"
   ]
  },
  {
   "cell_type": "code",
   "execution_count": null,
   "metadata": {
    "collapsed": true,
    "hidden": true
   },
   "outputs": [],
   "source": []
  },
  {
   "cell_type": "markdown",
   "metadata": {
    "heading_collapsed": true
   },
   "source": [
    "# Word2Vec Model"
   ]
  },
  {
   "cell_type": "code",
   "execution_count": 16,
   "metadata": {
    "collapsed": true,
    "hidden": true
   },
   "outputs": [],
   "source": [
    "import gensim\n",
    "google_vec_file = '/Users/carliebadder/Downloads/GoogleNews-vectors-negative300.bin'\n",
    "model = gensim.models.KeyedVectors.load_word2vec_format(google_vec_file, binary=True)"
   ]
  },
  {
   "cell_type": "code",
   "execution_count": 17,
   "metadata": {
    "collapsed": true,
    "hidden": true
   },
   "outputs": [],
   "source": [
    "model_wv = model.wv\n",
    "del model"
   ]
  },
  {
   "cell_type": "markdown",
   "metadata": {},
   "source": [
    "# Cuisine Dictionaries"
   ]
  },
  {
   "cell_type": "code",
   "execution_count": 18,
   "metadata": {
    "collapsed": true
   },
   "outputs": [],
   "source": [
    "cuisine_tags = ['African','American','Asian','Dessert','East European',\n",
    "                'Jewish','Latin','Middle Eastern','West European']"
   ]
  },
  {
   "cell_type": "code",
   "execution_count": 108,
   "metadata": {
    "collapsed": true
   },
   "outputs": [],
   "source": [
    "cuisine_dictionaries = {}\n",
    "for tag in cuisine_tags:\n",
    "    temp_list = list(df_cbow[df_cbow.tags_kmeans == tag].cbow.values)\n",
    "    temp_list_flattened = [val for sublist in temp_list for val in sublist]\n",
    "    temp_list_counter = Counter(temp_list_flattened)        \n",
    "    cuisine_dictionaries[tag] = temp_list_counter"
   ]
  },
  {
   "cell_type": "code",
   "execution_count": 109,
   "metadata": {},
   "outputs": [
    {
     "name": "stdout",
     "output_type": "stream",
     "text": [
      "African 3890\n",
      "American 8211\n",
      "Asian 6952\n",
      "Dessert 8731\n",
      "East European 3968\n",
      "Jewish 5481\n",
      "Latin 6625\n",
      "Middle Eastern 6263\n",
      "West European 8282\n"
     ]
    }
   ],
   "source": [
    "# total number of words in each cuisine\n",
    "for c_tag in cuisine_tags:\n",
    "    print(c_tag,len(cuisine_dictionaries[c_tag]))"
   ]
  },
  {
   "cell_type": "code",
   "execution_count": 110,
   "metadata": {
    "collapsed": true
   },
   "outputs": [],
   "source": [
    "skip_words = ['tablespoonfuls','careful','glasses','glass','meat_thermometer','prevent','remainder',\n",
    "             'subsides','kept','turns','ingredient','fold','el','la','ras','begins','tbsp',\n",
    "             'minutes','heat','oil','salt','pepper','medium','chopped','bowl','cut','transfer',\n",
    "             'ingredients','inch','stir','cover','pan','skillet','water','season']"
   ]
  },
  {
   "cell_type": "code",
   "execution_count": 111,
   "metadata": {
    "collapsed": true
   },
   "outputs": [],
   "source": [
    "# remove measurement terms from each cuisine's dictionary\n",
    "for c_tag in cuisine_tags:\n",
    "    temp_key_list = [word for word in cuisine_dictionaries[c_tag].keys() if word not in measurements]\n",
    "    cuisine_dictionaries[c_tag] = {k:cuisine_dictionaries[c_tag][k] for k in temp_key_list}\n",
    "    "
   ]
  },
  {
   "cell_type": "code",
   "execution_count": 112,
   "metadata": {
    "collapsed": true
   },
   "outputs": [],
   "source": [
    "# remove measurement terms from each cuisine's dictionary\n",
    "for c_tag in cuisine_tags:\n",
    "    temp_key_list = [word for word in cuisine_dictionaries[c_tag].keys() if word not in skip_words]\n",
    "    cuisine_dictionaries[c_tag] = {k:cuisine_dictionaries[c_tag][k] for k in temp_key_list}\n",
    "    "
   ]
  },
  {
   "cell_type": "code",
   "execution_count": 113,
   "metadata": {
    "collapsed": true
   },
   "outputs": [],
   "source": [
    "skip_pos = ['VBG','CC','JJ','RB','VB','VBN','IN','VBD','JJS','DT','MD','CD','JJR','RBR']"
   ]
  },
  {
   "cell_type": "code",
   "execution_count": 114,
   "metadata": {
    "collapsed": true
   },
   "outputs": [],
   "source": [
    "# remove non-nouns from each cuisine's dictionary too\n",
    "for c_tag in cuisine_tags:\n",
    "    temp_key_list = [w for w in cuisine_dictionaries[c_tag] if pos_tag(word_tokenize(w))[0][1] not in skip_pos]\n",
    "    cuisine_dictionaries[c_tag] = {k:cuisine_dictionaries[c_tag][k] for k in temp_key_list}\n",
    "  "
   ]
  },
  {
   "cell_type": "code",
   "execution_count": 120,
   "metadata": {
    "collapsed": true
   },
   "outputs": [],
   "source": [
    "# word rankings - probability of each word\n",
    "cuisine_word_prob = {}\n",
    "for c_tag in cuisine_tags:\n",
    "    temp_total = reduce((lambda x,y: x+y),cuisine_dictionaries[c_tag].values())\n",
    "    temp_probabilities = [(num/temp_total) for num in list(cuisine_dictionaries[c_tag].values())]\n",
    "    cuisine_word_prob[c_tag] = dict(list(zip(cuisine_dictionaries[c_tag].keys(),temp_probabilities)))"
   ]
  },
  {
   "cell_type": "code",
   "execution_count": 123,
   "metadata": {
    "collapsed": true
   },
   "outputs": [],
   "source": [
    "# assign cuisine to each word to plot\n",
    "# first create whole word list\n",
    "word_corpus = []\n",
    "for c_tag in cuisine_tags:\n",
    "    # all the words from one cuisine\n",
    "    temp_words = list(cuisine_dictionaries[c_tag].keys())\n",
    "    # add them to the word-corpus\n",
    "    word_corpus.extend(temp_words)\n"
   ]
  },
  {
   "cell_type": "code",
   "execution_count": 205,
   "metadata": {
    "collapsed": true
   },
   "outputs": [],
   "source": [
    "# remove duplicate words\n",
    "word_corpus = list(set(word_corpus))"
   ]
  },
  {
   "cell_type": "code",
   "execution_count": 206,
   "metadata": {
    "collapsed": true
   },
   "outputs": [],
   "source": [
    "# assign the cuisine with the highest probability to each word\n",
    "tag_corpus = {}\n",
    "for wc in word_corpus:\n",
    "    temp_rank = []\n",
    "    for c_tag in cuisine_tags:\n",
    "        try:\n",
    "            temp_rank.append((cuisine_word_prob[c_tag][wc], c_tag))\n",
    "        except:\n",
    "            pass\n",
    "    tag_corpus[wc] = sorted(temp_rank, key=(lambda x: x[0]), reverse=True)"
   ]
  },
  {
   "cell_type": "code",
   "execution_count": 207,
   "metadata": {},
   "outputs": [
    {
     "data": {
      "text/plain": [
       "[(0.003797587257283182, 'American'),\n",
       " (0.0022341101477792126, 'African'),\n",
       " (0.0022017417772892535, 'West European'),\n",
       " (0.0019558956282508706, 'Latin'),\n",
       " (0.0017470240644001027, 'Asian'),\n",
       " (0.0017453008921702587, 'Jewish'),\n",
       " (0.0015203648875730174, 'East European'),\n",
       " (0.0010662807745768197, 'Middle Eastern'),\n",
       " (4.5531811559009226e-05, 'Dessert')]"
      ]
     },
     "execution_count": 207,
     "metadata": {},
     "output_type": "execute_result"
    }
   ],
   "source": [
    "tag_corpus['m eat']"
   ]
  },
  {
   "cell_type": "markdown",
   "metadata": {
    "heading_collapsed": true
   },
   "source": [
    "## Unique Words and PCA"
   ]
  },
  {
   "cell_type": "code",
   "execution_count": 208,
   "metadata": {
    "collapsed": true,
    "hidden": true
   },
   "outputs": [],
   "source": [
    "# build dataframe for word_corpus and most probable cuisine\n",
    "df_word_corpus_list = []\n",
    "for wc in word_corpus:\n",
    "    temp_word = wc\n",
    "    temp_tag = tag_corpus[wc][0][1]\n",
    "    temp_vec = model_wv[wc]\n",
    "    df_word_corpus_list.append([temp_word, temp_tag, temp_vec])"
   ]
  },
  {
   "cell_type": "code",
   "execution_count": 209,
   "metadata": {
    "collapsed": true,
    "hidden": true
   },
   "outputs": [],
   "source": [
    "df_word_corpus = pd.DataFrame(df_word_corpus_list, columns=['word','tag','vec'])"
   ]
  },
  {
   "cell_type": "code",
   "execution_count": 210,
   "metadata": {
    "hidden": true
   },
   "outputs": [
    {
     "data": {
      "text/html": [
       "<div>\n",
       "<style>\n",
       "    .dataframe thead tr:only-child th {\n",
       "        text-align: right;\n",
       "    }\n",
       "\n",
       "    .dataframe thead th {\n",
       "        text-align: left;\n",
       "    }\n",
       "\n",
       "    .dataframe tbody tr th {\n",
       "        vertical-align: top;\n",
       "    }\n",
       "</style>\n",
       "<table border=\"1\" class=\"dataframe\">\n",
       "  <thead>\n",
       "    <tr style=\"text-align: right;\">\n",
       "      <th></th>\n",
       "      <th>word</th>\n",
       "      <th>tag</th>\n",
       "      <th>vec</th>\n",
       "    </tr>\n",
       "  </thead>\n",
       "  <tbody>\n",
       "    <tr>\n",
       "      <th>0</th>\n",
       "      <td>restore</td>\n",
       "      <td>Latin</td>\n",
       "      <td>[-0.017334, 0.310547, -0.121582, -0.0517578, -...</td>\n",
       "    </tr>\n",
       "    <tr>\n",
       "      <th>1</th>\n",
       "      <td>shrimp_cocktail</td>\n",
       "      <td>Latin</td>\n",
       "      <td>[-0.316406, -0.0306396, 0.0561523, 0.408203, 0...</td>\n",
       "    </tr>\n",
       "    <tr>\n",
       "      <th>2</th>\n",
       "      <td>froyo</td>\n",
       "      <td>Dessert</td>\n",
       "      <td>[0.0123901, -0.168945, -0.146484, 0.388672, -0...</td>\n",
       "    </tr>\n",
       "    <tr>\n",
       "      <th>3</th>\n",
       "      <td>roasted_chile</td>\n",
       "      <td>Latin</td>\n",
       "      <td>[-0.0272217, -0.0698242, 0.0161133, 0.036377, ...</td>\n",
       "    </tr>\n",
       "    <tr>\n",
       "      <th>4</th>\n",
       "      <td>bouchon</td>\n",
       "      <td>West European</td>\n",
       "      <td>[-0.0761719, -0.0214844, 0.0991211, 0.181641, ...</td>\n",
       "    </tr>\n",
       "  </tbody>\n",
       "</table>\n",
       "</div>"
      ],
      "text/plain": [
       "              word            tag  \\\n",
       "0          restore          Latin   \n",
       "1  shrimp_cocktail          Latin   \n",
       "2            froyo        Dessert   \n",
       "3    roasted_chile          Latin   \n",
       "4          bouchon  West European   \n",
       "\n",
       "                                                 vec  \n",
       "0  [-0.017334, 0.310547, -0.121582, -0.0517578, -...  \n",
       "1  [-0.316406, -0.0306396, 0.0561523, 0.408203, 0...  \n",
       "2  [0.0123901, -0.168945, -0.146484, 0.388672, -0...  \n",
       "3  [-0.0272217, -0.0698242, 0.0161133, 0.036377, ...  \n",
       "4  [-0.0761719, -0.0214844, 0.0991211, 0.181641, ...  "
      ]
     },
     "execution_count": 210,
     "metadata": {},
     "output_type": "execute_result"
    }
   ],
   "source": [
    "df_word_corpus.head()"
   ]
  },
  {
   "cell_type": "code",
   "execution_count": 211,
   "metadata": {
    "collapsed": true,
    "hidden": true
   },
   "outputs": [],
   "source": [
    "df_word_corpus.to_pickle('df_word_corpus.pkl')"
   ]
  },
  {
   "cell_type": "code",
   "execution_count": 212,
   "metadata": {
    "collapsed": true,
    "hidden": true
   },
   "outputs": [],
   "source": [
    "# PCA\n",
    "from sklearn.preprocessing import normalize\n",
    "from sklearn.decomposition import PCA\n",
    "\n",
    "vec_vstack = np.vstack(df_word_corpus.vec)\n",
    "pca = PCA(n_components=3)\n",
    "pca_result = pca.fit_transform(vec_vstack)"
   ]
  },
  {
   "cell_type": "code",
   "execution_count": 213,
   "metadata": {
    "hidden": true
   },
   "outputs": [
    {
     "data": {
      "text/plain": [
       "<matplotlib.text.Text at 0x223723860>"
      ]
     },
     "execution_count": 213,
     "metadata": {},
     "output_type": "execute_result"
    },
    {
     "data": {
      "image/png": "[encoded data removed]",
      "text/plain": [
       "<matplotlib.figure.Figure at 0x2236fdc18>"
      ]
     },
     "metadata": {},
     "output_type": "display_data"
    }
   ],
   "source": [
    "plt.figure(figsize=(10,10))\n",
    "pcax = 1\n",
    "pcay = 2\n",
    "alpha = .5\n",
    "s = 150\n",
    "ec = 'k'\n",
    "plt.scatter(pca_result[df_word_corpus['tag']=='African',pcax], \n",
    "            pca_result[df_word_corpus['tag']=='African',pcay],\n",
    "           alpha=alpha, c = 'k', s=s, edgecolor=ec)\n",
    "plt.scatter(pca_result[df_word_corpus['tag']=='American',pcax], \n",
    "            pca_result[df_word_corpus['tag']=='American',pcay],\n",
    "           alpha=alpha, c = 'r', s=s, edgecolor=ec)\n",
    "plt.scatter(pca_result[df_word_corpus['tag']=='Asian',pcax], \n",
    "            pca_result[df_word_corpus['tag']=='Asian',pcay],\n",
    "           alpha=alpha, c = 'b', s=s, edgecolor=ec)\n",
    "plt.scatter(pca_result[df_word_corpus['tag']=='Dessert',pcax], \n",
    "            pca_result[df_word_corpus['tag']=='Dessert',pcay],\n",
    "           alpha=alpha, c = 'g', s=s, edgecolor=ec)\n",
    "plt.scatter(pca_result[df_word_corpus['tag']=='East European',pcax], \n",
    "            pca_result[df_word_corpus['tag']=='East European',pcay],\n",
    "           alpha=alpha, c = 'c', s=s, edgecolor=ec)\n",
    "plt.scatter(pca_result[df_word_corpus['tag']=='Jewish',pcax], \n",
    "            pca_result[df_word_corpus['tag']=='Jewish',pcay],\n",
    "           alpha=alpha, c = 'y', s=s, edgecolor=ec)\n",
    "plt.scatter(pca_result[df_word_corpus['tag']=='Latin',pcax], \n",
    "            pca_result[df_word_corpus['tag']=='Latin',pcay],\n",
    "           alpha=alpha, c = 'm', s=s, edgecolor=ec)\n",
    "plt.scatter(pca_result[df_word_corpus['tag']=='Middle Eastern',pcax], \n",
    "            pca_result[df_word_corpus['tag']=='Middle Eastern',pcay],\n",
    "           alpha=alpha, c = 'grey', s=s, edgecolor=ec)\n",
    "plt.scatter(pca_result[df_word_corpus['tag']=='West European',pcax], \n",
    "            pca_result[df_word_corpus['tag']=='West European',pcay],\n",
    "           alpha=alpha, c = 'w', s=s, edgecolor=ec)\n",
    "\n",
    "plt.legend(cuisine_tags,fontsize=22,frameon=True,edgecolor='k',bbox_to_anchor=(1.01, 1.0))\n",
    "plt.title('Unique Words Per Cuisine',fontsize=28)"
   ]
  },
  {
   "cell_type": "code",
   "execution_count": null,
   "metadata": {
    "collapsed": true,
    "hidden": true
   },
   "outputs": [],
   "source": []
  },
  {
   "cell_type": "code",
   "execution_count": 214,
   "metadata": {
    "hidden": true
   },
   "outputs": [
    {
     "data": {
      "text/plain": [
       "<mpl_toolkits.mplot3d.art3d.Path3DCollection at 0x2522a2e80>"
      ]
     },
     "execution_count": 214,
     "metadata": {},
     "output_type": "execute_result"
    },
    {
     "data": {
      "image/png": "[encoded data removed]",
      "text/plain": [
       "<matplotlib.figure.Figure at 0x2236fb940>"
      ]
     },
     "metadata": {},
     "output_type": "display_data"
    }
   ],
   "source": [
    "from mpl_toolkits.mplot3d import Axes3D\n",
    "\n",
    "fig = plt.figure()\n",
    "ax = fig.add_subplot(111, projection='3d')\n",
    "\n",
    "pcax=1\n",
    "pcay=2\n",
    "pcaz=0\n",
    "\n",
    "xs = pca_result[df_word_corpus['tag']=='West European',pcax]\n",
    "ys = pca_result[df_word_corpus['tag']=='West European',pcay]\n",
    "zs = pca_result[df_word_corpus['tag']=='West European',pcaz]\n",
    "\n",
    "xs1 = pca_result[df_word_corpus['tag']=='Asian',pcax]\n",
    "ys1 = pca_result[df_word_corpus['tag']=='Asian',pcay]\n",
    "zs1 = pca_result[df_word_corpus['tag']=='Asian',pcaz]\n",
    "\n",
    "xs2 = pca_result[df_word_corpus['tag']=='American',pcax]\n",
    "ys2 = pca_result[df_word_corpus['tag']=='American',pcay]\n",
    "zs2 = pca_result[df_word_corpus['tag']=='American',pcaz]\n",
    "\n",
    "ax.scatter(xs, ys, zs, zdir='z', s=20, c=None, depthshade=True)\n",
    "ax.scatter(xs1, ys1, zs1, zdir='z', s=20, c=None, depthshade=True)\n",
    "ax.scatter(xs2, ys2, zs2, zdir='z', s=20, c=None, depthshade=True)"
   ]
  },
  {
   "cell_type": "code",
   "execution_count": null,
   "metadata": {
    "collapsed": true,
    "hidden": true
   },
   "outputs": [],
   "source": []
  },
  {
   "cell_type": "code",
   "execution_count": null,
   "metadata": {
    "collapsed": true,
    "hidden": true
   },
   "outputs": [],
   "source": []
  },
  {
   "cell_type": "markdown",
   "metadata": {},
   "source": [
    "# Meats"
   ]
  },
  {
   "cell_type": "code",
   "execution_count": 624,
   "metadata": {
    "collapsed": true
   },
   "outputs": [],
   "source": [
    "main_meat = ['Beef','Pork','Seafood','Poultry','Lamb']\n",
    "\n",
    "main_meat_list = {'Poultry': ['Chicken','turkey','Duck','Poultry','Poultry_Sausage','Pollo',\n",
    "                             'Coq'],\n",
    "       'Beef': ['Beef','Ground_Beef','Steak','Burger','Beef Rib','Brisket','Hamburger',\n",
    "             'Beef_Shank','Beef_Tenderloin','Bulgogi','Cheeseburger','Mignon','Carpaccio',\n",
    "               'Veal','Bratwurst','Asada'],\n",
    "       'Pork': ['Pork','Pork_Rib','Pork_Chop','Pork_Tenderloin','Bacon','Ham','Carnitas',\n",
    "               'Pig','Chorizo','Coppa','Pepperoni','Soppressata','Speck','Prosciutto'],\n",
    "       'Lamb': ['Lamb','Ground_Lamb','Lamb_Chop','Lamb_Shank','Rack_Lamb','Moussaka'],\n",
    "       'Seafood': ['Seafood','Fish','Shellfish','Salmon','Shrimp','Scallop',\n",
    "             'Halibut','Oyster','Sardine','Swordfish','Tilapia','Trout',\n",
    "             'Tuna','Sushi','Cioppino','Scampi','Seafoods','Oysters','Trouts','Scallops',\n",
    "                  'Moules','Anchovy','Anchovies','Seabass','Cod','Catfish','Eel',\n",
    "                  'Flounder','Grouper','Halibut','Kingfish','Mahi','Mahi_Mahi',\n",
    "                  'Sardine','Sardines','Caviar','Crab','Crabs','Crayfish','Prawn',\n",
    "                  'Lobster','Prawns','Mussel','Mussels','Octopus','Squid','Calamari',\n",
    "                  'Escargot','Roe','Clam','Clams','Chowder','Bisque','Paella']}"
   ]
  },
  {
   "cell_type": "code",
   "execution_count": 625,
   "metadata": {
    "collapsed": true
   },
   "outputs": [],
   "source": [
    "all_meats = []\n",
    "all_meats_main = []\n",
    "for m in main_meat:\n",
    "    temp_m = main_meat_list[m]\n",
    "    temp_m = [mm.lower() for mm in temp_m if mm.lower() in model_wv]\n",
    "    temp_m = [mm for mm in temp_m if mm in word_corpus]\n",
    "    all_meats.extend(temp_m)\n",
    "    all_meats_main.extend([m]*len(temp_m))"
   ]
  },
  {
   "cell_type": "code",
   "execution_count": 626,
   "metadata": {
    "collapsed": true
   },
   "outputs": [],
   "source": [
    "# for each cuisine calculate the probability of a meat occuring relative to all the other meats\n",
    "meat_probs = {}\n",
    "for c_tag in cuisine_tags:\n",
    "    temp_meat_dict = {m:cuisine_dictionaries[c_tag][m] for m in all_meats if m in cuisine_dictionaries[c_tag].keys()}\n",
    "    temp_total_meats = sum(temp_meat_dict.values())\n",
    "    temp_meat_dict = {m:(temp_meat_dict[m]/temp_total_meats) for m in temp_meat_dict.keys()}\n",
    "    meat_probs[c_tag] = temp_meat_dict"
   ]
  },
  {
   "cell_type": "code",
   "execution_count": 627,
   "metadata": {},
   "outputs": [
    {
     "data": {
      "text/plain": [
       "dict_keys(['African', 'American', 'Asian', 'Dessert', 'East European', 'Jewish', 'Latin', 'Middle Eastern', 'West European'])"
      ]
     },
     "execution_count": 627,
     "metadata": {},
     "output_type": "execute_result"
    }
   ],
   "source": [
    "meat_probs.keys()"
   ]
  },
  {
   "cell_type": "code",
   "execution_count": 628,
   "metadata": {},
   "outputs": [
    {
     "data": {
      "text/html": [
       "<div>\n",
       "<style>\n",
       "    .dataframe thead tr:only-child th {\n",
       "        text-align: right;\n",
       "    }\n",
       "\n",
       "    .dataframe thead th {\n",
       "        text-align: left;\n",
       "    }\n",
       "\n",
       "    .dataframe tbody tr th {\n",
       "        vertical-align: top;\n",
       "    }\n",
       "</style>\n",
       "<table border=\"1\" class=\"dataframe\">\n",
       "  <thead>\n",
       "    <tr style=\"text-align: right;\">\n",
       "      <th></th>\n",
       "      <th>African</th>\n",
       "      <th>American</th>\n",
       "      <th>Asian</th>\n",
       "      <th>Dessert</th>\n",
       "      <th>East European</th>\n",
       "      <th>Jewish</th>\n",
       "      <th>Latin</th>\n",
       "      <th>Middle Eastern</th>\n",
       "      <th>West European</th>\n",
       "    </tr>\n",
       "  </thead>\n",
       "  <tbody>\n",
       "    <tr>\n",
       "      <th>anchovies</th>\n",
       "      <td>0.002215</td>\n",
       "      <td>0.001362</td>\n",
       "      <td>0.000532</td>\n",
       "      <td>NaN</td>\n",
       "      <td>0.001403</td>\n",
       "      <td>0.005872</td>\n",
       "      <td>0.003146</td>\n",
       "      <td>0.022423</td>\n",
       "      <td>0.006589</td>\n",
       "    </tr>\n",
       "    <tr>\n",
       "      <th>anchovy</th>\n",
       "      <td>0.007752</td>\n",
       "      <td>0.001923</td>\n",
       "      <td>0.001330</td>\n",
       "      <td>NaN</td>\n",
       "      <td>0.001403</td>\n",
       "      <td>0.007046</td>\n",
       "      <td>0.004522</td>\n",
       "      <td>0.034365</td>\n",
       "      <td>0.011296</td>\n",
       "    </tr>\n",
       "    <tr>\n",
       "      <th>asada</th>\n",
       "      <td>NaN</td>\n",
       "      <td>NaN</td>\n",
       "      <td>NaN</td>\n",
       "      <td>NaN</td>\n",
       "      <td>NaN</td>\n",
       "      <td>NaN</td>\n",
       "      <td>0.000393</td>\n",
       "      <td>NaN</td>\n",
       "      <td>NaN</td>\n",
       "    </tr>\n",
       "    <tr>\n",
       "      <th>bacon</th>\n",
       "      <td>0.016611</td>\n",
       "      <td>0.087747</td>\n",
       "      <td>0.009047</td>\n",
       "      <td>0.269091</td>\n",
       "      <td>0.105189</td>\n",
       "      <td>0.046389</td>\n",
       "      <td>0.023791</td>\n",
       "      <td>0.022179</td>\n",
       "      <td>0.087113</td>\n",
       "    </tr>\n",
       "    <tr>\n",
       "      <th>beef</th>\n",
       "      <td>0.033223</td>\n",
       "      <td>0.065550</td>\n",
       "      <td>0.063332</td>\n",
       "      <td>0.032727</td>\n",
       "      <td>0.079944</td>\n",
       "      <td>0.044627</td>\n",
       "      <td>0.058199</td>\n",
       "      <td>0.017548</td>\n",
       "      <td>0.055109</td>\n",
       "    </tr>\n",
       "  </tbody>\n",
       "</table>\n",
       "</div>"
      ],
      "text/plain": [
       "            African  American     Asian   Dessert  East European    Jewish  \\\n",
       "anchovies  0.002215  0.001362  0.000532       NaN       0.001403  0.005872   \n",
       "anchovy    0.007752  0.001923  0.001330       NaN       0.001403  0.007046   \n",
       "asada           NaN       NaN       NaN       NaN            NaN       NaN   \n",
       "bacon      0.016611  0.087747  0.009047  0.269091       0.105189  0.046389   \n",
       "beef       0.033223  0.065550  0.063332  0.032727       0.079944  0.044627   \n",
       "\n",
       "              Latin  Middle Eastern  West European  \n",
       "anchovies  0.003146        0.022423       0.006589  \n",
       "anchovy    0.004522        0.034365       0.011296  \n",
       "asada      0.000393             NaN            NaN  \n",
       "bacon      0.023791        0.022179       0.087113  \n",
       "beef       0.058199        0.017548       0.055109  "
      ]
     },
     "execution_count": 628,
     "metadata": {},
     "output_type": "execute_result"
    }
   ],
   "source": [
    "df_meat_probs = pd.DataFrame.from_dict(meat_probs, orient='columns')\n",
    "df_meat_probs.head()"
   ]
  },
  {
   "cell_type": "markdown",
   "metadata": {
    "heading_collapsed": true
   },
   "source": [
    "## Meat probs relative to all cuisine words"
   ]
  },
  {
   "cell_type": "code",
   "execution_count": 379,
   "metadata": {
    "collapsed": true,
    "hidden": true
   },
   "outputs": [],
   "source": [
    "# df_meats: seasoning, each cuisine's probability\n",
    "meats_list = []\n",
    "for m in all_meats:\n",
    "    temp_tag_list = tag_corpus[m]\n",
    "    temp_tag_list = sorted(temp_tag_list, key=(lambda x: x[1]))\n",
    "#     temp_tag_list = [t[0] for t in temp_tag_list]\n",
    "    temp_row = [m] + temp_tag_list\n",
    "    meats_list.append(temp_row)"
   ]
  },
  {
   "cell_type": "code",
   "execution_count": 380,
   "metadata": {
    "collapsed": true,
    "hidden": true
   },
   "outputs": [],
   "source": [
    "df_meats_dict = {row[0]:{x[1]:x[0] for x in row[1:]} for row in meats_list}"
   ]
  },
  {
   "cell_type": "code",
   "execution_count": 381,
   "metadata": {
    "hidden": true
   },
   "outputs": [
    {
     "data": {
      "text/html": [
       "<div>\n",
       "<style>\n",
       "    .dataframe thead tr:only-child th {\n",
       "        text-align: right;\n",
       "    }\n",
       "\n",
       "    .dataframe thead th {\n",
       "        text-align: left;\n",
       "    }\n",
       "\n",
       "    .dataframe tbody tr th {\n",
       "        vertical-align: top;\n",
       "    }\n",
       "</style>\n",
       "<table border=\"1\" class=\"dataframe\">\n",
       "  <thead>\n",
       "    <tr style=\"text-align: right;\">\n",
       "      <th></th>\n",
       "      <th>African</th>\n",
       "      <th>American</th>\n",
       "      <th>Asian</th>\n",
       "      <th>Dessert</th>\n",
       "      <th>East European</th>\n",
       "      <th>Jewish</th>\n",
       "      <th>Latin</th>\n",
       "      <th>Middle Eastern</th>\n",
       "      <th>West European</th>\n",
       "    </tr>\n",
       "  </thead>\n",
       "  <tbody>\n",
       "    <tr>\n",
       "      <th>anchovies</th>\n",
       "      <td>0.000082</td>\n",
       "      <td>0.000076</td>\n",
       "      <td>0.000023</td>\n",
       "      <td>NaN</td>\n",
       "      <td>0.000027</td>\n",
       "      <td>0.000115</td>\n",
       "      <td>0.000115</td>\n",
       "      <td>0.000584</td>\n",
       "      <td>0.000260</td>\n",
       "    </tr>\n",
       "    <tr>\n",
       "      <th>anchovy</th>\n",
       "      <td>0.000287</td>\n",
       "      <td>0.000107</td>\n",
       "      <td>0.000057</td>\n",
       "      <td>NaN</td>\n",
       "      <td>0.000027</td>\n",
       "      <td>0.000138</td>\n",
       "      <td>0.000165</td>\n",
       "      <td>0.000895</td>\n",
       "      <td>0.000446</td>\n",
       "    </tr>\n",
       "    <tr>\n",
       "      <th>asada</th>\n",
       "      <td>NaN</td>\n",
       "      <td>NaN</td>\n",
       "      <td>NaN</td>\n",
       "      <td>NaN</td>\n",
       "      <td>NaN</td>\n",
       "      <td>NaN</td>\n",
       "      <td>0.000014</td>\n",
       "      <td>NaN</td>\n",
       "      <td>NaN</td>\n",
       "    </tr>\n",
       "    <tr>\n",
       "      <th>bacon</th>\n",
       "      <td>0.000615</td>\n",
       "      <td>0.004898</td>\n",
       "      <td>0.000388</td>\n",
       "      <td>0.00016</td>\n",
       "      <td>0.002000</td>\n",
       "      <td>0.000907</td>\n",
       "      <td>0.000867</td>\n",
       "      <td>0.000578</td>\n",
       "      <td>0.003443</td>\n",
       "    </tr>\n",
       "    <tr>\n",
       "      <th>beef</th>\n",
       "      <td>0.001230</td>\n",
       "      <td>0.003659</td>\n",
       "      <td>0.002718</td>\n",
       "      <td>0.00002</td>\n",
       "      <td>0.001520</td>\n",
       "      <td>0.000873</td>\n",
       "      <td>0.002121</td>\n",
       "      <td>0.000457</td>\n",
       "      <td>0.002178</td>\n",
       "    </tr>\n",
       "  </tbody>\n",
       "</table>\n",
       "</div>"
      ],
      "text/plain": [
       "            African  American     Asian  Dessert  East European    Jewish  \\\n",
       "anchovies  0.000082  0.000076  0.000023      NaN       0.000027  0.000115   \n",
       "anchovy    0.000287  0.000107  0.000057      NaN       0.000027  0.000138   \n",
       "asada           NaN       NaN       NaN      NaN            NaN       NaN   \n",
       "bacon      0.000615  0.004898  0.000388  0.00016       0.002000  0.000907   \n",
       "beef       0.001230  0.003659  0.002718  0.00002       0.001520  0.000873   \n",
       "\n",
       "              Latin  Middle Eastern  West European  \n",
       "anchovies  0.000115        0.000584       0.000260  \n",
       "anchovy    0.000165        0.000895       0.000446  \n",
       "asada      0.000014             NaN            NaN  \n",
       "bacon      0.000867        0.000578       0.003443  \n",
       "beef       0.002121        0.000457       0.002178  "
      ]
     },
     "execution_count": 381,
     "metadata": {},
     "output_type": "execute_result"
    }
   ],
   "source": [
    "df_meats_probs = pd.DataFrame.from_dict(df_meats_dict, orient='index')\n",
    "df_meats_probs.head()"
   ]
  },
  {
   "cell_type": "code",
   "execution_count": null,
   "metadata": {
    "collapsed": true,
    "hidden": true
   },
   "outputs": [],
   "source": []
  },
  {
   "cell_type": "markdown",
   "metadata": {
    "heading_collapsed": true
   },
   "source": [
    "## Meat Max Probs relative to all cuisine words"
   ]
  },
  {
   "cell_type": "code",
   "execution_count": 218,
   "metadata": {
    "collapsed": true,
    "hidden": true
   },
   "outputs": [],
   "source": [
    "# build dataframe for all_meats and most probable cuisine\n",
    "meat_tag_list = []\n",
    "for i,m in enumerate(all_meats):\n",
    "    temp_main_meat = all_meats_main[i]\n",
    "    temp_word = m\n",
    "    temp_tag = tag_corpus[m][0][1]\n",
    "    temp_vec = model_wv[m]\n",
    "    meat_tag_list.append([temp_word, temp_main_meat, temp_tag, temp_vec])"
   ]
  },
  {
   "cell_type": "code",
   "execution_count": 219,
   "metadata": {
    "hidden": true
   },
   "outputs": [
    {
     "data": {
      "text/html": [
       "<div>\n",
       "<style>\n",
       "    .dataframe thead tr:only-child th {\n",
       "        text-align: right;\n",
       "    }\n",
       "\n",
       "    .dataframe thead th {\n",
       "        text-align: left;\n",
       "    }\n",
       "\n",
       "    .dataframe tbody tr th {\n",
       "        vertical-align: top;\n",
       "    }\n",
       "</style>\n",
       "<table border=\"1\" class=\"dataframe\">\n",
       "  <thead>\n",
       "    <tr style=\"text-align: right;\">\n",
       "      <th></th>\n",
       "      <th>meat</th>\n",
       "      <th>meat_type</th>\n",
       "      <th>tag</th>\n",
       "      <th>vec</th>\n",
       "    </tr>\n",
       "  </thead>\n",
       "  <tbody>\n",
       "    <tr>\n",
       "      <th>0</th>\n",
       "      <td>beef</td>\n",
       "      <td>Beef</td>\n",
       "      <td>American</td>\n",
       "      <td>[-0.265625, 0.242188, 0.177734, 0.261719, 0.06...</td>\n",
       "    </tr>\n",
       "    <tr>\n",
       "      <th>1</th>\n",
       "      <td>steak</td>\n",
       "      <td>Beef</td>\n",
       "      <td>Latin</td>\n",
       "      <td>[-0.296875, 0.0864258, 0.0566406, 0.390625, -0...</td>\n",
       "    </tr>\n",
       "    <tr>\n",
       "      <th>2</th>\n",
       "      <td>burger</td>\n",
       "      <td>Beef</td>\n",
       "      <td>American</td>\n",
       "      <td>[-0.267578, 0.0522461, 0.00915527, 0.621094, -...</td>\n",
       "    </tr>\n",
       "    <tr>\n",
       "      <th>3</th>\n",
       "      <td>brisket</td>\n",
       "      <td>Beef</td>\n",
       "      <td>Jewish</td>\n",
       "      <td>[-0.114258, -0.140625, 0.183594, 0.300781, 0.2...</td>\n",
       "    </tr>\n",
       "    <tr>\n",
       "      <th>4</th>\n",
       "      <td>hamburger</td>\n",
       "      <td>Beef</td>\n",
       "      <td>American</td>\n",
       "      <td>[-0.157227, 0.00257874, 0.141602, 0.605469, -0...</td>\n",
       "    </tr>\n",
       "  </tbody>\n",
       "</table>\n",
       "</div>"
      ],
      "text/plain": [
       "        meat meat_type       tag  \\\n",
       "0       beef      Beef  American   \n",
       "1      steak      Beef     Latin   \n",
       "2     burger      Beef  American   \n",
       "3    brisket      Beef    Jewish   \n",
       "4  hamburger      Beef  American   \n",
       "\n",
       "                                                 vec  \n",
       "0  [-0.265625, 0.242188, 0.177734, 0.261719, 0.06...  \n",
       "1  [-0.296875, 0.0864258, 0.0566406, 0.390625, -0...  \n",
       "2  [-0.267578, 0.0522461, 0.00915527, 0.621094, -...  \n",
       "3  [-0.114258, -0.140625, 0.183594, 0.300781, 0.2...  \n",
       "4  [-0.157227, 0.00257874, 0.141602, 0.605469, -0...  "
      ]
     },
     "execution_count": 219,
     "metadata": {},
     "output_type": "execute_result"
    }
   ],
   "source": [
    "df_meats = pd.DataFrame(meat_tag_list,columns=['meat','meat_type','tag','vec'])\n",
    "df_meats.head()"
   ]
  },
  {
   "cell_type": "code",
   "execution_count": 220,
   "metadata": {
    "hidden": true
   },
   "outputs": [
    {
     "data": {
      "text/plain": [
       "<matplotlib.axes._subplots.AxesSubplot at 0x2236fb5f8>"
      ]
     },
     "execution_count": 220,
     "metadata": {},
     "output_type": "execute_result"
    },
    {
     "data": {
      "image/png": "[encoded data removed]",
      "text/plain": [
       "<matplotlib.figure.Figure at 0x2500fa438>"
      ]
     },
     "metadata": {},
     "output_type": "display_data"
    }
   ],
   "source": [
    "# Stacked Bar Graph of Meat Distribution\n",
    "df_test = df_meats.groupby(['meat_type','tag'])['tag'].count().unstack('tag').fillna(0)\n",
    "df_test[['African','American','Asian','East European','West European','Middle Eastern','Jewish','Latin']].plot(kind='bar', stacked=True)\n"
   ]
  },
  {
   "cell_type": "markdown",
   "metadata": {
    "heading_collapsed": true,
    "hidden": true
   },
   "source": [
    "### PCA Meat Probabilities"
   ]
  },
  {
   "cell_type": "code",
   "execution_count": 176,
   "metadata": {
    "collapsed": true,
    "hidden": true
   },
   "outputs": [],
   "source": [
    "# PCA\n",
    "from sklearn.preprocessing import normalize\n",
    "from sklearn.decomposition import PCA\n",
    "\n",
    "meat_vstack = np.vstack(df_meats.vec)\n",
    "pca_meat = PCA(n_components=3)\n",
    "pca_meat_result = pca_meat.fit_transform(meat_vstack)"
   ]
  },
  {
   "cell_type": "code",
   "execution_count": 179,
   "metadata": {
    "hidden": true
   },
   "outputs": [
    {
     "data": {
      "text/plain": [
       "<matplotlib.text.Text at 0x215c760b8>"
      ]
     },
     "execution_count": 179,
     "metadata": {},
     "output_type": "execute_result"
    },
    {
     "data": {
      "image/png": "[encoded data removed]",
      "text/plain": [
       "<matplotlib.figure.Figure at 0x2159c5320>"
      ]
     },
     "metadata": {},
     "output_type": "display_data"
    }
   ],
   "source": [
    "plt.figure(figsize=(10,10))\n",
    "pcax = 0\n",
    "pcay = 2\n",
    "alpha = .5\n",
    "s = 150\n",
    "ec = 'k'\n",
    "plt.scatter(pca_meat_result[df_meats['tag']=='African',pcax], \n",
    "            pca_meat_result[df_meats['tag']=='African',pcay],\n",
    "           alpha=alpha, c = 'k', s=s, edgecolor=ec)\n",
    "plt.scatter(pca_meat_result[df_meats['tag']=='American',pcax], \n",
    "            pca_meat_result[df_meats['tag']=='American',pcay],\n",
    "           alpha=alpha, c = 'r', s=s, edgecolor=ec)\n",
    "plt.scatter(pca_meat_result[df_meats['tag']=='Asian',pcax], \n",
    "            pca_meat_result[df_meats['tag']=='Asian',pcay],\n",
    "           alpha=alpha, c = 'b', s=s, edgecolor=ec)\n",
    "plt.scatter(pca_meat_result[df_meats['tag']=='Dessert',pcax], \n",
    "            pca_meat_result[df_meats['tag']=='Dessert',pcay],\n",
    "           alpha=alpha, c = 'g', s=s, edgecolor=ec)\n",
    "plt.scatter(pca_meat_result[df_meats['tag']=='East European',pcax], \n",
    "            pca_meat_result[df_meats['tag']=='East European',pcay],\n",
    "           alpha=alpha, c = 'c', s=s, edgecolor=ec)\n",
    "plt.scatter(pca_meat_result[df_meats['tag']=='Jewish',pcax], \n",
    "            pca_meat_result[df_meats['tag']=='Jewish',pcay],\n",
    "           alpha=alpha, c = 'y', s=s, edgecolor=ec)\n",
    "plt.scatter(pca_meat_result[df_meats['tag']=='Latin',pcax], \n",
    "            pca_meat_result[df_meats['tag']=='Latin',pcay],\n",
    "           alpha=alpha, c = 'm', s=s, edgecolor=ec)\n",
    "plt.scatter(pca_meat_result[df_meats['tag']=='Middle Eastern',pcax], \n",
    "            pca_meat_result[df_meats['tag']=='Middle Eastern',pcay],\n",
    "           alpha=alpha, c = 'grey', s=s, edgecolor=ec)\n",
    "plt.scatter(pca_meat_result[df_meats['tag']=='West European',pcax], \n",
    "            pca_meat_result[df_meats['tag']=='West European',pcay],\n",
    "           alpha=alpha, c = 'w', s=s, edgecolor=ec)\n",
    "\n",
    "plt.legend(cuisine_tags,fontsize=22,frameon=True,edgecolor='k',bbox_to_anchor=(1.01, 1.0))\n",
    "plt.title('Unique Words Per Cuisine',fontsize=28)"
   ]
  },
  {
   "cell_type": "code",
   "execution_count": null,
   "metadata": {
    "collapsed": true,
    "hidden": true
   },
   "outputs": [],
   "source": []
  },
  {
   "cell_type": "markdown",
   "metadata": {
    "heading_collapsed": true
   },
   "source": [
    "## Meat Percentages relative to all cuisine words"
   ]
  },
  {
   "cell_type": "code",
   "execution_count": 73,
   "metadata": {
    "collapsed": true,
    "hidden": true
   },
   "outputs": [],
   "source": [
    "cuisine_meats = {}\n",
    "for c_tag in cuisine_tags:\n",
    "    temp_meat_dict = defaultdict(int)\n",
    "    # for each main meat in the list of main meats\n",
    "    for meat_type in main_meat:\n",
    "        # check through the list of meats in each main meat group\n",
    "        for meat in main_meat_list[meat_type]:\n",
    "            # if the specific meat appears in the current cuisine's dictionary\n",
    "            if meat in cuisine_dictionaries[c_tag]:\n",
    "                # add the number of occurences to the temporary meat dictionary\n",
    "                # in the key of the main meat group\n",
    "                temp_meat_dict[meat_type] += cuisine_dictionaries[c_tag][meat]\n",
    "       \n",
    "            if meat.lower() in cuisine_dictionaries[c_tag]:\n",
    "                # add the number of occurences to the temporary meat dictionary\n",
    "                # in the key of the main meat group\n",
    "                temp_meat_dict[meat_type] += cuisine_dictionaries[c_tag][meat.lower()]\n",
    "   \n",
    "    cuisine_meats[c_tag] = temp_meat_dict\n",
    "        "
   ]
  },
  {
   "cell_type": "code",
   "execution_count": 74,
   "metadata": {
    "hidden": true
   },
   "outputs": [
    {
     "data": {
      "text/plain": [
       "{'African': defaultdict(int,\n",
       "             {'Beef': 113,\n",
       "              'Lamb': 575,\n",
       "              'Pork': 76,\n",
       "              'Poultry': 989,\n",
       "              'Seafood': 217}),\n",
       " 'American': defaultdict(int,\n",
       "             {'Beef': 1531,\n",
       "              'Lamb': 162,\n",
       "              'Pork': 3084,\n",
       "              'Poultry': 6773,\n",
       "              'Seafood': 3104}),\n",
       " 'Asian': defaultdict(int,\n",
       "             {'Beef': 753,\n",
       "              'Lamb': 184,\n",
       "              'Pork': 825,\n",
       "              'Poultry': 2356,\n",
       "              'Seafood': 3580}),\n",
       " 'Dessert': defaultdict(int,\n",
       "             {'Beef': 17,\n",
       "              'Lamb': 5,\n",
       "              'Pork': 149,\n",
       "              'Poultry': 55,\n",
       "              'Seafood': 40}),\n",
       " 'East European': defaultdict(int,\n",
       "             {'Beef': 95,\n",
       "              'Lamb': 5,\n",
       "              'Pork': 204,\n",
       "              'Poultry': 252,\n",
       "              'Seafood': 280}),\n",
       " 'Jewish': defaultdict(int,\n",
       "             {'Beef': 358,\n",
       "              'Lamb': 175,\n",
       "              'Pork': 223,\n",
       "              'Poultry': 991,\n",
       "              'Seafood': 430}),\n",
       " 'Latin': defaultdict(int,\n",
       "             {'Beef': 599,\n",
       "              'Lamb': 115,\n",
       "              'Pork': 865,\n",
       "              'Poultry': 1722,\n",
       "              'Seafood': 1822}),\n",
       " 'Middle Eastern': defaultdict(int,\n",
       "             {'Beef': 213,\n",
       "              'Lamb': 642,\n",
       "              'Pork': 188,\n",
       "              'Poultry': 817,\n",
       "              'Seafood': 1959}),\n",
       " 'West European': defaultdict(int,\n",
       "             {'Beef': 1491,\n",
       "              'Lamb': 724,\n",
       "              'Pork': 1924,\n",
       "              'Poultry': 2766,\n",
       "              'Seafood': 3948})}"
      ]
     },
     "execution_count": 74,
     "metadata": {},
     "output_type": "execute_result"
    }
   ],
   "source": []
  },
  {
   "cell_type": "markdown",
   "metadata": {},
   "source": [
    "# Spices and Herbs"
   ]
  },
  {
   "cell_type": "code",
   "execution_count": 636,
   "metadata": {
    "collapsed": true
   },
   "outputs": [],
   "source": [
    "seasonings = ['anise','basil','caraway','cilantro','coriander','chamomile',\n",
    "              'dill','fennel_seeds','lavender','lemon_grass','marjoram','oregano',\n",
    "              'parsley','rosemary','sage','thyme','paprika','cayenne','ginger',\n",
    "              'cumin','turmeric','mint','pepper','salt','lemongrass',\n",
    "              'cinnamon','allspice','chili_powder','cloves','peppercorns','asafoetida',\n",
    "              'cardamom','celery_salt','fenugreek','garlic','mace','mustard_seeds',\n",
    "              'mustard','nutmeg','saffron','tamarind','vanilla','wasabi','bay_leaf',\n",
    "              'chives','lavender','tarragon','miso','ancho_chile','anaheim',\n",
    "              'chipotle','habanero','jalapeno','jalapeño','pasilla','pepper_flakes',\n",
    "              'serrano','adobo','chai','citrus','harissa','walnut','walnuts','peanuts','peanut',\n",
    "              'za\\'atar','chia','nutritional_yeast','sumac','shiso','almond','almonds',\n",
    "              'curry_powder','garam_masala','kosher_salt','sesame_seeds','vanilla_extract',\n",
    "             'cajun_seasoning','jerk_seasoning','mole','mulling','pumpkin_pie','mesquite',\n",
    "             'tandoori','taco_seasoning','sriracha','allspice_berries','arrowroot','chipotle_chile',\n",
    "             'cumin_seeds','curry_leaf','dill_weed','horseradish','pickling_spice','vanilla_bean',\n",
    "             'lemon_juice','orange_juice','cashew','cashews','sesame','sesame_seeds',\n",
    "             'lemon_peel','orange_peel','lemon_zest','orange_zest']"
   ]
  },
  {
   "cell_type": "code",
   "execution_count": 637,
   "metadata": {
    "collapsed": true
   },
   "outputs": [],
   "source": [
    "seasonings = [s for s in seasonings if s in word_corpus]\n",
    "seasonings = sorted(seasonings)"
   ]
  },
  {
   "cell_type": "code",
   "execution_count": 638,
   "metadata": {
    "collapsed": true
   },
   "outputs": [],
   "source": [
    "# for each cuisine calculate the probability of a seasoning occuring relative to all the other seasoning\n",
    "season_probs = {}\n",
    "for c_tag in cuisine_tags:\n",
    "    temp_seas_dict = {m:cuisine_dictionaries[c_tag][m] for m in seasonings if m in cuisine_dictionaries[c_tag].keys()}\n",
    "    temp_total_seas = sum(temp_seas_dict.values())\n",
    "    temp_seas_dict = {m:(temp_seas_dict[m]/temp_total_seas) for m in temp_seas_dict.keys()}\n",
    "    season_probs[c_tag] = temp_seas_dict"
   ]
  },
  {
   "cell_type": "code",
   "execution_count": 639,
   "metadata": {},
   "outputs": [
    {
     "data": {
      "text/html": [
       "<div>\n",
       "<style>\n",
       "    .dataframe thead tr:only-child th {\n",
       "        text-align: right;\n",
       "    }\n",
       "\n",
       "    .dataframe thead th {\n",
       "        text-align: left;\n",
       "    }\n",
       "\n",
       "    .dataframe tbody tr th {\n",
       "        vertical-align: top;\n",
       "    }\n",
       "</style>\n",
       "<table border=\"1\" class=\"dataframe\">\n",
       "  <thead>\n",
       "    <tr style=\"text-align: right;\">\n",
       "      <th></th>\n",
       "      <th>African</th>\n",
       "      <th>American</th>\n",
       "      <th>Asian</th>\n",
       "      <th>Dessert</th>\n",
       "      <th>East European</th>\n",
       "      <th>Jewish</th>\n",
       "      <th>Latin</th>\n",
       "      <th>Middle Eastern</th>\n",
       "      <th>West European</th>\n",
       "    </tr>\n",
       "  </thead>\n",
       "  <tbody>\n",
       "    <tr>\n",
       "      <th>adobo</th>\n",
       "      <td>NaN</td>\n",
       "      <td>0.004071</td>\n",
       "      <td>0.000709</td>\n",
       "      <td>NaN</td>\n",
       "      <td>NaN</td>\n",
       "      <td>NaN</td>\n",
       "      <td>0.011683</td>\n",
       "      <td>0.000553</td>\n",
       "      <td>0.000188</td>\n",
       "    </tr>\n",
       "    <tr>\n",
       "      <th>allspice</th>\n",
       "      <td>0.008240</td>\n",
       "      <td>0.007810</td>\n",
       "      <td>0.002979</td>\n",
       "      <td>0.010585</td>\n",
       "      <td>0.010945</td>\n",
       "      <td>0.007006</td>\n",
       "      <td>0.006469</td>\n",
       "      <td>0.003081</td>\n",
       "      <td>0.005500</td>\n",
       "    </tr>\n",
       "    <tr>\n",
       "      <th>allspice_berries</th>\n",
       "      <td>0.000175</td>\n",
       "      <td>0.000249</td>\n",
       "      <td>0.000426</td>\n",
       "      <td>0.000376</td>\n",
       "      <td>0.001152</td>\n",
       "      <td>0.000568</td>\n",
       "      <td>0.000869</td>\n",
       "      <td>NaN</td>\n",
       "      <td>0.000875</td>\n",
       "    </tr>\n",
       "    <tr>\n",
       "      <th>almond</th>\n",
       "      <td>0.001578</td>\n",
       "      <td>0.000083</td>\n",
       "      <td>0.000993</td>\n",
       "      <td>0.038738</td>\n",
       "      <td>0.002304</td>\n",
       "      <td>0.003787</td>\n",
       "      <td>0.000966</td>\n",
       "      <td>0.001422</td>\n",
       "      <td>0.001188</td>\n",
       "    </tr>\n",
       "    <tr>\n",
       "      <th>almonds</th>\n",
       "      <td>0.025070</td>\n",
       "      <td>0.004071</td>\n",
       "      <td>0.003760</td>\n",
       "      <td>0.049592</td>\n",
       "      <td>0.006336</td>\n",
       "      <td>0.020261</td>\n",
       "      <td>0.009462</td>\n",
       "      <td>0.010270</td>\n",
       "      <td>0.004750</td>\n",
       "    </tr>\n",
       "  </tbody>\n",
       "</table>\n",
       "</div>"
      ],
      "text/plain": [
       "                   African  American     Asian   Dessert  East European  \\\n",
       "adobo                  NaN  0.004071  0.000709       NaN            NaN   \n",
       "allspice          0.008240  0.007810  0.002979  0.010585       0.010945   \n",
       "allspice_berries  0.000175  0.000249  0.000426  0.000376       0.001152   \n",
       "almond            0.001578  0.000083  0.000993  0.038738       0.002304   \n",
       "almonds           0.025070  0.004071  0.003760  0.049592       0.006336   \n",
       "\n",
       "                    Jewish     Latin  Middle Eastern  West European  \n",
       "adobo                  NaN  0.011683        0.000553       0.000188  \n",
       "allspice          0.007006  0.006469        0.003081       0.005500  \n",
       "allspice_berries  0.000568  0.000869             NaN       0.000875  \n",
       "almond            0.003787  0.000966        0.001422       0.001188  \n",
       "almonds           0.020261  0.009462        0.010270       0.004750  "
      ]
     },
     "execution_count": 639,
     "metadata": {},
     "output_type": "execute_result"
    }
   ],
   "source": [
    "df_seas_probs = pd.DataFrame.from_dict(season_probs, orient='columns')\n",
    "df_seas_probs.head()"
   ]
  },
  {
   "cell_type": "code",
   "execution_count": 1,
   "metadata": {},
   "outputs": [
    {
     "ename": "NameError",
     "evalue": "name 'df_seas_probs' is not defined",
     "output_type": "error",
     "traceback": [
      "\u001b[0;31m---------------------------------------------------------------------------\u001b[0m",
      "\u001b[0;31mNameError\u001b[0m                                 Traceback (most recent call last)",
      "\u001b[0;32m<ipython-input-1-d3307f452479>\u001b[0m in \u001b[0;36m<module>\u001b[0;34m()\u001b[0m\n\u001b[0;32m----> 1\u001b[0;31m \u001b[0mdf_seas_probs\u001b[0m\u001b[0;34m[\u001b[0m\u001b[0;34m'basil'\u001b[0m\u001b[0;34m]\u001b[0m\u001b[0;34m\u001b[0m\u001b[0m\n\u001b[0m",
      "\u001b[0;31mNameError\u001b[0m: name 'df_seas_probs' is not defined"
     ]
    }
   ],
   "source": [
    "df_seas_probs['basil']"
   ]
  },
  {
   "cell_type": "markdown",
   "metadata": {
    "heading_collapsed": true
   },
   "source": [
    "## Seasonings probs relative to all cuisine words"
   ]
  },
  {
   "cell_type": "code",
   "execution_count": 363,
   "metadata": {
    "collapsed": true,
    "hidden": true
   },
   "outputs": [],
   "source": [
    "# df_seasonings: seasoning, each cuisine's probability\n",
    "seasonings_list = []\n",
    "for s in seasonings:\n",
    "    temp_tag_list = tag_corpus[s]\n",
    "    temp_tag_list = sorted(temp_tag_list, key=(lambda x: x[1]))\n",
    "#     temp_tag_list = [t[0] for t in temp_tag_list]\n",
    "    temp_row = [s] + temp_tag_list\n",
    "    seasonings_list.append(temp_row)"
   ]
  },
  {
   "cell_type": "code",
   "execution_count": 369,
   "metadata": {
    "collapsed": true,
    "hidden": true
   },
   "outputs": [],
   "source": [
    "df_seasonings_dict = {row[0]:{x[1]:x[0] for x in row[1:]} for row in seasonings_list}"
   ]
  },
  {
   "cell_type": "code",
   "execution_count": 377,
   "metadata": {
    "hidden": true
   },
   "outputs": [
    {
     "data": {
      "text/html": [
       "<div>\n",
       "<style>\n",
       "    .dataframe thead tr:only-child th {\n",
       "        text-align: right;\n",
       "    }\n",
       "\n",
       "    .dataframe thead th {\n",
       "        text-align: left;\n",
       "    }\n",
       "\n",
       "    .dataframe tbody tr th {\n",
       "        vertical-align: top;\n",
       "    }\n",
       "</style>\n",
       "<table border=\"1\" class=\"dataframe\">\n",
       "  <thead>\n",
       "    <tr style=\"text-align: right;\">\n",
       "      <th></th>\n",
       "      <th>American</th>\n",
       "      <th>Asian</th>\n",
       "      <th>Latin</th>\n",
       "      <th>Middle Eastern</th>\n",
       "      <th>West European</th>\n",
       "      <th>African</th>\n",
       "      <th>Dessert</th>\n",
       "      <th>East European</th>\n",
       "      <th>Jewish</th>\n",
       "    </tr>\n",
       "  </thead>\n",
       "  <tbody>\n",
       "    <tr>\n",
       "      <th>adobo</th>\n",
       "      <td>0.000219</td>\n",
       "      <td>0.000057</td>\n",
       "      <td>0.000867</td>\n",
       "      <td>0.000044</td>\n",
       "      <td>0.000010</td>\n",
       "      <td>NaN</td>\n",
       "      <td>NaN</td>\n",
       "      <td>NaN</td>\n",
       "      <td>NaN</td>\n",
       "    </tr>\n",
       "    <tr>\n",
       "      <th>allspice</th>\n",
       "      <td>0.000420</td>\n",
       "      <td>0.000240</td>\n",
       "      <td>0.000480</td>\n",
       "      <td>0.000248</td>\n",
       "      <td>0.000298</td>\n",
       "      <td>0.000963</td>\n",
       "      <td>0.000427</td>\n",
       "      <td>0.000507</td>\n",
       "      <td>0.000425</td>\n",
       "    </tr>\n",
       "    <tr>\n",
       "      <th>allspice_berries</th>\n",
       "      <td>0.000013</td>\n",
       "      <td>0.000034</td>\n",
       "      <td>0.000064</td>\n",
       "      <td>NaN</td>\n",
       "      <td>0.000047</td>\n",
       "      <td>0.000020</td>\n",
       "      <td>0.000015</td>\n",
       "      <td>0.000053</td>\n",
       "      <td>0.000034</td>\n",
       "    </tr>\n",
       "    <tr>\n",
       "      <th>anaheim</th>\n",
       "      <td>0.000018</td>\n",
       "      <td>0.000017</td>\n",
       "      <td>0.000150</td>\n",
       "      <td>0.000013</td>\n",
       "      <td>NaN</td>\n",
       "      <td>NaN</td>\n",
       "      <td>NaN</td>\n",
       "      <td>NaN</td>\n",
       "      <td>0.000011</td>\n",
       "    </tr>\n",
       "    <tr>\n",
       "      <th>ancho_chile</th>\n",
       "      <td>0.000031</td>\n",
       "      <td>0.000006</td>\n",
       "      <td>0.000294</td>\n",
       "      <td>0.000019</td>\n",
       "      <td>0.000003</td>\n",
       "      <td>NaN</td>\n",
       "      <td>0.000009</td>\n",
       "      <td>NaN</td>\n",
       "      <td>NaN</td>\n",
       "    </tr>\n",
       "  </tbody>\n",
       "</table>\n",
       "</div>"
      ],
      "text/plain": [
       "                  American     Asian     Latin  Middle Eastern  West European  \\\n",
       "adobo             0.000219  0.000057  0.000867        0.000044       0.000010   \n",
       "allspice          0.000420  0.000240  0.000480        0.000248       0.000298   \n",
       "allspice_berries  0.000013  0.000034  0.000064             NaN       0.000047   \n",
       "anaheim           0.000018  0.000017  0.000150        0.000013            NaN   \n",
       "ancho_chile       0.000031  0.000006  0.000294        0.000019       0.000003   \n",
       "\n",
       "                   African   Dessert  East European    Jewish  \n",
       "adobo                  NaN       NaN            NaN       NaN  \n",
       "allspice          0.000963  0.000427       0.000507  0.000425  \n",
       "allspice_berries  0.000020  0.000015       0.000053  0.000034  \n",
       "anaheim                NaN       NaN            NaN  0.000011  \n",
       "ancho_chile            NaN  0.000009            NaN       NaN  "
      ]
     },
     "execution_count": 377,
     "metadata": {},
     "output_type": "execute_result"
    }
   ],
   "source": [
    "df_seasonings_probs = pd.DataFrame.from_dict(df_seasonings_dict, orient='index')\n",
    "df_seasonings_probs.head()"
   ]
  },
  {
   "cell_type": "markdown",
   "metadata": {
    "heading_collapsed": true
   },
   "source": [
    "## cuisine herb counts"
   ]
  },
  {
   "cell_type": "code",
   "execution_count": 82,
   "metadata": {
    "collapsed": true,
    "hidden": true
   },
   "outputs": [],
   "source": [
    "cuisine_herbs = {}\n",
    "for c_tag in cuisine_tags:\n",
    "    temp_herbs_list = list(set(cuisine_dictionaries[c_tag].keys()).intersection(set(herb_spices)))\n",
    "    temp_herb_dict = defaultdict(int)\n",
    "    for herb in temp_herbs_list:\n",
    "        temp_herb_dict[herb] += cuisine_dictionaries[c_tag][herb]\n",
    "        \n",
    "    cuisine_herbs[c_tag] = temp_herb_dict"
   ]
  },
  {
   "cell_type": "code",
   "execution_count": 115,
   "metadata": {
    "hidden": true
   },
   "outputs": [
    {
     "name": "stdout",
     "output_type": "stream",
     "text": [
      "African \n",
      " [('pepper', 1093), ('garlic', 810), ('lemon', 554), ('cumin', 483), ('salt', 455), ('cloves', 325), ('parsley', 286), ('coriander', 232), ('cinnamon', 222), ('cilantro', 221)]\n",
      "American \n",
      " [('pepper', 4585), ('garlic', 2091), ('salt', 1711), ('lemon', 973), ('mustard', 965), ('parsley', 835), ('thyme', 730), ('cloves', 709), ('celery', 600), ('basil', 413)]\n",
      "Asian \n",
      " [('pepper', 2528), ('garlic', 1953), ('ginger', 1680), ('salt', 1025), ('cilantro', 982), ('cloves', 675), ('lemon', 628), ('cumin', 380), ('mint', 379), ('coriander', 370)]\n",
      "Dessert \n",
      " [('vanilla', 4054), ('lemon', 2980), ('salt', 2356), ('cinnamon', 1878), ('ginger', 1196), ('mint', 696), ('nutmeg', 528), ('cloves', 371), ('cardamom', 328), ('pepper', 256)]\n",
      "East European \n",
      " [('pepper', 603), ('salt', 304), ('mustard', 197), ('garlic', 169), ('lemon', 144), ('celery', 136), ('parsley', 120), ('dill', 120), ('thyme', 101), ('sage', 97)]\n",
      "Jewish \n",
      " [('pepper', 1663), ('garlic', 854), ('salt', 777), ('lemon', 708), ('thyme', 447), ('parsley', 431), ('celery', 373), ('cloves', 299), ('mustard', 240), ('rosemary', 235)]\n",
      "Latin \n",
      " [('pepper', 2424), ('garlic', 1864), ('cilantro', 1241), ('salt', 1008), ('cloves', 691), ('cumin', 606), ('chili', 580), ('jalapeño', 472), ('lemon', 463), ('oregano', 349)]\n",
      "Middle Eastern \n",
      " [('pepper', 3605), ('garlic', 2345), ('lemon', 2149), ('parsley', 1031), ('salt', 999), ('basil', 791), ('fennel', 658), ('cloves', 655), ('mint', 551), ('mustard', 403)]\n",
      "West European \n",
      " [('pepper', 5501), ('garlic', 2955), ('salt', 1763), ('lemon', 1660), ('parsley', 1485), ('thyme', 1184), ('cloves', 920), ('mustard', 897), ('rosemary', 783), ('fennel', 698)]\n"
     ]
    }
   ],
   "source": [
    "for c_tag in cuisine_tags:\n",
    "    c = Counter(cuisine_herbs[c_tag]).most_common(10)\n",
    "    print(c_tag, '\\n', c)"
   ]
  },
  {
   "cell_type": "markdown",
   "metadata": {
    "heading_collapsed": true
   },
   "source": [
    "# Condiments"
   ]
  },
  {
   "cell_type": "code",
   "execution_count": 561,
   "metadata": {
    "collapsed": true,
    "hidden": true
   },
   "outputs": [],
   "source": [
    "condiments = ['sriracha','horseradish','tabasco','aioli','anchovy_paste','barbecue_sauce',\n",
    "             'butter','chili_sauce','chimichurri','chutney','cocktail_sauce',\n",
    "             'compote','garlic_sauce','gochujang',\n",
    "             'honey','guacamole','ketchup','maple_syrup','mayonnaise','mignonette_sauce',\n",
    "             'mignonette','mustard','dijon_mustard','mostarda','nutella','olive_oil',\n",
    "             'peanut_butter','pepper_jelly','pesto','pickle','pickled','pico','relish',\n",
    "             'remoulade','salad_dressing','salsa','sambal','sesame_oil','soy_sauce',\n",
    "             'steak_sauce','syrup','tartar_sauce','teriyaki_sauce','vinegar',\n",
    "             'balsamic_vinegar','balsamic','tomato_sauce','tomato_paste',\n",
    "             'worcestershire','bean_paste','oyster_sauce','peanut_sauce','tzatziki',\n",
    "             'raita','dashi','rice_vinegar','miso','mirin','shiso','wasabi','kimchi']\n",
    "condiments_plu = [c+'s' for c in condiments if c+'s' in model_wv]"
   ]
  },
  {
   "cell_type": "code",
   "execution_count": 562,
   "metadata": {
    "collapsed": true,
    "hidden": true
   },
   "outputs": [],
   "source": [
    "all_condiments = condiments+condiments_plu"
   ]
  },
  {
   "cell_type": "code",
   "execution_count": 564,
   "metadata": {
    "collapsed": true,
    "hidden": true
   },
   "outputs": [],
   "source": [
    "# for each cuisine calculate the probability of a condimenting occuring relative to all the other condimenting\n",
    "condiment_probs = {}\n",
    "for c_tag in cuisine_tags:\n",
    "    temp_cond_dict = {m:cuisine_dictionaries[c_tag][m] for m in all_condiments if m in cuisine_dictionaries[c_tag].keys()}\n",
    "    temp_total_cond = sum(temp_cond_dict.values())\n",
    "    temp_cond_dict = {m:(temp_cond_dict[m]/temp_total_cond) for m in temp_cond_dict.keys()}\n",
    "    condiment_probs[c_tag] = temp_cond_dict\n",
    "    \n"
   ]
  },
  {
   "cell_type": "code",
   "execution_count": 565,
   "metadata": {
    "hidden": true
   },
   "outputs": [
    {
     "data": {
      "text/html": [
       "<div>\n",
       "<style>\n",
       "    .dataframe thead tr:only-child th {\n",
       "        text-align: right;\n",
       "    }\n",
       "\n",
       "    .dataframe thead th {\n",
       "        text-align: left;\n",
       "    }\n",
       "\n",
       "    .dataframe tbody tr th {\n",
       "        vertical-align: top;\n",
       "    }\n",
       "</style>\n",
       "<table border=\"1\" class=\"dataframe\">\n",
       "  <thead>\n",
       "    <tr style=\"text-align: right;\">\n",
       "      <th></th>\n",
       "      <th>African</th>\n",
       "      <th>American</th>\n",
       "      <th>Asian</th>\n",
       "      <th>Dessert</th>\n",
       "      <th>East European</th>\n",
       "      <th>Jewish</th>\n",
       "      <th>Latin</th>\n",
       "      <th>Middle Eastern</th>\n",
       "      <th>West European</th>\n",
       "    </tr>\n",
       "  </thead>\n",
       "  <tbody>\n",
       "    <tr>\n",
       "      <th>aioli</th>\n",
       "      <td>0.001335</td>\n",
       "      <td>0.001789</td>\n",
       "      <td>0.000704</td>\n",
       "      <td>NaN</td>\n",
       "      <td>NaN</td>\n",
       "      <td>0.004005</td>\n",
       "      <td>0.001420</td>\n",
       "      <td>0.004208</td>\n",
       "      <td>0.001208</td>\n",
       "    </tr>\n",
       "    <tr>\n",
       "      <th>anchovy_paste</th>\n",
       "      <td>0.002670</td>\n",
       "      <td>0.001312</td>\n",
       "      <td>0.000563</td>\n",
       "      <td>NaN</td>\n",
       "      <td>NaN</td>\n",
       "      <td>0.000924</td>\n",
       "      <td>0.000710</td>\n",
       "      <td>0.004693</td>\n",
       "      <td>0.002230</td>\n",
       "    </tr>\n",
       "    <tr>\n",
       "      <th>balsamic</th>\n",
       "      <td>0.008011</td>\n",
       "      <td>0.010614</td>\n",
       "      <td>0.005488</td>\n",
       "      <td>0.005870</td>\n",
       "      <td>0.003966</td>\n",
       "      <td>0.016636</td>\n",
       "      <td>0.007101</td>\n",
       "      <td>0.037223</td>\n",
       "      <td>0.027685</td>\n",
       "    </tr>\n",
       "    <tr>\n",
       "      <th>balsamic_vinegar</th>\n",
       "      <td>0.008011</td>\n",
       "      <td>0.009064</td>\n",
       "      <td>0.005065</td>\n",
       "      <td>0.003555</td>\n",
       "      <td>0.003305</td>\n",
       "      <td>0.015404</td>\n",
       "      <td>0.006864</td>\n",
       "      <td>0.032368</td>\n",
       "      <td>0.022111</td>\n",
       "    </tr>\n",
       "    <tr>\n",
       "      <th>barbecue_sauce</th>\n",
       "      <td>NaN</td>\n",
       "      <td>0.016458</td>\n",
       "      <td>0.001829</td>\n",
       "      <td>NaN</td>\n",
       "      <td>0.005288</td>\n",
       "      <td>NaN</td>\n",
       "      <td>0.003077</td>\n",
       "      <td>NaN</td>\n",
       "      <td>0.000093</td>\n",
       "    </tr>\n",
       "    <tr>\n",
       "      <th>bean_paste</th>\n",
       "      <td>NaN</td>\n",
       "      <td>0.000358</td>\n",
       "      <td>0.001970</td>\n",
       "      <td>0.000083</td>\n",
       "      <td>NaN</td>\n",
       "      <td>NaN</td>\n",
       "      <td>0.001183</td>\n",
       "      <td>NaN</td>\n",
       "      <td>0.000093</td>\n",
       "    </tr>\n",
       "    <tr>\n",
       "      <th>butter</th>\n",
       "      <td>0.217623</td>\n",
       "      <td>0.271676</td>\n",
       "      <td>0.089349</td>\n",
       "      <td>0.593468</td>\n",
       "      <td>0.416391</td>\n",
       "      <td>0.305607</td>\n",
       "      <td>0.106746</td>\n",
       "      <td>0.064088</td>\n",
       "      <td>0.373281</td>\n",
       "    </tr>\n",
       "    <tr>\n",
       "      <th>butters</th>\n",
       "      <td>NaN</td>\n",
       "      <td>0.000239</td>\n",
       "      <td>NaN</td>\n",
       "      <td>NaN</td>\n",
       "      <td>NaN</td>\n",
       "      <td>NaN</td>\n",
       "      <td>NaN</td>\n",
       "      <td>NaN</td>\n",
       "      <td>NaN</td>\n",
       "    </tr>\n",
       "    <tr>\n",
       "      <th>chili_sauce</th>\n",
       "      <td>NaN</td>\n",
       "      <td>0.006917</td>\n",
       "      <td>0.007035</td>\n",
       "      <td>NaN</td>\n",
       "      <td>0.002644</td>\n",
       "      <td>NaN</td>\n",
       "      <td>0.005917</td>\n",
       "      <td>0.000324</td>\n",
       "      <td>0.000093</td>\n",
       "    </tr>\n",
       "    <tr>\n",
       "      <th>chimichurri</th>\n",
       "      <td>NaN</td>\n",
       "      <td>0.000596</td>\n",
       "      <td>NaN</td>\n",
       "      <td>NaN</td>\n",
       "      <td>NaN</td>\n",
       "      <td>NaN</td>\n",
       "      <td>0.011124</td>\n",
       "      <td>NaN</td>\n",
       "      <td>0.000186</td>\n",
       "    </tr>\n",
       "  </tbody>\n",
       "</table>\n",
       "</div>"
      ],
      "text/plain": [
       "                   African  American     Asian   Dessert  East European  \\\n",
       "aioli             0.001335  0.001789  0.000704       NaN            NaN   \n",
       "anchovy_paste     0.002670  0.001312  0.000563       NaN            NaN   \n",
       "balsamic          0.008011  0.010614  0.005488  0.005870       0.003966   \n",
       "balsamic_vinegar  0.008011  0.009064  0.005065  0.003555       0.003305   \n",
       "barbecue_sauce         NaN  0.016458  0.001829       NaN       0.005288   \n",
       "bean_paste             NaN  0.000358  0.001970  0.000083            NaN   \n",
       "butter            0.217623  0.271676  0.089349  0.593468       0.416391   \n",
       "butters                NaN  0.000239       NaN       NaN            NaN   \n",
       "chili_sauce            NaN  0.006917  0.007035       NaN       0.002644   \n",
       "chimichurri            NaN  0.000596       NaN       NaN            NaN   \n",
       "\n",
       "                    Jewish     Latin  Middle Eastern  West European  \n",
       "aioli             0.004005  0.001420        0.004208       0.001208  \n",
       "anchovy_paste     0.000924  0.000710        0.004693       0.002230  \n",
       "balsamic          0.016636  0.007101        0.037223       0.027685  \n",
       "balsamic_vinegar  0.015404  0.006864        0.032368       0.022111  \n",
       "barbecue_sauce         NaN  0.003077             NaN       0.000093  \n",
       "bean_paste             NaN  0.001183             NaN       0.000093  \n",
       "butter            0.305607  0.106746        0.064088       0.373281  \n",
       "butters                NaN       NaN             NaN            NaN  \n",
       "chili_sauce            NaN  0.005917        0.000324       0.000093  \n",
       "chimichurri            NaN  0.011124             NaN       0.000186  "
      ]
     },
     "execution_count": 565,
     "metadata": {},
     "output_type": "execute_result"
    }
   ],
   "source": [
    "df_cond_probs = pd.DataFrame.from_dict(condiment_probs, orient='columns')\n",
    "df_cond_probs.head(10)"
   ]
  },
  {
   "cell_type": "code",
   "execution_count": null,
   "metadata": {
    "collapsed": true,
    "hidden": true
   },
   "outputs": [],
   "source": []
  },
  {
   "cell_type": "markdown",
   "metadata": {
    "heading_collapsed": true,
    "hidden": true
   },
   "source": [
    "## spiciness..."
   ]
  },
  {
   "cell_type": "code",
   "execution_count": 108,
   "metadata": {
    "collapsed": true,
    "hidden": true
   },
   "outputs": [],
   "source": [
    "cuisine_spice = {}\n",
    "for c_tag in cuisine_tags:\n",
    "    temp_spice_list = list(set(cuisine_dictionaries[c_tag].keys()).intersection(set(spicy)))\n",
    "    temp_spice_dict = defaultdict(int)\n",
    "    for spice in temp_spice_list:\n",
    "        temp_spice_dict[spice] += cuisine_dictionaries[c_tag][spice]\n",
    "        \n",
    "    cuisine_spice[c_tag] = temp_spice_dict"
   ]
  },
  {
   "cell_type": "code",
   "execution_count": 112,
   "metadata": {
    "hidden": true
   },
   "outputs": [
    {
     "name": "stdout",
     "output_type": "stream",
     "text": [
      "African \n",
      " [('cayenne', 160), ('peppercorns', 52), ('harissa', 36), ('chili', 35), ('jalapeño', 16), ('aleppo', 11), ('ancho', 8), ('chipotle', 8), ('baharat', 4), ('pimiento', 4), ('serrano', 3), ('habanero', 2), ('tabasco', 1), ('fresno', 1), ('adobo', 1)]\n",
      "American \n",
      " [('chili', 392), ('cayenne', 338), ('peppercorns', 190), ('horseradish', 157), ('jalapeño', 150), ('chipotle', 104), ('tabasco', 95), ('adobo', 46), ('ancho', 25), ('serrano', 23), ('wasabi', 20), ('pimiento', 20), ('poblano', 16), ('sriracha', 15), ('habanero', 7), ('aleppo', 6), ('fresno', 5), ('baharat', 4), ('anaheim', 4), ('peppadew', 3), ('harissa', 3), ('capsicum', 2), ('szechuan', 2), ('jerk', 2), ('piquillo', 1)]\n",
      "Asian \n",
      " [('chili', 350), ('cayenne', 231), ('jalapeño', 226), ('peppercorns', 136), ('wasabi', 124), ('serrano', 105), ('sriracha', 54), ('tabasco', 36), ('horseradish', 30), ('chipotle', 19), ('szechuan', 15), ('fresno', 14), ('poblano', 11), ('adobo', 8), ('habanero', 6), ('harissa', 4), ('jerk', 3), ('anaheim', 3), ('ancho', 3), ('aleppo', 3), ('pasilla', 2), ('baharat', 2), ('peppadew', 1), ('jalapeno', 1), ('pimiento', 1)]\n",
      "Dessert \n",
      " [('peppercorns', 46), ('cayenne', 38), ('jalapeño', 21), ('chili', 15), ('chipotle', 7), ('horseradish', 6), ('ancho', 5), ('szechuan', 4), ('aleppo', 3), ('sriracha', 2), ('serrano', 2), ('tabasco', 1), ('fresno', 1), ('pasilla', 1)]\n",
      "East European \n",
      " [('horseradish', 93), ('cayenne', 20), ('peppercorns', 17), ('chili', 4), ('tabasco', 4), ('harissa', 3), ('aleppo', 3), ('sriracha', 2), ('fresno', 1), ('jalapeño', 1)]\n",
      "Jewish \n",
      " [('horseradish', 141), ('cayenne', 71), ('peppercorns', 58), ('chili', 14), ('jalapeño', 7), ('serrano', 7), ('ancho', 5), ('tabasco', 3), ('piquillo', 3), ('fresno', 2), ('harissa', 2), ('aleppo', 2), ('anaheim', 1), ('poblano', 1), ('sriracha', 1), ('pasilla', 1), ('pimiento', 1)]\n",
      "Latin \n",
      " [('chili', 580), ('jalapeño', 472), ('chipotle', 321), ('cayenne', 164), ('poblano', 161), ('serrano', 156), ('ancho', 145), ('adobo', 125), ('peppercorns', 86), ('habanero', 49), ('fresno', 44), ('pasilla', 40), ('tabasco', 26), ('pimiento', 23), ('harissa', 21), ('anaheim', 20), ('aleppo', 12), ('jerk', 10), ('piquillo', 9), ('horseradish', 9), ('sriracha', 6), ('jalapeno', 4), ('wasabi', 2), ('szechuan', 1)]\n",
      "Middle Eastern \n",
      " [('cayenne', 111), ('jalapeño', 37), ('horseradish', 36), ('peppercorns', 33), ('chili', 25), ('harissa', 19), ('pimiento', 19), ('aleppo', 14), ('chipotle', 13), ('poblano', 12), ('tabasco', 12), ('serrano', 10), ('adobo', 7), ('baharat', 5), ('ancho', 4), ('sriracha', 3), ('wasabi', 3), ('anaheim', 2)]\n",
      "West European \n",
      " [('peppercorns', 185), ('horseradish', 147), ('cayenne', 113), ('tabasco', 28), ('serrano', 21), ('chili', 20), ('jalapeño', 18), ('pimiento', 11), ('berbere', 7), ('aleppo', 6), ('chipotle', 6), ('ancho', 4), ('harissa', 4), ('wasabi', 3), ('peppadew', 2), ('adobo', 2), ('capsicum', 2), ('jerk', 2), ('poblano', 2), ('sriracha', 2), ('fresno', 2)]\n"
     ]
    }
   ],
   "source": [
    "for c_tag in cuisine_tags:\n",
    "    c = Counter(cuisine_spice[c_tag]).most_common()\n",
    "    print(c_tag, '\\n', c)"
   ]
  },
  {
   "cell_type": "markdown",
   "metadata": {
    "heading_collapsed": true
   },
   "source": [
    "# Base Ingredients"
   ]
  },
  {
   "cell_type": "code",
   "execution_count": 578,
   "metadata": {
    "collapsed": true,
    "hidden": true
   },
   "outputs": [],
   "source": [
    "bases = ['salt','pepper','oil','canola','olive_oil','flour','wheat_flour',\n",
    "        'butter','sugar','brown_sugar','baking_soda','baking_powder',\n",
    "        'stock','broth','granulated_sugar','cornstarch','chicken_broth',\n",
    "        'shortening','beef_broth']"
   ]
  },
  {
   "cell_type": "code",
   "execution_count": 579,
   "metadata": {
    "collapsed": true,
    "hidden": true
   },
   "outputs": [],
   "source": [
    "for b in bases:\n",
    "    if b not in model_wv:\n",
    "        print(b)"
   ]
  },
  {
   "cell_type": "code",
   "execution_count": null,
   "metadata": {
    "collapsed": true,
    "hidden": true
   },
   "outputs": [],
   "source": []
  },
  {
   "cell_type": "code",
   "execution_count": null,
   "metadata": {
    "collapsed": true,
    "hidden": true
   },
   "outputs": [],
   "source": []
  },
  {
   "cell_type": "code",
   "execution_count": null,
   "metadata": {
    "collapsed": true,
    "hidden": true
   },
   "outputs": [],
   "source": []
  },
  {
   "cell_type": "code",
   "execution_count": null,
   "metadata": {
    "collapsed": true,
    "hidden": true
   },
   "outputs": [],
   "source": []
  },
  {
   "cell_type": "markdown",
   "metadata": {
    "heading_collapsed": true
   },
   "source": [
    "# Vegetables"
   ]
  },
  {
   "cell_type": "code",
   "execution_count": 598,
   "metadata": {
    "collapsed": true,
    "hidden": true
   },
   "outputs": [],
   "source": [
    "vegetables = ['avocado','artichoke','arugula','amaranth','beet_greens','bok_choy',\n",
    "              'broccoli','brussels_sprout','cabbage','carrot','cauliflower',\n",
    "              'corn','cucumber','celery','chard','collard_greens',\n",
    "              'endive','frisee','fennel','eggplant','kale','kohlrabi','lettuce',\n",
    "              'maize','mushroom','mustard_greens','nettles','okra','olive','onion',\n",
    "              'chives','garlic','leek','shallot','scallion','jalapeno',\n",
    "              'peppers','bell_pepper','pimento','capsicum','jalapeño',\n",
    "              'habanero','rhubarb','radish','wasabi','horseradish','spinach',\n",
    "              'bitter_melon','butternut_squash','courgette','zucchini','zucchini_squash',\n",
    "              'pumpkin','spaghetti_squash','turnip_greens','watercress',\n",
    "              'zucchini','pea','squash','sunflower_seed','tomato','asparagus',\n",
    "             'chanterelle','chanterelle_mushroom','cremini','morel','morel_mushroom','portobello',\n",
    "              'portobello_mushroom','enoki','shiitake','shiitake_mushroom','oyster_mushroom',\n",
    "             'porcini','porcini_mushroom','beetroot','beet','celeriac','daikon',\n",
    "              'parsnip','rutabaga','turnip','jicama','potato','sunchoke','sweet_potato','taro',\n",
    "              'yam','russet_potato','azuki_beans','bean_sprout','bean','chickpea','lentil',\n",
    "              'kidney_beans','garbanzo_bean','green_beans','soy_bean']\n"
   ]
  },
  {
   "cell_type": "code",
   "execution_count": 599,
   "metadata": {
    "collapsed": true,
    "hidden": true
   },
   "outputs": [],
   "source": [
    "vegetables_plu = [v+'s' for v in vegetables if v+'s' in model_wv]"
   ]
  },
  {
   "cell_type": "code",
   "execution_count": 600,
   "metadata": {
    "collapsed": true,
    "hidden": true
   },
   "outputs": [],
   "source": [
    "all_veg = vegetables+vegetables_plu"
   ]
  },
  {
   "cell_type": "code",
   "execution_count": 601,
   "metadata": {
    "collapsed": true,
    "hidden": true
   },
   "outputs": [],
   "source": [
    "# for each cuisine calculate the probability of a veg occuring relative to all the other vegs\n",
    "veg_probs = {}\n",
    "for c_tag in cuisine_tags:\n",
    "    temp_veg_dict = {m:cuisine_dictionaries[c_tag][m] for m in all_veg if m in cuisine_dictionaries[c_tag].keys()}\n",
    "    temp_total_veg = sum(temp_veg_dict.values())\n",
    "    temp_veg_dict = {m:(temp_veg_dict[m]/temp_total_veg) for m in temp_veg_dict.keys()}\n",
    "    veg_probs[c_tag] = temp_veg_dict"
   ]
  },
  {
   "cell_type": "code",
   "execution_count": 602,
   "metadata": {
    "hidden": true
   },
   "outputs": [
    {
     "data": {
      "text/html": [
       "<div>\n",
       "<style>\n",
       "    .dataframe thead tr:only-child th {\n",
       "        text-align: right;\n",
       "    }\n",
       "\n",
       "    .dataframe thead th {\n",
       "        text-align: left;\n",
       "    }\n",
       "\n",
       "    .dataframe tbody tr th {\n",
       "        vertical-align: top;\n",
       "    }\n",
       "</style>\n",
       "<table border=\"1\" class=\"dataframe\">\n",
       "  <thead>\n",
       "    <tr style=\"text-align: right;\">\n",
       "      <th></th>\n",
       "      <th>African</th>\n",
       "      <th>American</th>\n",
       "      <th>Asian</th>\n",
       "      <th>Dessert</th>\n",
       "      <th>East European</th>\n",
       "      <th>Jewish</th>\n",
       "      <th>Latin</th>\n",
       "      <th>Middle Eastern</th>\n",
       "      <th>West European</th>\n",
       "    </tr>\n",
       "  </thead>\n",
       "  <tbody>\n",
       "    <tr>\n",
       "      <th>amaranth</th>\n",
       "      <td>0.000531</td>\n",
       "      <td>NaN</td>\n",
       "      <td>0.000226</td>\n",
       "      <td>0.002408</td>\n",
       "      <td>NaN</td>\n",
       "      <td>NaN</td>\n",
       "      <td>0.000259</td>\n",
       "      <td>0.000366</td>\n",
       "      <td>0.000089</td>\n",
       "    </tr>\n",
       "    <tr>\n",
       "      <th>artichoke</th>\n",
       "      <td>0.000531</td>\n",
       "      <td>0.001991</td>\n",
       "      <td>NaN</td>\n",
       "      <td>NaN</td>\n",
       "      <td>0.000363</td>\n",
       "      <td>0.005226</td>\n",
       "      <td>0.002331</td>\n",
       "      <td>0.012264</td>\n",
       "      <td>0.007603</td>\n",
       "    </tr>\n",
       "    <tr>\n",
       "      <th>artichokes</th>\n",
       "      <td>0.000531</td>\n",
       "      <td>0.002347</td>\n",
       "      <td>0.000151</td>\n",
       "      <td>NaN</td>\n",
       "      <td>0.000363</td>\n",
       "      <td>0.011122</td>\n",
       "      <td>0.001813</td>\n",
       "      <td>0.015741</td>\n",
       "      <td>0.008181</td>\n",
       "    </tr>\n",
       "    <tr>\n",
       "      <th>arugula</th>\n",
       "      <td>0.001857</td>\n",
       "      <td>0.009602</td>\n",
       "      <td>0.002787</td>\n",
       "      <td>0.002408</td>\n",
       "      <td>0.002179</td>\n",
       "      <td>0.005226</td>\n",
       "      <td>0.003366</td>\n",
       "      <td>0.024954</td>\n",
       "      <td>0.016361</td>\n",
       "    </tr>\n",
       "    <tr>\n",
       "      <th>asparagus</th>\n",
       "      <td>0.000531</td>\n",
       "      <td>0.003912</td>\n",
       "      <td>0.007983</td>\n",
       "      <td>0.001806</td>\n",
       "      <td>0.005084</td>\n",
       "      <td>0.012059</td>\n",
       "      <td>0.002331</td>\n",
       "      <td>0.008725</td>\n",
       "      <td>0.027121</td>\n",
       "    </tr>\n",
       "    <tr>\n",
       "      <th>avocado</th>\n",
       "      <td>0.000265</td>\n",
       "      <td>0.006472</td>\n",
       "      <td>0.007531</td>\n",
       "      <td>0.004816</td>\n",
       "      <td>0.000363</td>\n",
       "      <td>0.002546</td>\n",
       "      <td>0.037290</td>\n",
       "      <td>0.007077</td>\n",
       "      <td>0.000756</td>\n",
       "    </tr>\n",
       "    <tr>\n",
       "      <th>avocados</th>\n",
       "      <td>0.000531</td>\n",
       "      <td>0.001067</td>\n",
       "      <td>0.001356</td>\n",
       "      <td>0.001505</td>\n",
       "      <td>0.000726</td>\n",
       "      <td>0.001072</td>\n",
       "      <td>0.009236</td>\n",
       "      <td>0.001464</td>\n",
       "      <td>0.000667</td>\n",
       "    </tr>\n",
       "    <tr>\n",
       "      <th>bean</th>\n",
       "      <td>0.004775</td>\n",
       "      <td>0.006686</td>\n",
       "      <td>0.016945</td>\n",
       "      <td>0.218242</td>\n",
       "      <td>0.001816</td>\n",
       "      <td>0.001608</td>\n",
       "      <td>0.013466</td>\n",
       "      <td>0.007810</td>\n",
       "      <td>0.003068</td>\n",
       "    </tr>\n",
       "    <tr>\n",
       "      <th>bean_sprouts</th>\n",
       "      <td>NaN</td>\n",
       "      <td>0.000640</td>\n",
       "      <td>0.006929</td>\n",
       "      <td>NaN</td>\n",
       "      <td>NaN</td>\n",
       "      <td>NaN</td>\n",
       "      <td>0.000345</td>\n",
       "      <td>NaN</td>\n",
       "      <td>NaN</td>\n",
       "    </tr>\n",
       "    <tr>\n",
       "      <th>beans</th>\n",
       "      <td>0.036870</td>\n",
       "      <td>0.039260</td>\n",
       "      <td>0.025531</td>\n",
       "      <td>0.072848</td>\n",
       "      <td>0.009804</td>\n",
       "      <td>0.018625</td>\n",
       "      <td>0.057920</td>\n",
       "      <td>0.046431</td>\n",
       "      <td>0.024542</td>\n",
       "    </tr>\n",
       "  </tbody>\n",
       "</table>\n",
       "</div>"
      ],
      "text/plain": [
       "               African  American     Asian   Dessert  East European    Jewish  \\\n",
       "amaranth      0.000531       NaN  0.000226  0.002408            NaN       NaN   \n",
       "artichoke     0.000531  0.001991       NaN       NaN       0.000363  0.005226   \n",
       "artichokes    0.000531  0.002347  0.000151       NaN       0.000363  0.011122   \n",
       "arugula       0.001857  0.009602  0.002787  0.002408       0.002179  0.005226   \n",
       "asparagus     0.000531  0.003912  0.007983  0.001806       0.005084  0.012059   \n",
       "avocado       0.000265  0.006472  0.007531  0.004816       0.000363  0.002546   \n",
       "avocados      0.000531  0.001067  0.001356  0.001505       0.000726  0.001072   \n",
       "bean          0.004775  0.006686  0.016945  0.218242       0.001816  0.001608   \n",
       "bean_sprouts       NaN  0.000640  0.006929       NaN            NaN       NaN   \n",
       "beans         0.036870  0.039260  0.025531  0.072848       0.009804  0.018625   \n",
       "\n",
       "                 Latin  Middle Eastern  West European  \n",
       "amaranth      0.000259        0.000366       0.000089  \n",
       "artichoke     0.002331        0.012264       0.007603  \n",
       "artichokes    0.001813        0.015741       0.008181  \n",
       "arugula       0.003366        0.024954       0.016361  \n",
       "asparagus     0.002331        0.008725       0.027121  \n",
       "avocado       0.037290        0.007077       0.000756  \n",
       "avocados      0.009236        0.001464       0.000667  \n",
       "bean          0.013466        0.007810       0.003068  \n",
       "bean_sprouts  0.000345             NaN            NaN  \n",
       "beans         0.057920        0.046431       0.024542  "
      ]
     },
     "execution_count": 602,
     "metadata": {},
     "output_type": "execute_result"
    }
   ],
   "source": [
    "df_veg_probs = pd.DataFrame.from_dict(veg_probs, orient='columns')\n",
    "df_veg_probs.head(10)"
   ]
  },
  {
   "cell_type": "code",
   "execution_count": null,
   "metadata": {
    "collapsed": true,
    "hidden": true
   },
   "outputs": [],
   "source": []
  },
  {
   "cell_type": "markdown",
   "metadata": {
    "heading_collapsed": true,
    "hidden": true
   },
   "source": [
    "## veg probs relative to all cuisine words"
   ]
  },
  {
   "cell_type": "code",
   "execution_count": 124,
   "metadata": {
    "collapsed": true,
    "hidden": true
   },
   "outputs": [],
   "source": [
    "cuisine_veg = {}\n",
    "for c_tag in cuisine_tags:\n",
    "    temp_veg_list = list(set(cuisine_dictionaries[c_tag].keys()).intersection(set(vegetables)))\n",
    "    temp_veg_dict = defaultdict(int)\n",
    "    for veg in temp_veg_list:\n",
    "        temp_veg_dict[veg] += cuisine_dictionaries[c_tag][veg]\n",
    "        \n",
    "    cuisine_veg[c_tag] = temp_veg_dict"
   ]
  },
  {
   "cell_type": "code",
   "execution_count": 125,
   "metadata": {
    "hidden": true
   },
   "outputs": [
    {
     "name": "stdout",
     "output_type": "stream",
     "text": [
      "African \n",
      " [('olive', 594), ('onion', 395), ('carrots', 208), ('fennel', 147), ('squash', 147), ('ginger', 138), ('tomato', 105), ('peppers', 81), ('celery', 78), ('carrot', 61)]\n",
      "American \n",
      " [('onion', 1891), ('olive', 1178), ('corn', 679), ('celery', 600), ('tomato', 594), ('mushrooms', 487), ('peppers', 409), ('carrots', 321), ('potato', 264), ('spinach', 246)]\n",
      "Asian \n",
      " [('ginger', 1680), ('onion', 1150), ('olive', 516), ('mushrooms', 446), ('carrots', 388), ('cabbage', 373), ('spinach', 330), ('cucumber', 291), ('tomato', 258), ('carrot', 256)]\n",
      "Dessert \n",
      " [('ginger', 1196), ('corn', 497), ('pumpkin', 341), ('rhubarb', 281), ('potato', 170), ('olive', 122), ('carrots', 94), ('pea', 87), ('carrot', 67), ('fennel', 61)]\n",
      "East European \n",
      " [('onion', 338), ('potato', 303), ('mushrooms', 180), ('cabbage', 165), ('celery', 136), ('olive', 117), ('horseradish', 93), ('chives', 83), ('carrots', 75), ('squash', 60)]\n",
      "Jewish \n",
      " [('olive', 765), ('onion', 533), ('carrots', 436), ('squash', 376), ('celery', 373), ('potato', 218), ('fennel', 190), ('mushrooms', 155), ('spinach', 146), ('horseradish', 141)]\n",
      "Latin \n",
      " [('onion', 1578), ('olive', 1006), ('corn', 892), ('tomato', 554), ('peppers', 539), ('jalapeño', 472), ('avocado', 385), ('ginger', 178), ('cucumber', 139), ('zucchini', 135)]\n",
      "Middle Eastern \n",
      " [('olive', 2363), ('onion', 1094), ('fennel', 658), ('eggplant', 635), ('tomato', 612), ('zucchini', 445), ('arugula', 425), ('peppers', 413), ('spinach', 398), ('cucumber', 374)]\n",
      "West European \n",
      " [('olive', 2207), ('onion', 1766), ('mushrooms', 1427), ('fennel', 698), ('asparagus', 598), ('celery', 564), ('tomato', 563), ('chives', 550), ('shallot', 527), ('spinach', 453)]\n"
     ]
    }
   ],
   "source": [
    "for c_tag in cuisine_tags:\n",
    "    c = Counter(cuisine_veg[c_tag]).most_common(10)\n",
    "    print(c_tag, '\\n', c)"
   ]
  },
  {
   "cell_type": "markdown",
   "metadata": {
    "heading_collapsed": true
   },
   "source": [
    "# Fruits"
   ]
  },
  {
   "cell_type": "code",
   "execution_count": 467,
   "metadata": {
    "collapsed": true,
    "hidden": true
   },
   "outputs": [],
   "source": [
    "fruits = ['apple', 'apricot','banana','blackberry','blueberry',\n",
    "         'currant','cherry','coconut','cranberry','fig','goji_berry',\n",
    "         'gooseberry','grape','raisin','grapefruit','guava','jackfruit',\n",
    "         'kiwi','kumquat','lemon','lime','lychee','mango','marionberry',\n",
    "         'melon','cantaloupe','honeydew','watermelon','mulberry','nectarine',\n",
    "         'orange','clementine','mandarin_orange','tangerine','papaya',\n",
    "         'passionfruit','peach','pear','persimmon','plantain','plum','prune',\n",
    "         'pineapple','pomegranate','quince','raspberry',\n",
    "         'strawberry','tamarillo','tamarind','yuzu','applesauce','peaches','lemon_peel',\n",
    "         'orange_peel','dried_fruit']"
   ]
  },
  {
   "cell_type": "code",
   "execution_count": 468,
   "metadata": {
    "collapsed": true,
    "hidden": true
   },
   "outputs": [],
   "source": [
    "fruits_plural = [f+'s' if f[-1]!='y' else f[:-1]+'ies' for f in fruits]"
   ]
  },
  {
   "cell_type": "code",
   "execution_count": 470,
   "metadata": {
    "collapsed": true,
    "hidden": true
   },
   "outputs": [],
   "source": [
    "all_fruit = fruits+fruits_plural"
   ]
  },
  {
   "cell_type": "code",
   "execution_count": 473,
   "metadata": {
    "collapsed": true,
    "hidden": true
   },
   "outputs": [],
   "source": [
    "# for each cuisine calculate the probability of a fruit occuring relative to all the other fruits\n",
    "fruit_probs = {}\n",
    "for c_tag in cuisine_tags:\n",
    "    temp_fruit_dict = {m:cuisine_dictionaries[c_tag][m] for m in all_fruit if m in cuisine_dictionaries[c_tag].keys()}\n",
    "    temp_total_fruit = sum(temp_fruit_dict.values())\n",
    "    temp_fruit_dict = {m:(temp_fruit_dict[m]/temp_total_fruit) for m in temp_fruit_dict.keys()}\n",
    "    fruit_probs[c_tag] = temp_fruit_dict"
   ]
  },
  {
   "cell_type": "code",
   "execution_count": 474,
   "metadata": {
    "hidden": true
   },
   "outputs": [
    {
     "data": {
      "text/html": [
       "<div>\n",
       "<style>\n",
       "    .dataframe thead tr:only-child th {\n",
       "        text-align: right;\n",
       "    }\n",
       "\n",
       "    .dataframe thead th {\n",
       "        text-align: left;\n",
       "    }\n",
       "\n",
       "    .dataframe tbody tr th {\n",
       "        vertical-align: top;\n",
       "    }\n",
       "</style>\n",
       "<table border=\"1\" class=\"dataframe\">\n",
       "  <thead>\n",
       "    <tr style=\"text-align: right;\">\n",
       "      <th></th>\n",
       "      <th>African</th>\n",
       "      <th>American</th>\n",
       "      <th>Asian</th>\n",
       "      <th>Dessert</th>\n",
       "      <th>East European</th>\n",
       "      <th>Jewish</th>\n",
       "      <th>Latin</th>\n",
       "      <th>Middle Eastern</th>\n",
       "      <th>West European</th>\n",
       "    </tr>\n",
       "  </thead>\n",
       "  <tbody>\n",
       "    <tr>\n",
       "      <th>apple</th>\n",
       "      <td>0.012730</td>\n",
       "      <td>0.080765</td>\n",
       "      <td>0.043046</td>\n",
       "      <td>0.032440</td>\n",
       "      <td>0.260450</td>\n",
       "      <td>0.083228</td>\n",
       "      <td>0.019110</td>\n",
       "      <td>0.016842</td>\n",
       "      <td>0.041423</td>\n",
       "    </tr>\n",
       "    <tr>\n",
       "      <th>apples</th>\n",
       "      <td>0.005658</td>\n",
       "      <td>0.034361</td>\n",
       "      <td>0.014664</td>\n",
       "      <td>0.041017</td>\n",
       "      <td>0.102894</td>\n",
       "      <td>0.054077</td>\n",
       "      <td>0.003137</td>\n",
       "      <td>0.004374</td>\n",
       "      <td>0.021093</td>\n",
       "    </tr>\n",
       "    <tr>\n",
       "      <th>applesauce</th>\n",
       "      <td>NaN</td>\n",
       "      <td>0.002834</td>\n",
       "      <td>0.000946</td>\n",
       "      <td>0.001911</td>\n",
       "      <td>0.016077</td>\n",
       "      <td>0.002112</td>\n",
       "      <td>NaN</td>\n",
       "      <td>NaN</td>\n",
       "      <td>0.000254</td>\n",
       "    </tr>\n",
       "    <tr>\n",
       "      <th>apricot</th>\n",
       "      <td>0.003536</td>\n",
       "      <td>0.009564</td>\n",
       "      <td>0.003311</td>\n",
       "      <td>0.016131</td>\n",
       "      <td>0.008039</td>\n",
       "      <td>0.009717</td>\n",
       "      <td>0.001141</td>\n",
       "      <td>0.001531</td>\n",
       "      <td>0.005337</td>\n",
       "    </tr>\n",
       "    <tr>\n",
       "      <th>apricots</th>\n",
       "      <td>0.035361</td>\n",
       "      <td>0.010981</td>\n",
       "      <td>0.004730</td>\n",
       "      <td>0.017775</td>\n",
       "      <td>NaN</td>\n",
       "      <td>0.025349</td>\n",
       "      <td>0.002282</td>\n",
       "      <td>0.004812</td>\n",
       "      <td>0.004320</td>\n",
       "    </tr>\n",
       "    <tr>\n",
       "      <th>banana</th>\n",
       "      <td>NaN</td>\n",
       "      <td>0.005313</td>\n",
       "      <td>0.006386</td>\n",
       "      <td>0.014531</td>\n",
       "      <td>0.001608</td>\n",
       "      <td>0.000845</td>\n",
       "      <td>0.003708</td>\n",
       "      <td>NaN</td>\n",
       "      <td>0.003812</td>\n",
       "    </tr>\n",
       "    <tr>\n",
       "      <th>bananas</th>\n",
       "      <td>NaN</td>\n",
       "      <td>NaN</td>\n",
       "      <td>0.000473</td>\n",
       "      <td>0.014665</td>\n",
       "      <td>NaN</td>\n",
       "      <td>0.002535</td>\n",
       "      <td>0.001711</td>\n",
       "      <td>0.000219</td>\n",
       "      <td>0.001017</td>\n",
       "    </tr>\n",
       "    <tr>\n",
       "      <th>blackberries</th>\n",
       "      <td>NaN</td>\n",
       "      <td>0.001063</td>\n",
       "      <td>NaN</td>\n",
       "      <td>0.010621</td>\n",
       "      <td>NaN</td>\n",
       "      <td>0.000422</td>\n",
       "      <td>0.001141</td>\n",
       "      <td>NaN</td>\n",
       "      <td>0.001017</td>\n",
       "    </tr>\n",
       "    <tr>\n",
       "      <th>blackberry</th>\n",
       "      <td>NaN</td>\n",
       "      <td>0.001417</td>\n",
       "      <td>NaN</td>\n",
       "      <td>0.005777</td>\n",
       "      <td>NaN</td>\n",
       "      <td>NaN</td>\n",
       "      <td>0.000856</td>\n",
       "      <td>NaN</td>\n",
       "      <td>0.001271</td>\n",
       "    </tr>\n",
       "    <tr>\n",
       "      <th>blueberries</th>\n",
       "      <td>NaN</td>\n",
       "      <td>0.001063</td>\n",
       "      <td>0.000237</td>\n",
       "      <td>0.016664</td>\n",
       "      <td>0.006431</td>\n",
       "      <td>0.001267</td>\n",
       "      <td>0.000856</td>\n",
       "      <td>0.000656</td>\n",
       "      <td>0.001271</td>\n",
       "    </tr>\n",
       "  </tbody>\n",
       "</table>\n",
       "</div>"
      ],
      "text/plain": [
       "               African  American     Asian   Dessert  East European    Jewish  \\\n",
       "apple         0.012730  0.080765  0.043046  0.032440       0.260450  0.083228   \n",
       "apples        0.005658  0.034361  0.014664  0.041017       0.102894  0.054077   \n",
       "applesauce         NaN  0.002834  0.000946  0.001911       0.016077  0.002112   \n",
       "apricot       0.003536  0.009564  0.003311  0.016131       0.008039  0.009717   \n",
       "apricots      0.035361  0.010981  0.004730  0.017775            NaN  0.025349   \n",
       "banana             NaN  0.005313  0.006386  0.014531       0.001608  0.000845   \n",
       "bananas            NaN       NaN  0.000473  0.014665            NaN  0.002535   \n",
       "blackberries       NaN  0.001063       NaN  0.010621            NaN  0.000422   \n",
       "blackberry         NaN  0.001417       NaN  0.005777            NaN       NaN   \n",
       "blueberries        NaN  0.001063  0.000237  0.016664       0.006431  0.001267   \n",
       "\n",
       "                 Latin  Middle Eastern  West European  \n",
       "apple         0.019110        0.016842       0.041423  \n",
       "apples        0.003137        0.004374       0.021093  \n",
       "applesauce         NaN             NaN       0.000254  \n",
       "apricot       0.001141        0.001531       0.005337  \n",
       "apricots      0.002282        0.004812       0.004320  \n",
       "banana        0.003708             NaN       0.003812  \n",
       "bananas       0.001711        0.000219       0.001017  \n",
       "blackberries  0.001141             NaN       0.001017  \n",
       "blackberry    0.000856             NaN       0.001271  \n",
       "blueberries   0.000856        0.000656       0.001271  "
      ]
     },
     "execution_count": 474,
     "metadata": {},
     "output_type": "execute_result"
    }
   ],
   "source": [
    "df_fruit_probs = pd.DataFrame.from_dict(fruit_probs, orient='columns')\n",
    "df_fruit_probs.head(10)"
   ]
  },
  {
   "cell_type": "code",
   "execution_count": null,
   "metadata": {
    "collapsed": true,
    "hidden": true
   },
   "outputs": [],
   "source": []
  },
  {
   "cell_type": "markdown",
   "metadata": {
    "heading_collapsed": true,
    "hidden": true
   },
   "source": [
    "## fruit probs relative to all cuisine words"
   ]
  },
  {
   "cell_type": "code",
   "execution_count": 132,
   "metadata": {
    "collapsed": true,
    "hidden": true
   },
   "outputs": [],
   "source": [
    "cuisine_fruit = {}\n",
    "for c_tag in cuisine_tags:\n",
    "    temp_fruit_list1 = list(set(cuisine_dictionaries[c_tag].keys()).intersection(set(fruits)))\n",
    "    temp_fruit_list2 = list(set(cuisine_dictionaries[c_tag].keys()).intersection(set(fruits_plural)))\n",
    "    temp_fruit_list = temp_fruit_list1 + temp_fruit_list2\n",
    "    \n",
    "    temp_fruit_dict = defaultdict(int)\n",
    "    for fruit in temp_fruit_list:\n",
    "        temp_fruit_dict[fruit] += cuisine_dictionaries[c_tag][fruit]\n",
    "        \n",
    "    cuisine_fruit[c_tag] = temp_fruit_dict"
   ]
  },
  {
   "cell_type": "code",
   "execution_count": 133,
   "metadata": {
    "hidden": true
   },
   "outputs": [
    {
     "name": "stdout",
     "output_type": "stream",
     "text": [
      "African \n",
      " [('lemon', 554), ('raisins', 110), ('lime', 90), ('orange', 88), ('pomegranate', 61), ('lemons', 59), ('apricots', 50), ('currants', 40), ('dates', 37), ('figs', 20)]\n",
      "American \n",
      " [('lemon', 973), ('orange', 329), ('lime', 264), ('apple', 227), ('plum', 113), ('apples', 90), ('cranberry', 81), ('cherry', 68), ('raisins', 42), ('cranberries', 39)]\n",
      "Asian \n",
      " [('lime', 976), ('lemon', 628), ('coconut', 609), ('orange', 270), ('mango', 227), ('apple', 178), ('pineapple', 130), ('raisins', 95), ('pear', 92), ('tamarind', 80)]\n",
      "Dessert \n",
      " [('lemon', 2980), ('orange', 2262), ('coconut', 1116), ('lime', 932), ('apples', 916), ('strawberries', 739), ('pears', 738), ('apple', 723), ('raspberries', 669), ('pineapple', 594)]\n",
      "East European \n",
      " [('apple', 173), ('lemon', 144), ('apples', 73), ('orange', 40), ('raisins', 25), ('cranberries', 20), ('cranberry', 15), ('melon', 12), ('currant', 12), ('cherry', 12)]\n",
      "Jewish \n",
      " [('lemon', 708), ('orange', 279), ('apple', 177), ('apples', 130), ('raisins', 100), ('lime', 97), ('prunes', 72), ('apricots', 69), ('cranberries', 68), ('pomegranate', 63)]\n",
      "Latin \n",
      " [('lime', 1265), ('lemon', 463), ('orange', 348), ('pineapple', 128), ('mango', 112), ('plum', 103), ('coconut', 72), ('apple', 70), ('raisins', 55), ('cherry', 51)]\n",
      "Middle Eastern \n",
      " [('lemon', 2149), ('orange', 342), ('cherry', 173), ('plum', 152), ('lime', 145), ('pomegranate', 127), ('oranges', 120), ('apple', 82), ('melon', 73), ('grapefruit', 66)]\n",
      "West European \n",
      " [('lemon', 1660), ('orange', 321), ('apple', 156), ('cherry', 112), ('figs', 111), ('plum', 106), ('lime', 83), ('apples', 78), ('pears', 71), ('raisins', 56)]\n"
     ]
    }
   ],
   "source": [
    "for c_tag in cuisine_tags:\n",
    "    c = Counter(cuisine_fruit[c_tag]).most_common(10)\n",
    "    print(c_tag, '\\n', c)"
   ]
  },
  {
   "cell_type": "markdown",
   "metadata": {
    "heading_collapsed": true
   },
   "source": [
    "# Grains"
   ]
  },
  {
   "cell_type": "code",
   "execution_count": 593,
   "metadata": {
    "collapsed": true,
    "hidden": true
   },
   "outputs": [],
   "source": [
    "grains = ['biscuit','bread','appam','arepa','baba','bagel','baguette',\n",
    "        'flatbread','banana_bread','waffle','bialy','bing','bun','boule',\n",
    "        'roll','brioche','breadstick','challah','chapati','pancake','ciabatta',\n",
    "        'cornbread','cracker','crêpe','crouton','crumpet',\n",
    "        'dosa','english_muffin','muffin','donut','focaccia',\n",
    "        'lavash','matzo','naan','pan_dulce','panettone','papadum','paratha',\n",
    "        'piadina','pita','pizza','pretzel','pumpernickel','roti',\n",
    "        'rye_bread','scone','soda_bread','sourdough','teacake',\n",
    "        'french_toast','toast','tortilla','frybread',\n",
    "        'hush_puppy','muffuletta','popover','brownies','cake','casserole',\n",
    "        'crust','strudel','borek','burek','croissant','puff_pastry','choux',\n",
    "        'danish','empanada','galette','jalebi','knish','pitas','cereal','noodles',\n",
    "        'pasta','spaghetti','macaroni','vermicelli','capellini','lasagne','lasagna',\n",
    "        'linguine','bucatini','fusilli','soba','udon','ziti','fettuccine',\n",
    "        'pappardelle','tagliatelle','cannelloni','manicotti',\n",
    "        'penne','acini','agnolotti','ravioli','pierogi','tortellini',\n",
    "        'tortelloni','pelmeni','amaranth','barley','buckwheat','bulgur',\n",
    "        'corn','maize','rice','brown_rice','flour','wheat_flour','rice_flour',\n",
    "        'quinoa','farro','millet','oats','rye','sorghum','teff',\n",
    "        'couscous','flaxseed','flax','grits','cornmeal']\n",
    "\n",
    "grains_plu = [g+'s' for g in grains]"
   ]
  },
  {
   "cell_type": "code",
   "execution_count": 594,
   "metadata": {
    "collapsed": true,
    "hidden": true
   },
   "outputs": [],
   "source": [
    "all_grains = grains+grains_plu\n",
    "all_grains = [g for g in all_grains if g in model_wv]"
   ]
  },
  {
   "cell_type": "code",
   "execution_count": 595,
   "metadata": {
    "collapsed": true,
    "hidden": true
   },
   "outputs": [],
   "source": [
    "# for each cuisine calculate the probability of a grains occuring relative to all the other grainss\n",
    "grains_probs = {}\n",
    "for c_tag in cuisine_tags:\n",
    "    temp_grains_dict = {m:cuisine_dictionaries[c_tag][m] for m in all_grains if m in cuisine_dictionaries[c_tag].keys()}\n",
    "    temp_total_grains = sum(temp_grains_dict.values())\n",
    "    temp_grains_dict = {m:(temp_grains_dict[m]/temp_total_grains) for m in temp_grains_dict.keys()}\n",
    "    grains_probs[c_tag] = temp_grains_dict"
   ]
  },
  {
   "cell_type": "code",
   "execution_count": 596,
   "metadata": {
    "hidden": true
   },
   "outputs": [
    {
     "data": {
      "text/html": [
       "<div>\n",
       "<style>\n",
       "    .dataframe thead tr:only-child th {\n",
       "        text-align: right;\n",
       "    }\n",
       "\n",
       "    .dataframe thead th {\n",
       "        text-align: left;\n",
       "    }\n",
       "\n",
       "    .dataframe tbody tr th {\n",
       "        vertical-align: top;\n",
       "    }\n",
       "</style>\n",
       "<table border=\"1\" class=\"dataframe\">\n",
       "  <thead>\n",
       "    <tr style=\"text-align: right;\">\n",
       "      <th></th>\n",
       "      <th>African</th>\n",
       "      <th>American</th>\n",
       "      <th>Asian</th>\n",
       "      <th>Dessert</th>\n",
       "      <th>East European</th>\n",
       "      <th>Jewish</th>\n",
       "      <th>Latin</th>\n",
       "      <th>Middle Eastern</th>\n",
       "      <th>West European</th>\n",
       "    </tr>\n",
       "  </thead>\n",
       "  <tbody>\n",
       "    <tr>\n",
       "      <th>acini</th>\n",
       "      <td>0.003783</td>\n",
       "      <td>NaN</td>\n",
       "      <td>NaN</td>\n",
       "      <td>NaN</td>\n",
       "      <td>NaN</td>\n",
       "      <td>0.001143</td>\n",
       "      <td>0.000761</td>\n",
       "      <td>NaN</td>\n",
       "      <td>0.000232</td>\n",
       "    </tr>\n",
       "    <tr>\n",
       "      <th>agnolotti</th>\n",
       "      <td>NaN</td>\n",
       "      <td>0.000795</td>\n",
       "      <td>NaN</td>\n",
       "      <td>NaN</td>\n",
       "      <td>NaN</td>\n",
       "      <td>NaN</td>\n",
       "      <td>NaN</td>\n",
       "      <td>NaN</td>\n",
       "      <td>0.002087</td>\n",
       "    </tr>\n",
       "    <tr>\n",
       "      <th>amaranth</th>\n",
       "      <td>0.002522</td>\n",
       "      <td>NaN</td>\n",
       "      <td>0.000624</td>\n",
       "      <td>0.000455</td>\n",
       "      <td>NaN</td>\n",
       "      <td>NaN</td>\n",
       "      <td>0.000761</td>\n",
       "      <td>0.001743</td>\n",
       "      <td>0.000232</td>\n",
       "    </tr>\n",
       "    <tr>\n",
       "      <th>arepa</th>\n",
       "      <td>NaN</td>\n",
       "      <td>0.000953</td>\n",
       "      <td>NaN</td>\n",
       "      <td>NaN</td>\n",
       "      <td>NaN</td>\n",
       "      <td>NaN</td>\n",
       "      <td>0.001014</td>\n",
       "      <td>NaN</td>\n",
       "      <td>NaN</td>\n",
       "    </tr>\n",
       "    <tr>\n",
       "      <th>arepas</th>\n",
       "      <td>NaN</td>\n",
       "      <td>0.000477</td>\n",
       "      <td>NaN</td>\n",
       "      <td>NaN</td>\n",
       "      <td>NaN</td>\n",
       "      <td>NaN</td>\n",
       "      <td>0.000761</td>\n",
       "      <td>NaN</td>\n",
       "      <td>NaN</td>\n",
       "    </tr>\n",
       "    <tr>\n",
       "      <th>baba</th>\n",
       "      <td>NaN</td>\n",
       "      <td>NaN</td>\n",
       "      <td>NaN</td>\n",
       "      <td>0.000511</td>\n",
       "      <td>NaN</td>\n",
       "      <td>NaN</td>\n",
       "      <td>NaN</td>\n",
       "      <td>0.001162</td>\n",
       "      <td>0.000116</td>\n",
       "    </tr>\n",
       "    <tr>\n",
       "      <th>babas</th>\n",
       "      <td>NaN</td>\n",
       "      <td>NaN</td>\n",
       "      <td>NaN</td>\n",
       "      <td>0.000682</td>\n",
       "      <td>NaN</td>\n",
       "      <td>NaN</td>\n",
       "      <td>NaN</td>\n",
       "      <td>NaN</td>\n",
       "      <td>NaN</td>\n",
       "    </tr>\n",
       "    <tr>\n",
       "      <th>bagel</th>\n",
       "      <td>0.002522</td>\n",
       "      <td>0.000477</td>\n",
       "      <td>0.000208</td>\n",
       "      <td>NaN</td>\n",
       "      <td>NaN</td>\n",
       "      <td>0.001143</td>\n",
       "      <td>NaN</td>\n",
       "      <td>NaN</td>\n",
       "      <td>0.000696</td>\n",
       "    </tr>\n",
       "    <tr>\n",
       "      <th>bagels</th>\n",
       "      <td>NaN</td>\n",
       "      <td>NaN</td>\n",
       "      <td>NaN</td>\n",
       "      <td>NaN</td>\n",
       "      <td>NaN</td>\n",
       "      <td>0.000571</td>\n",
       "      <td>NaN</td>\n",
       "      <td>NaN</td>\n",
       "      <td>0.000464</td>\n",
       "    </tr>\n",
       "    <tr>\n",
       "      <th>baguette</th>\n",
       "      <td>0.011349</td>\n",
       "      <td>0.006197</td>\n",
       "      <td>0.003539</td>\n",
       "      <td>0.000625</td>\n",
       "      <td>0.005186</td>\n",
       "      <td>0.006286</td>\n",
       "      <td>0.002536</td>\n",
       "      <td>0.020041</td>\n",
       "      <td>0.020986</td>\n",
       "    </tr>\n",
       "  </tbody>\n",
       "</table>\n",
       "</div>"
      ],
      "text/plain": [
       "            African  American     Asian   Dessert  East European    Jewish  \\\n",
       "acini      0.003783       NaN       NaN       NaN            NaN  0.001143   \n",
       "agnolotti       NaN  0.000795       NaN       NaN            NaN       NaN   \n",
       "amaranth   0.002522       NaN  0.000624  0.000455            NaN       NaN   \n",
       "arepa           NaN  0.000953       NaN       NaN            NaN       NaN   \n",
       "arepas          NaN  0.000477       NaN       NaN            NaN       NaN   \n",
       "baba            NaN       NaN       NaN  0.000511            NaN       NaN   \n",
       "babas           NaN       NaN       NaN  0.000682            NaN       NaN   \n",
       "bagel      0.002522  0.000477  0.000208       NaN            NaN  0.001143   \n",
       "bagels          NaN       NaN       NaN       NaN            NaN  0.000571   \n",
       "baguette   0.011349  0.006197  0.003539  0.000625       0.005186  0.006286   \n",
       "\n",
       "              Latin  Middle Eastern  West European  \n",
       "acini      0.000761             NaN       0.000232  \n",
       "agnolotti       NaN             NaN       0.002087  \n",
       "amaranth   0.000761        0.001743       0.000232  \n",
       "arepa      0.001014             NaN            NaN  \n",
       "arepas     0.000761             NaN            NaN  \n",
       "baba            NaN        0.001162       0.000116  \n",
       "babas           NaN             NaN            NaN  \n",
       "bagel           NaN             NaN       0.000696  \n",
       "bagels          NaN             NaN       0.000464  \n",
       "baguette   0.002536        0.020041       0.020986  "
      ]
     },
     "execution_count": 596,
     "metadata": {},
     "output_type": "execute_result"
    }
   ],
   "source": [
    "df_grains_probs = pd.DataFrame.from_dict(grains_probs, orient='columns')\n",
    "df_grains_probs.head(10)"
   ]
  },
  {
   "cell_type": "markdown",
   "metadata": {
    "heading_collapsed": true,
    "hidden": true
   },
   "source": [
    "## grain probs relative to all cuisine words"
   ]
  },
  {
   "cell_type": "code",
   "execution_count": 135,
   "metadata": {
    "collapsed": true,
    "hidden": true
   },
   "outputs": [],
   "source": [
    "cuisine_grain = {}\n",
    "for c_tag in cuisine_tags:\n",
    "    temp_grain_list1 = list(set(cuisine_dictionaries[c_tag].keys()).intersection(set(grains)))\n",
    "    temp_grain_list2 = list(set(cuisine_dictionaries[c_tag].keys()).intersection(set(refined_grains)))\n",
    "    temp_grain_list = temp_grain_list1 + temp_grain_list2\n",
    "    \n",
    "    temp_grain_dict = defaultdict(int)\n",
    "    for grain in temp_grain_list:\n",
    "        temp_grain_dict[grain] += cuisine_dictionaries[c_tag][grain]\n",
    "        \n",
    "    cuisine_grain[c_tag] = temp_grain_dict"
   ]
  },
  {
   "cell_type": "code",
   "execution_count": 136,
   "metadata": {
    "hidden": true
   },
   "outputs": [
    {
     "name": "stdout",
     "output_type": "stream",
     "text": [
      "African \n",
      " [('rice', 249), ('couscous', 237), ('toast', 54), ('bread', 49), ('quinoa', 27), ('bulgur', 25), ('pasta', 24), ('roll', 24), ('corn', 23), ('pita', 23)]\n",
      "American \n",
      " [('bread', 995), ('corn', 679), ('pasta', 430), ('rice', 367), ('cornmeal', 281), ('roll', 262), ('crust', 173), ('noodles', 148), ('grits', 140), ('pizza', 131)]\n",
      "Asian \n",
      " [('rice', 2183), ('noodles', 742), ('corn', 176), ('bread', 141), ('roll', 138), ('pasta', 115), ('toast', 82), ('cake', 53), ('soba', 41), ('wheat', 40)]\n",
      "Dessert \n",
      " [('cake', 4359), ('crust', 1795), ('roll', 979), ('bread', 610), ('corn', 497), ('oats', 347), ('rice', 334), ('muffin', 309), ('cornmeal', 270), ('toast', 173)]\n",
      "East European \n",
      " [('bread', 118), ('rice', 65), ('corn', 58), ('barley', 56), ('roll', 52), ('noodles', 29), ('cornmeal', 28), ('pancake', 27), ('crust', 26), ('toast', 21)]\n",
      "Jewish \n",
      " [('bread', 194), ('matzo', 120), ('corn', 100), ('rice', 87), ('pasta', 81), ('roll', 78), ('toast', 77), ('quinoa', 51), ('crust', 45), ('cornmeal', 44)]\n",
      "Latin \n",
      " [('corn', 892), ('tortilla', 451), ('rice', 347), ('bread', 210), ('roll', 134), ('pasta', 119), ('toast', 118), ('cornmeal', 98), ('crust', 42), ('quinoa', 38)]\n",
      "Middle Eastern \n",
      " [('pasta', 739), ('bread', 424), ('pita', 255), ('rice', 226), ('couscous', 171), ('toast', 130), ('quinoa', 123), ('corn', 100), ('bulgur', 98), ('penne', 91)]\n",
      "West European \n",
      " [('pasta', 1494), ('bread', 1400), ('roll', 326), ('crust', 271), ('rice', 254), ('toast', 224), ('baguette', 192), ('pizza', 180), ('linguine', 157), ('noodles', 149)]\n"
     ]
    }
   ],
   "source": [
    "for c_tag in cuisine_tags:\n",
    "    c = Counter(cuisine_grain[c_tag]).most_common(10)\n",
    "    print(c_tag, '\\n', c)"
   ]
  },
  {
   "cell_type": "markdown",
   "metadata": {
    "heading_collapsed": true
   },
   "source": [
    "# Dairy"
   ]
  },
  {
   "cell_type": "code",
   "execution_count": 616,
   "metadata": {
    "collapsed": true,
    "hidden": true
   },
   "outputs": [],
   "source": [
    "other_dairy = ['milk','curd','yogurt','butter','buttermilk','cream','clotted_cream',\n",
    "         'condensed_milk','custard','evaporated_milk','ghee','gelato','goat_milk',\n",
    "         'ice_cream','kefir','lassi','sour_cream','whey','whipped_cream','egg',\n",
    "         'omelet','omelette','oeuf']\n",
    "\n",
    "cheese = ['cheese','mozzarella','parmesan','burrata','mascarpone','parmigiano','feta','feta_cheese',\n",
    "         'halloumi','camembert','gruyère','roquefort','emmental','taleggio','fontina','bleu_cheese',\n",
    "         'swiss_cheese','cheddar','cheddar_cheese','paneer','chevre','goat_cheese','havarti',\n",
    "         'cheese_curds','queso','cotija','pepper_jack','ricotta','pecorino','gruyere','gruyere_cheese',\n",
    "         'cream_cheese','monterey_jack','provolone_cheese','gouda','cottage_cheese','asiago',\n",
    "         'asiago_cheese','creme_fraiche']\n",
    "\n",
    "dairy = other_dairy + cheese\n",
    "dairy_plu = [p+'s' for p in dairy]"
   ]
  },
  {
   "cell_type": "code",
   "execution_count": 617,
   "metadata": {
    "collapsed": true,
    "hidden": true
   },
   "outputs": [],
   "source": [
    "for d in dairy:\n",
    "    if d not in model_wv:\n",
    "        print(d)"
   ]
  },
  {
   "cell_type": "code",
   "execution_count": 618,
   "metadata": {
    "collapsed": true,
    "hidden": true
   },
   "outputs": [],
   "source": [
    "all_dairy = dairy + dairy_plu\n",
    "all_dairy = [d for d in all_dairy if d in model_wv]"
   ]
  },
  {
   "cell_type": "code",
   "execution_count": 619,
   "metadata": {
    "collapsed": true,
    "hidden": true
   },
   "outputs": [],
   "source": [
    "# for each cuisine calculate the probability of a dairy occuring relative to all the other dairy\n",
    "dairy_probs = {}\n",
    "for c_tag in cuisine_tags:\n",
    "    temp_dairy_dict = {m:cuisine_dictionaries[c_tag][m] for m in all_dairy if m in cuisine_dictionaries[c_tag].keys()}\n",
    "    temp_total_dairy = sum(temp_dairy_dict.values())\n",
    "    temp_dairy_dict = {m:(temp_dairy_dict[m]/temp_total_dairy) for m in temp_dairy_dict.keys()}\n",
    "    dairy_probs[c_tag] = temp_dairy_dict"
   ]
  },
  {
   "cell_type": "code",
   "execution_count": 620,
   "metadata": {
    "hidden": true
   },
   "outputs": [
    {
     "data": {
      "text/html": [
       "<div>\n",
       "<style>\n",
       "    .dataframe thead tr:only-child th {\n",
       "        text-align: right;\n",
       "    }\n",
       "\n",
       "    .dataframe thead th {\n",
       "        text-align: left;\n",
       "    }\n",
       "\n",
       "    .dataframe tbody tr th {\n",
       "        vertical-align: top;\n",
       "    }\n",
       "</style>\n",
       "<table border=\"1\" class=\"dataframe\">\n",
       "  <thead>\n",
       "    <tr style=\"text-align: right;\">\n",
       "      <th></th>\n",
       "      <th>African</th>\n",
       "      <th>American</th>\n",
       "      <th>Asian</th>\n",
       "      <th>Dessert</th>\n",
       "      <th>East European</th>\n",
       "      <th>Jewish</th>\n",
       "      <th>Latin</th>\n",
       "      <th>Middle Eastern</th>\n",
       "      <th>West European</th>\n",
       "    </tr>\n",
       "  </thead>\n",
       "  <tbody>\n",
       "    <tr>\n",
       "      <th>asiago</th>\n",
       "      <td>NaN</td>\n",
       "      <td>0.000276</td>\n",
       "      <td>0.005791</td>\n",
       "      <td>0.000032</td>\n",
       "      <td>NaN</td>\n",
       "      <td>NaN</td>\n",
       "      <td>NaN</td>\n",
       "      <td>0.002923</td>\n",
       "      <td>0.000474</td>\n",
       "    </tr>\n",
       "    <tr>\n",
       "      <th>burrata</th>\n",
       "      <td>NaN</td>\n",
       "      <td>0.000276</td>\n",
       "      <td>0.001448</td>\n",
       "      <td>NaN</td>\n",
       "      <td>NaN</td>\n",
       "      <td>NaN</td>\n",
       "      <td>0.001265</td>\n",
       "      <td>0.004141</td>\n",
       "      <td>0.001692</td>\n",
       "    </tr>\n",
       "    <tr>\n",
       "      <th>butter</th>\n",
       "      <td>0.482249</td>\n",
       "      <td>0.314511</td>\n",
       "      <td>0.229823</td>\n",
       "      <td>0.231198</td>\n",
       "      <td>0.269692</td>\n",
       "      <td>0.372932</td>\n",
       "      <td>0.142631</td>\n",
       "      <td>0.096468</td>\n",
       "      <td>0.271872</td>\n",
       "    </tr>\n",
       "    <tr>\n",
       "      <th>buttermilk</th>\n",
       "      <td>0.010355</td>\n",
       "      <td>0.028717</td>\n",
       "      <td>0.010134</td>\n",
       "      <td>0.019229</td>\n",
       "      <td>0.019264</td>\n",
       "      <td>0.015038</td>\n",
       "      <td>0.005376</td>\n",
       "      <td>0.011206</td>\n",
       "      <td>0.003451</td>\n",
       "    </tr>\n",
       "    <tr>\n",
       "      <th>butters</th>\n",
       "      <td>NaN</td>\n",
       "      <td>0.000276</td>\n",
       "      <td>NaN</td>\n",
       "      <td>NaN</td>\n",
       "      <td>NaN</td>\n",
       "      <td>NaN</td>\n",
       "      <td>NaN</td>\n",
       "      <td>NaN</td>\n",
       "      <td>NaN</td>\n",
       "    </tr>\n",
       "    <tr>\n",
       "      <th>camembert</th>\n",
       "      <td>NaN</td>\n",
       "      <td>0.000552</td>\n",
       "      <td>NaN</td>\n",
       "      <td>NaN</td>\n",
       "      <td>NaN</td>\n",
       "      <td>NaN</td>\n",
       "      <td>NaN</td>\n",
       "      <td>NaN</td>\n",
       "      <td>0.001353</td>\n",
       "    </tr>\n",
       "    <tr>\n",
       "      <th>cheddar</th>\n",
       "      <td>0.001479</td>\n",
       "      <td>0.029960</td>\n",
       "      <td>0.009410</td>\n",
       "      <td>0.002383</td>\n",
       "      <td>0.017979</td>\n",
       "      <td>0.006015</td>\n",
       "      <td>0.032258</td>\n",
       "      <td>0.001705</td>\n",
       "      <td>0.011164</td>\n",
       "    </tr>\n",
       "    <tr>\n",
       "      <th>cheddar_cheese</th>\n",
       "      <td>0.001479</td>\n",
       "      <td>0.009250</td>\n",
       "      <td>0.002172</td>\n",
       "      <td>0.000709</td>\n",
       "      <td>0.007705</td>\n",
       "      <td>0.001880</td>\n",
       "      <td>0.017394</td>\n",
       "      <td>0.000731</td>\n",
       "      <td>0.004330</td>\n",
       "    </tr>\n",
       "    <tr>\n",
       "      <th>cheddar_cheeses</th>\n",
       "      <td>NaN</td>\n",
       "      <td>NaN</td>\n",
       "      <td>NaN</td>\n",
       "      <td>NaN</td>\n",
       "      <td>NaN</td>\n",
       "      <td>NaN</td>\n",
       "      <td>0.000316</td>\n",
       "      <td>NaN</td>\n",
       "      <td>0.000068</td>\n",
       "    </tr>\n",
       "    <tr>\n",
       "      <th>cheddars</th>\n",
       "      <td>NaN</td>\n",
       "      <td>0.000138</td>\n",
       "      <td>NaN</td>\n",
       "      <td>NaN</td>\n",
       "      <td>NaN</td>\n",
       "      <td>NaN</td>\n",
       "      <td>NaN</td>\n",
       "      <td>NaN</td>\n",
       "      <td>NaN</td>\n",
       "    </tr>\n",
       "  </tbody>\n",
       "</table>\n",
       "</div>"
      ],
      "text/plain": [
       "                  African  American     Asian   Dessert  East European  \\\n",
       "asiago                NaN  0.000276  0.005791  0.000032            NaN   \n",
       "burrata               NaN  0.000276  0.001448       NaN            NaN   \n",
       "butter           0.482249  0.314511  0.229823  0.231198       0.269692   \n",
       "buttermilk       0.010355  0.028717  0.010134  0.019229       0.019264   \n",
       "butters               NaN  0.000276       NaN       NaN            NaN   \n",
       "camembert             NaN  0.000552       NaN       NaN            NaN   \n",
       "cheddar          0.001479  0.029960  0.009410  0.002383       0.017979   \n",
       "cheddar_cheese   0.001479  0.009250  0.002172  0.000709       0.007705   \n",
       "cheddar_cheeses       NaN       NaN       NaN       NaN            NaN   \n",
       "cheddars              NaN  0.000138       NaN       NaN            NaN   \n",
       "\n",
       "                   Jewish     Latin  Middle Eastern  West European  \n",
       "asiago                NaN       NaN        0.002923       0.000474  \n",
       "burrata               NaN  0.001265        0.004141       0.001692  \n",
       "butter           0.372932  0.142631        0.096468       0.271872  \n",
       "buttermilk       0.015038  0.005376        0.011206       0.003451  \n",
       "butters               NaN       NaN             NaN            NaN  \n",
       "camembert             NaN       NaN             NaN       0.001353  \n",
       "cheddar          0.006015  0.032258        0.001705       0.011164  \n",
       "cheddar_cheese   0.001880  0.017394        0.000731       0.004330  \n",
       "cheddar_cheeses       NaN  0.000316             NaN       0.000068  \n",
       "cheddars              NaN       NaN             NaN            NaN  "
      ]
     },
     "execution_count": 620,
     "metadata": {},
     "output_type": "execute_result"
    }
   ],
   "source": [
    "df_dairy_probs = pd.DataFrame.from_dict(dairy_probs, orient='columns')\n",
    "df_dairy_probs.head(10)"
   ]
  },
  {
   "cell_type": "code",
   "execution_count": 621,
   "metadata": {
    "hidden": true
   },
   "outputs": [
    {
     "data": {
      "text/plain": [
       "African                NaN\n",
       "American          0.000138\n",
       "Asian                  NaN\n",
       "Dessert                NaN\n",
       "East European          NaN\n",
       "Jewish                 NaN\n",
       "Latin                  NaN\n",
       "Middle Eastern         NaN\n",
       "West European          NaN\n",
       "Name: cheddars, dtype: float64"
      ]
     },
     "execution_count": 621,
     "metadata": {},
     "output_type": "execute_result"
    }
   ],
   "source": [
    "df_dairy_probs.loc['cheddars']"
   ]
  },
  {
   "cell_type": "markdown",
   "metadata": {
    "heading_collapsed": true,
    "hidden": true
   },
   "source": [
    "## dairy probs relative to all cuisine words"
   ]
  },
  {
   "cell_type": "code",
   "execution_count": 139,
   "metadata": {
    "collapsed": true,
    "hidden": true
   },
   "outputs": [],
   "source": [
    "cuisine_dairy = {}\n",
    "for c_tag in cuisine_tags:\n",
    "    temp_dairy_list = list(set(cuisine_dictionaries[c_tag].keys()).intersection(set(dairy)))\n",
    "    \n",
    "    temp_dairy_dict = defaultdict(int)\n",
    "    for d in temp_dairy_list:\n",
    "        temp_dairy_dict[d] += cuisine_dictionaries[c_tag][d]\n",
    "        \n",
    "    cuisine_dairy[c_tag] = temp_dairy_dict"
   ]
  },
  {
   "cell_type": "code",
   "execution_count": 140,
   "metadata": {
    "hidden": true
   },
   "outputs": [
    {
     "name": "stdout",
     "output_type": "stream",
     "text": [
      "African \n",
      " [('butter', 270), ('yogurt', 93), ('egg', 38), ('cheese', 31), ('eggs', 30), ('milk', 27), ('cream', 23), ('feta', 10), ('ghee', 10), ('creamy', 5)]\n",
      "American \n",
      " [('butter', 2556), ('cheese', 1206), ('cream', 738), ('egg', 670), ('eggs', 630), ('milk', 486), ('buttermilk', 227), ('yogurt', 95), ('creamy', 61), ('feta', 36)]\n",
      "Asian \n",
      " [('butter', 632), ('milk', 453), ('yogurt', 332), ('egg', 318), ('cream', 266), ('eggs', 244), ('cheese', 168), ('creamy', 41), ('buttermilk', 27), ('ghee', 15)]\n",
      "Dessert \n",
      " [('cream', 7763), ('butter', 7168), ('egg', 3328), ('milk', 2527), ('eggs', 2278), ('cheese', 1154), ('custard', 1013), ('yogurt', 601), ('buttermilk', 588), ('curd', 236)]\n",
      "East European \n",
      " [('butter', 682), ('cream', 459), ('cheese', 291), ('milk', 206), ('egg', 154), ('eggs', 131), ('buttermilk', 44), ('yogurt', 40), ('creamy', 16), ('feta', 7)]\n",
      "Jewish \n",
      " [('butter', 840), ('eggs', 306), ('cheese', 297), ('cream', 215), ('egg', 198), ('milk', 140), ('yogurt', 78), ('buttermilk', 30), ('creamy', 16), ('feta', 8)]\n",
      "Latin \n",
      " [('cheese', 734), ('butter', 450), ('cream', 415), ('eggs', 238), ('egg', 173), ('milk', 137), ('yogurt', 84), ('feta', 50), ('creamy', 30), ('omelet', 18)]\n",
      "Middle Eastern \n",
      " [('cheese', 1056), ('feta', 508), ('yogurt', 501), ('butter', 348), ('egg', 208), ('eggs', 199), ('cream', 170), ('milk', 116), ('buttermilk', 48), ('creamy', 29)]\n",
      "West European \n",
      " [('butter', 3957), ('cheese', 2975), ('cream', 1545), ('eggs', 964), ('egg', 869), ('milk', 674), ('creamy', 135), ('feta', 70), ('custard', 66), ('buttermilk', 56)]\n"
     ]
    }
   ],
   "source": [
    "for c_tag in cuisine_tags:\n",
    "    c = Counter(cuisine_dairy[c_tag]).most_common(10)\n",
    "    print(c_tag, '\\n', c)"
   ]
  },
  {
   "cell_type": "markdown",
   "metadata": {
    "heading_collapsed": true
   },
   "source": [
    "# Number of Ingredients"
   ]
  },
  {
   "cell_type": "code",
   "execution_count": 96,
   "metadata": {
    "collapsed": true,
    "hidden": true
   },
   "outputs": [],
   "source": [
    "cuisine_ing_num = {}\n",
    "for c_tag in cuisine_tags:\n",
    "    temp_ing_num_list = [len(df_cbow.iloc[i].ingredients) \n",
    "                         for i in range(len(df_cbow)) if df_cbow.iloc[i].tags_kmeans == c_tag]\n",
    "    cuisine_ing_num[c_tag] = temp_ing_num_list\n",
    "    \n",
    "    "
   ]
  },
  {
   "cell_type": "code",
   "execution_count": 100,
   "metadata": {
    "hidden": true
   },
   "outputs": [
    {
     "name": "stdout",
     "output_type": "stream",
     "text": [
      "African 10.4892561983\n",
      "American 10.8108668602\n",
      "Asian 11.3326435592\n",
      "Dessert 10.0206278027\n",
      "East European 9.00406504065\n",
      "Jewish 9.68743818002\n",
      "Latin 10.5471938776\n",
      "Middle Eastern 9.63716356108\n",
      "West European 9.92625661376\n"
     ]
    }
   ],
   "source": [
    "for c_tag in cuisine_tags:\n",
    "    print(c_tag, np.mean(cuisine_ing_num[c_tag]))\n"
   ]
  },
  {
   "cell_type": "markdown",
   "metadata": {},
   "source": [
    "# Cuisine Profiles"
   ]
  },
  {
   "cell_type": "code",
   "execution_count": 640,
   "metadata": {
    "collapsed": true
   },
   "outputs": [],
   "source": [
    "df_meat_probs.to_pickle('df_meat.pkl')\n",
    "df_seas_probs.to_pickle('df_seasonings.pkl')\n",
    "df_veg_probs.to_pickle('df_veg.pkl')\n",
    "df_fruit_probs.to_pickle('df_fruit.pkl')\n",
    "df_grains_probs.to_pickle('df_grains.pkl')\n",
    "df_dairy_probs.to_pickle('df_dairy.pkl')"
   ]
  },
  {
   "cell_type": "code",
   "execution_count": 641,
   "metadata": {
    "collapsed": true
   },
   "outputs": [],
   "source": [
    "df_cond_probs.to_pickle('df_condiments.pkl')"
   ]
  },
  {
   "cell_type": "code",
   "execution_count": 141,
   "metadata": {
    "collapsed": true
   },
   "outputs": [],
   "source": [
    "# meats, spices/herbs, spiciness, vegetables, fruits, grains, dairy\n",
    "# find most common top 5 for each cuisine, such that not all cuisines share any all the same\n",
    "# try using text/strings instead of the cbows to find two word phrases like 'bell pepper'\n",
    "# go back to cbow creation for ingredients and also extract the quantities to create weights \n",
    "#     for ingredients when searching for replaceable ingredients\n",
    "# don't search for a similar recipe - search for replaceable ingredient then find the \n",
    "#     replacement within the profile of the desired cuisine...\n",
    "#   1. tag ingredients\n",
    "#       -- divide into:\n",
    "#           basics:(flour, oil, butter, water, broth, salt, pepper, garlic)\n",
    "#           seasonings: (spices, herbs)\n",
    "#           bulk: (grains, refined grains, vegetables, fruits, meats)\n",
    "#           dietary: (dairy, meats, ie. what can be made vegetarian or vegan or GF?)\n",
    "#   2. decide what to keep and what to change:\n",
    "#       -- basics are always left (unless specified for a dietary change)\n",
    "#       -- the main bulk can be chosen by amount\n",
    "\n",
    "# is it possible to compare a single ingredient vector to a cuisine vector? would that make\n",
    "# sense? then pick the bulk ingredient least like the alternate cuisine and change it \n",
    "# to something that is part of the alternate cuisine to make the recipe more similar?\n",
    "# can verify if new recipe vector is more similar to desired cuisine vector than before..."
   ]
  },
  {
   "cell_type": "code",
   "execution_count": 144,
   "metadata": {},
   "outputs": [
    {
     "data": {
      "text/plain": [
       "[['olive', 'oil'],\n",
       " ['finely', 'chopped', 'shallots'],\n",
       " ['minced', 'fresh', 'rosemary'],\n",
       " ['yams',\n",
       "  'red',\n",
       "  'skinned',\n",
       "  'sweet',\n",
       "  'potatoes',\n",
       "  'peeled',\n",
       "  'cut',\n",
       "  'into',\n",
       "  'inch',\n",
       "  'thick',\n",
       "  'rounds',\n",
       "  'rounds',\n",
       "  'cut',\n",
       "  'in',\n",
       "  'half'],\n",
       " ['canned', 'low', 'salt', 'chicken', 'broth'],\n",
       " ['whipping', 'cream'],\n",
       " ['ground', 'nutmeg']]"
      ]
     },
     "execution_count": 144,
     "metadata": {},
     "output_type": "execute_result"
    }
   ],
   "source": [
    "df_cbow.iloc[10].ingredients"
   ]
  },
  {
   "cell_type": "code",
   "execution_count": 148,
   "metadata": {},
   "outputs": [
    {
     "data": {
      "text/plain": [
       "['4 teaspoons olive oil',\n",
       " '1/2 cup finely chopped shallots',\n",
       " '2 1/2 teaspoons minced fresh rosemary',\n",
       " '3 pounds yams (red-skinned sweet potatoes), peeled, cut into 1/2-inch-thick rounds, rounds cut in half',\n",
       " '1 1/4 cups canned low-salt chicken broth',\n",
       " '1/2 cup whipping cream',\n",
       " 'Ground nutmeg']"
      ]
     },
     "execution_count": 148,
     "metadata": {},
     "output_type": "execute_result"
    }
   ],
   "source": [
    "df_text.iloc[10].ingredients"
   ]
  },
  {
   "cell_type": "code",
   "execution_count": 324,
   "metadata": {},
   "outputs": [
    {
     "name": "stdout",
     "output_type": "stream",
     "text": [
      "stock [[ 0.18952313]]\n",
      "lentils [[ 0.66408736]]\n",
      "celery [[ 0.72991252]]\n",
      "carrot [[ 0.46485993]]\n",
      "thyme [[ 0.7141512]]\n",
      "tomato [[ 0.66108298]]\n",
      "apple [[ 0.5464794]]\n",
      "lemon [[ 0.66087925]]\n",
      "lavash [[ 0.65737915]]\n",
      "turkey [[ 0.54219705]]\n",
      "lettuce [[ 0.64197677]]\n"
     ]
    }
   ],
   "source": [
    "inglist = ['stock','lentils','celery','carrot','thyme','tomato','apple','lemon','lavash','turkey',\n",
    "          'lettuce']\n",
    "for word in inglist:\n",
    "    print(word, cosine_similarity(j_stack, model[word]))\n",
    "# df_vec.recipe_vector[0]"
   ]
  },
  {
   "cell_type": "code",
   "execution_count": 333,
   "metadata": {},
   "outputs": [
    {
     "name": "stdout",
     "output_type": "stream",
     "text": [
      "stock [[ 0.19047691]]\n",
      "lentils [[ 0.58119452]]\n",
      "celery [[ 0.6523118]]\n",
      "carrot [[ 0.44719517]]\n",
      "thyme [[ 0.63600814]]\n",
      "tomato [[ 0.57489759]]\n",
      "apple [[ 0.57048422]]\n",
      "lemon [[ 0.68675697]]\n",
      "lavash [[ 0.63844728]]\n",
      "turkey [[ 0.46678895]]\n",
      "lettuce [[ 0.5333935]]\n"
     ]
    }
   ],
   "source": [
    "for word in inglist:\n",
    "    print(word, cosine_similarity(d_stack, model[word]))"
   ]
  },
  {
   "cell_type": "code",
   "execution_count": 340,
   "metadata": {},
   "outputs": [
    {
     "data": {
      "text/plain": [
       "True"
      ]
     },
     "execution_count": 340,
     "metadata": {},
     "output_type": "execute_result"
    }
   ],
   "source": [
    "'chile_paste' in model.wv"
   ]
  },
  {
   "cell_type": "code",
   "execution_count": 334,
   "metadata": {},
   "outputs": [
    {
     "data": {
      "text/plain": [
       "[['inch', 'thick', 'slice', 'peeled', 'fresh', 'ginger'],\n",
       " ['asian', 'sesame', 'paste', 'or', 'smooth', 'peanut', 'butter'],\n",
       " ['asian', 'sesame', 'oil'],\n",
       " ['rice', 'vinegar', 'not', 'seasoned'],\n",
       " ['sugar'],\n",
       " ['water'],\n",
       " ['asian', 'chile', 'paste', 'with', 'garlic'],\n",
       " ['salt'],\n",
       " ['asian', 'pear', 'large', 'or', 'medium'],\n",
       " ['trimmed', 'watercress', 'sprigs', 'from', 'bunches', 'oz'],\n",
       " ['carrot', 'finely', 'shredded'],\n",
       " ['vailable',\n",
       "  'at',\n",
       "  'some',\n",
       "  'asian',\n",
       "  'markets',\n",
       "  'and',\n",
       "  'by',\n",
       "  'mail',\n",
       "  'order',\n",
       "  'from',\n",
       "  'ethnic',\n",
       "  'grocer']]"
      ]
     },
     "execution_count": 334,
     "metadata": {},
     "output_type": "execute_result"
    }
   ],
   "source": [
    "pd.options.display.max_colwidth = 200\n",
    "df_cbow.iloc[20].ingredients"
   ]
  },
  {
   "cell_type": "code",
   "execution_count": 304,
   "metadata": {
    "collapsed": true
   },
   "outputs": [],
   "source": [
    "j_stack = np.mean(np.vstack(df_vec[df_tags.kmeans_rec=='Jewish'].recipe_vector), axis=0)"
   ]
  },
  {
   "cell_type": "code",
   "execution_count": 307,
   "metadata": {
    "collapsed": true
   },
   "outputs": [],
   "source": [
    "af_stack = np.mean(np.vstack(df_vec[df_tags.kmeans_rec=='African'].recipe_vector), axis=0)"
   ]
  },
  {
   "cell_type": "code",
   "execution_count": 325,
   "metadata": {
    "collapsed": true
   },
   "outputs": [],
   "source": [
    "as_stack = np.mean(np.vstack(df_vec[df_tags.kmeans_rec=='Asian'].recipe_vector), axis=0)"
   ]
  },
  {
   "cell_type": "code",
   "execution_count": 327,
   "metadata": {
    "collapsed": true
   },
   "outputs": [],
   "source": [
    "me_stack = np.mean(np.vstack(df_vec[df_tags.kmeans_rec=='Middle Eastern'].recipe_vector), axis=0)"
   ]
  },
  {
   "cell_type": "code",
   "execution_count": 329,
   "metadata": {
    "collapsed": true
   },
   "outputs": [],
   "source": [
    "we_stack = np.mean(np.vstack(df_vec[df_tags.kmeans_rec=='West European'].recipe_vector), axis=0)"
   ]
  },
  {
   "cell_type": "code",
   "execution_count": 332,
   "metadata": {
    "collapsed": true
   },
   "outputs": [],
   "source": [
    "d_stack = np.mean(np.vstack(df_vec[df_tags.kmeans_rec=='Dessert'].recipe_vector), axis=0)"
   ]
  },
  {
   "cell_type": "code",
   "execution_count": 321,
   "metadata": {
    "collapsed": true
   },
   "outputs": [],
   "source": [
    "j_stack_ing = np.mean((df_vec[df_tags.kmeans_rec=='Jewish'].ingredient_avg), axis=0)"
   ]
  },
  {
   "cell_type": "code",
   "execution_count": 331,
   "metadata": {},
   "outputs": [
    {
     "data": {
      "text/plain": [
       "Index(['title', 'ingredient_ind', 'ingredient_avg', 'directions_ind',\n",
       "       'directions_avg', 'recipe_vector'],\n",
       "      dtype='object')"
      ]
     },
     "execution_count": 331,
     "metadata": {},
     "output_type": "execute_result"
    }
   ],
   "source": [
    "df_vec.columns"
   ]
  },
  {
   "cell_type": "code",
   "execution_count": null,
   "metadata": {
    "collapsed": true
   },
   "outputs": [],
   "source": []
  }
 ],
 "metadata": {
  "kernelspec": {
   "display_name": "Python 3",
   "language": "python",
   "name": "python3"
  },
  "language_info": {
   "codemirror_mode": {
    "name": "ipython",
    "version": 3
   },
   "file_extension": ".py",
   "mimetype": "text/x-python",
   "name": "python",
   "nbconvert_exporter": "python",
   "pygments_lexer": "ipython3",
   "version": "3.6.1"
  },
  "toc": {
   "nav_menu": {},
   "number_sections": true,
   "sideBar": true,
   "skip_h1_title": false,
   "toc_cell": false,
   "toc_position": {
    "height": "699px",
    "left": "0px",
    "right": "959px",
    "top": "107px",
    "width": "204px"
   },
   "toc_section_display": "block",
   "toc_window_display": true
  }
 },
 "nbformat": 4,
 "nbformat_minor": 2
}
